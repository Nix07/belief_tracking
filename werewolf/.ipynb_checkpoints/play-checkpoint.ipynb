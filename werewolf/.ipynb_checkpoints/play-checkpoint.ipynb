{
 "cells": [
  {
   "cell_type": "code",
   "execution_count": 1,
   "id": "3c7a0b0d",
   "metadata": {},
   "outputs": [],
   "source": [
    "import random\n",
    "import os\n",
    "import sys\n",
    "import torch\n",
    "import fire\n",
    "from tqdm import tqdm\n",
    "\n",
    "import warnings\n",
    "warnings.filterwarnings(\"ignore\")\n",
    "\n",
    "%load_ext autoreload\n",
    "%autoreload 2"
   ]
  },
  {
   "cell_type": "code",
   "execution_count": 2,
   "id": "45c5bbf2",
   "metadata": {},
   "outputs": [],
   "source": [
    "sys.path.append(\"../\")\n",
    "from utils import (\n",
    "    load_model_tokenzier,\n",
    "    compute_role_description,\n",
    "    NewLineStoppingCriteria,\n",
    "    compute_final_roles,\n",
    "    ask_mental_state_questions,\n",
    ")"
   ]
  },
  {
   "cell_type": "code",
   "execution_count": 3,
   "id": "4a3a8f03",
   "metadata": {},
   "outputs": [],
   "source": [
    "device = torch.device(\"cuda\" if torch.cuda.is_available() else \"cpu\")\n",
    "player_names = [\n",
    "    \"Alice\",\n",
    "    \"Bob\",\n",
    "    \"Charlie\",\n",
    "    \"David\",\n",
    "    \"Eve\",\n",
    "    \"Frank\",\n",
    "    \"Grace\",\n",
    "    \"Heidi\",\n",
    "    \"Ivan\",\n",
    "    \"Judy\",\n",
    "]\n",
    "player_roles = [\"Villager\", \"Werewolf\", \"Troublemaker\"]\n",
    "\n",
    "with open(\"/data/nikhil_prakash/mind/werewolf/game_description.txt\", \"r\") as f:\n",
    "    game_description = f.read()"
   ]
  },
  {
   "cell_type": "code",
   "execution_count": 4,
   "id": "ce0531e5",
   "metadata": {},
   "outputs": [],
   "source": [
    "# Delete all .txt and .csv files in the conversations folder\n",
    "def delete_exists():\n",
    "    for file in os.listdir(\"/data/nikhil_prakash/mind/werewolf/conversations\"):\n",
    "        if file.endswith(\".txt\") or file.endswith(\".csv\"):\n",
    "            os.remove(os.path.join(\"/data/nikhil_prakash/mind/werewolf/conversations\", file))"
   ]
  },
  {
   "cell_type": "code",
   "execution_count": 5,
   "id": "2302ce80",
   "metadata": {},
   "outputs": [],
   "source": [
    "def play_werewolf(\n",
    "    model_name: str = \"daryl149/llama-2-70b-chat-hf\",\n",
    "    precision: str = \"int4\",\n",
    "    n_games: int = 10,\n",
    "    n_players: int = 3,\n",
    "    n_rounds: int = 5,\n",
    "):\n",
    "    model, tokenizer = load_model_tokenzier(model_name, precision, device)\n",
    "    delete_exists()\n",
    "\n",
    "    for game_idx in range(n_games):\n",
    "        players = [\n",
    "            {\"name\": name, \"role\": role}\n",
    "            for name, role in zip(random.sample(player_names, n_players), player_roles * n_players)\n",
    "        ]\n",
    "        players = compute_final_roles(players)\n",
    "        players = compute_role_description(players)\n",
    "\n",
    "        stopping_criteria = NewLineStoppingCriteria(tokenizer)\n",
    "\n",
    "        with torch.no_grad():\n",
    "            for round_idx in tqdm(range(n_rounds), total=n_rounds):\n",
    "                for player_idx in range(n_players):\n",
    "                    player = players[player_idx]\n",
    "                    prompt = f\"{game_description}\\n\\n{player['role_description']}\\n\\n\"\n",
    "\n",
    "                    if os.path.exists(\n",
    "                        f\"/data/nikhil_prakash/mind/werewolf/conversations/{game_idx}.txt\"\n",
    "                    ):\n",
    "                        with open(\n",
    "                            f\"/data/nikhil_prakash/mind/werewolf/conversations/{game_idx}.txt\", \"r\"\n",
    "                        ) as f:\n",
    "                            conversation = f.read()\n",
    "                    else:\n",
    "                        conversation = \"\"\n",
    "\n",
    "                    prompt += f\"DAY PHASE:\\n{conversation}\\n{player['name']} talks:\"\n",
    "#                     print(prompt)\n",
    "\n",
    "                    inputs = tokenizer(prompt, return_tensors=\"pt\").to(device)\n",
    "                    outputs = model.generate(\n",
    "                        **inputs,\n",
    "                        max_new_tokens=100,\n",
    "                        num_return_sequences=1,\n",
    "                        temperature=0.00,\n",
    "                        do_sample=False,\n",
    "                        stopping_criteria=[stopping_criteria],\n",
    "                        early_stopping=True,\n",
    "                    )\n",
    "                    response = tokenizer.decode(outputs[0], skip_special_tokens=True)\n",
    "#                     print(f\"{player['name']} talks: {response[len(prompt) :].strip()}\")\n",
    "\n",
    "                    with open(\n",
    "                        f\"/data/nikhil_prakash/mind/werewolf/conversations/{game_idx}.txt\", \"a+\"\n",
    "                    ) as f:\n",
    "                        f.write(f\"{player['name']} talks: {response[len(prompt) :].strip()}\\n\")\n",
    "\n",
    "            own_vote, other_votes = ask_mental_state_questions(\n",
    "                model, tokenizer, device, players, game_description, game_idx, conversation\n",
    "            )\n",
    "\n",
    "            with open(f\"./conversations/{game_idx}.csv\", \"w\") as f:\n",
    "                f.write(\"Name,Role,Final Role,Own Vote,Other Votes\\n\")\n",
    "                for player in players:\n",
    "                    f.write(f\"{player['name']},{player['role']},{player['final_role']},{own_vote[player['name']]},{other_votes[player['name']]}\\n\")"
   ]
  },
  {
   "cell_type": "code",
   "execution_count": null,
   "id": "96d48498",
   "metadata": {},
   "outputs": [
    {
     "data": {
      "application/vnd.jupyter.widget-view+json": {
       "model_id": "6bbe250eae2041d1b5c5ec49bf6bb82e",
       "version_major": 2,
       "version_minor": 0
      },
      "text/plain": [
       "Loading checkpoint shards:   0%|          | 0/15 [00:00<?, ?it/s]"
      ]
     },
     "metadata": {},
     "output_type": "display_data"
    },
    {
     "name": "stderr",
     "output_type": "stream",
     "text": [
      "100%|██████████| 5/5 [04:09<00:00, 49.84s/it]\n"
     ]
    },
    {
     "name": "stdout",
     "output_type": "stream",
     "text": [
      "QUESTION: Who would you vote for?\n",
      "Options: A: Alice, B: Bob, C: Eve, D: Not sure\n",
      "Answer:\n",
      "QUESTION: Who would Bob vote for?\n",
      "Options: A: Alice, B: Bob, C: Eve, D: Not sure\n",
      "Answer:\n",
      "QUESTION: Who would Alice vote for?\n",
      "Options: A: Alice, B: Bob, C: Eve, D: Not sure\n",
      "Answer:\n",
      "QUESTION: Who would you vote for?\n",
      "Options: A: Bob, B: Eve, C: Alice, D: Not sure\n",
      "Answer:\n",
      "QUESTION: Who would Eve vote for?\n",
      "Options: A: Bob, B: Eve, C: Alice, D: Not sure\n",
      "Answer:\n",
      "QUESTION: Who would Alice vote for?\n",
      "Options: A: Bob, B: Eve, C: Alice, D: Not sure\n",
      "Answer:\n",
      "QUESTION: Who would you vote for?\n",
      "Options: A: Eve, B: Bob, C: Alice, D: Not sure\n",
      "Answer:\n",
      "QUESTION: Who would Eve vote for?\n",
      "Options: A: Eve, B: Bob, C: Alice, D: Not sure\n",
      "Answer:\n",
      "QUESTION: Who would Bob vote for?\n",
      "Options: A: Eve, B: Bob, C: Alice, D: Not sure\n",
      "Answer:\n"
     ]
    },
    {
     "name": "stderr",
     "output_type": "stream",
     "text": [
      "100%|██████████| 5/5 [03:23<00:00, 40.66s/it]\n"
     ]
    },
    {
     "name": "stdout",
     "output_type": "stream",
     "text": [
      "QUESTION: Who would you vote for?\n",
      "Options: A: Ivan, B: Alice, C: Frank, D: Not sure\n",
      "Answer:\n",
      "QUESTION: Who would Frank vote for?\n",
      "Options: A: Ivan, B: Alice, C: Frank, D: Not sure\n",
      "Answer:\n",
      "QUESTION: Who would Ivan vote for?\n",
      "Options: A: Ivan, B: Alice, C: Frank, D: Not sure\n",
      "Answer:\n",
      "QUESTION: Who would you vote for?\n",
      "Options: A: Frank, B: Alice, C: Ivan, D: Not sure\n",
      "Answer:\n",
      "QUESTION: Who would Alice vote for?\n",
      "Options: A: Frank, B: Alice, C: Ivan, D: Not sure\n",
      "Answer:\n"
     ]
    }
   ],
   "source": [
    "play_werewolf(\n",
    "    model_name = \"daryl149/llama-2-70b-chat-hf\",\n",
    "    precision = \"int4\",\n",
    "    n_games = 10,\n",
    "    n_players = 3,\n",
    "    n_rounds = 5,\n",
    ")"
   ]
  },
  {
   "cell_type": "code",
   "execution_count": null,
   "id": "288dfcd2",
   "metadata": {},
   "outputs": [],
   "source": []
  }
 ],
 "metadata": {
  "kernelspec": {
   "display_name": "Python 3 (ipykernel)",
   "language": "python",
   "name": "python3"
  },
  "language_info": {
   "codemirror_mode": {
    "name": "ipython",
    "version": 3
   },
   "file_extension": ".py",
   "mimetype": "text/x-python",
   "name": "python",
   "nbconvert_exporter": "python",
   "pygments_lexer": "ipython3",
   "version": "3.10.4"
  }
 },
 "nbformat": 4,
 "nbformat_minor": 5
}
