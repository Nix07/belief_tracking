{
 "cells": [
  {
   "cell_type": "code",
   "execution_count": 1,
   "id": "3c7a0b0d",
   "metadata": {},
   "outputs": [],
   "source": [
    "import json\n",
    "import random\n",
    "import os\n",
    "import sys\n",
    "import torch\n",
    "import fire\n",
    "from tqdm import tqdm\n",
    "from collections import defaultdict\n",
    "\n",
    "import warnings\n",
    "warnings.filterwarnings(\"ignore\")\n",
    "\n",
    "%load_ext autoreload\n",
    "%autoreload 2"
   ]
  },
  {
   "cell_type": "code",
   "execution_count": 2,
   "id": "45c5bbf2",
   "metadata": {},
   "outputs": [],
   "source": [
    "sys.path.append(\"../\")\n",
    "from utils import (\n",
    "    load_model_tokenzier,\n",
    "    compute_role_description,\n",
    "    NewLineStoppingCriteria,\n",
    "    compute_final_roles,\n",
    "    ask_mental_state_questions,\n",
    ")"
   ]
  },
  {
   "cell_type": "code",
   "execution_count": 3,
   "id": "4a3a8f03",
   "metadata": {},
   "outputs": [],
   "source": [
    "device = torch.device(\"cuda\" if torch.cuda.is_available() else \"cpu\")\n",
    "player_names = [\n",
    "    \"Alice\",\n",
    "    \"Bob\",\n",
    "    \"Charlie\",\n",
    "    \"David\",\n",
    "    \"Eve\",\n",
    "    \"Frank\",\n",
    "    \"Grace\",\n",
    "    \"Heidi\",\n",
    "    \"Ivan\",\n",
    "    \"Judy\",\n",
    "]\n",
    "player_roles = [\"Villager\", \"Werewolf\", \"Troublemaker\"]\n",
    "\n",
    "with open(\"/data/nikhil_prakash/mind/werewolf/game_description.txt\", \"r\") as f:\n",
    "    game_description = f.read()"
   ]
  },
  {
   "cell_type": "code",
   "execution_count": 4,
   "id": "ce0531e5",
   "metadata": {},
   "outputs": [],
   "source": [
    "# Delete all .txt and .csv files in the conversations folder\n",
    "def delete_exists():\n",
    "    for file in os.listdir(\"/data/nikhil_prakash/mind/werewolf/conversations\"):\n",
    "        if file.endswith(\".txt\") or file.endswith(\".csv\"):\n",
    "            os.remove(os.path.join(\"/data/nikhil_prakash/mind/werewolf/conversations\", file))"
   ]
  },
  {
   "cell_type": "code",
   "execution_count": 5,
   "id": "2302ce80",
   "metadata": {},
   "outputs": [],
   "source": [
    "def play_werewolf(\n",
    "    model_name: str = \"daryl149/llama-2-70b-chat-hf\",\n",
    "    precision: str = \"int4\",\n",
    "    n_games: int = 10,\n",
    "    n_players: int = 3,\n",
    "    n_rounds: int = 5,\n",
    "):\n",
    "    model, tokenizer = load_model_tokenzier(model_name, precision, device)\n",
    "    delete_exists()\n",
    "\n",
    "    for game_idx in range(n_games):\n",
    "        random.shuffle(player_roles)\n",
    "        players = [\n",
    "            {\"name\": name, \"role\": role}\n",
    "            for name, role in zip(random.sample(player_names, n_players), player_roles)\n",
    "        ]\n",
    "        players = compute_final_roles(players)\n",
    "        players = compute_role_description(players)\n",
    "\n",
    "        stopping_criteria = NewLineStoppingCriteria(tokenizer)\n",
    "\n",
    "        with torch.no_grad():\n",
    "            for round_idx in tqdm(range(n_rounds), total=n_rounds):\n",
    "                for player_idx in range(n_players):\n",
    "                    player = players[player_idx]\n",
    "                    prompt = f\"{game_description}\\n\\n{player['role_description']}\\n\\n\"\n",
    "\n",
    "                    if os.path.exists(\n",
    "                        f\"/data/nikhil_prakash/mind/werewolf/conversations/{game_idx}.txt\"\n",
    "                    ):\n",
    "                        with open(\n",
    "                            f\"/data/nikhil_prakash/mind/werewolf/conversations/{game_idx}.txt\", \"r\"\n",
    "                        ) as f:\n",
    "                            conversation = f.read()\n",
    "                    else:\n",
    "                        conversation = \"\"\n",
    "\n",
    "                    prompt += f\"DAY PHASE:\\n{conversation}\\n{player['name']} talks:\"\n",
    "#                     print(prompt)\n",
    "\n",
    "                    inputs = tokenizer(prompt, return_tensors=\"pt\").to(device)\n",
    "                    outputs = model.generate(\n",
    "                        **inputs,\n",
    "                        max_new_tokens=100,\n",
    "                        num_return_sequences=1,\n",
    "                        temperature=0.01,\n",
    "                        do_sample=True,\n",
    "                        stopping_criteria=[stopping_criteria],\n",
    "                        early_stopping=True,\n",
    "                    )\n",
    "                    response = tokenizer.decode(outputs[0], skip_special_tokens=True)\n",
    "#                     print(f\"{player['name']} talks: {response[len(prompt) :].strip()}\")\n",
    "\n",
    "                    with open(\n",
    "                        f\"/data/nikhil_prakash/mind/werewolf/conversations/{game_idx}.txt\", \"a+\"\n",
    "                    ) as f:\n",
    "                        f.write(f\"{player['name']} talks: {response[len(prompt) :].strip()}\\n\")\n",
    "\n",
    "            own_vote, other_votes = ask_mental_state_questions(\n",
    "                model, tokenizer, device, players, game_description, game_idx, conversation\n",
    "            )\n",
    "\n",
    "            with open(f\"./conversations/{game_idx}.csv\", \"w\") as f:\n",
    "                f.write(\"Name,Role,Final Role,Own Vote,Other Votes\\n\")\n",
    "                for player in players:\n",
    "                    f.write(f\"{player['name']},{player['role']},{player['final_role']},{own_vote[player['name']]},{other_votes[player['name']]}\\n\")"
   ]
  },
  {
   "cell_type": "code",
   "execution_count": null,
   "id": "96d48498",
   "metadata": {},
   "outputs": [
    {
     "data": {
      "application/vnd.jupyter.widget-view+json": {
       "model_id": "c25e689d3a33446abde47cab8f648440",
       "version_major": 2,
       "version_minor": 0
      },
      "text/plain": [
       "Loading checkpoint shards:   0%|          | 0/15 [00:00<?, ?it/s]"
      ]
     },
     "metadata": {},
     "output_type": "display_data"
    },
    {
     "name": "stderr",
     "output_type": "stream",
     "text": [
      "100%|██████████| 5/5 [03:31<00:00, 42.32s/it]\n",
      "100%|██████████| 5/5 [03:29<00:00, 41.84s/it]\n",
      "100%|██████████| 5/5 [02:54<00:00, 34.84s/it]\n",
      "100%|██████████| 5/5 [04:19<00:00, 51.88s/it]\n",
      "100%|██████████| 5/5 [03:30<00:00, 42.18s/it]\n",
      "100%|██████████| 5/5 [03:57<00:00, 47.41s/it]\n",
      "100%|██████████| 5/5 [03:23<00:00, 40.66s/it]\n",
      "100%|██████████| 5/5 [04:47<00:00, 57.50s/it]\n",
      "100%|██████████| 5/5 [03:58<00:00, 47.62s/it]\n",
      "100%|██████████| 5/5 [04:13<00:00, 50.67s/it]\n",
      "100%|██████████| 5/5 [03:33<00:00, 42.79s/it]\n",
      "100%|██████████| 5/5 [04:02<00:00, 48.45s/it]\n",
      "100%|██████████| 5/5 [04:00<00:00, 48.03s/it]\n",
      "100%|██████████| 5/5 [04:20<00:00, 52.08s/it]\n",
      "100%|██████████| 5/5 [04:47<00:00, 57.45s/it]\n",
      "100%|██████████| 5/5 [02:45<00:00, 33.14s/it]\n",
      "100%|██████████| 5/5 [04:16<00:00, 51.33s/it]\n",
      "100%|██████████| 5/5 [04:30<00:00, 54.13s/it]\n",
      " 40%|████      | 2/5 [01:48<02:45, 55.05s/it]"
     ]
    }
   ],
   "source": [
    "play_werewolf(\n",
    "    model_name = \"daryl149/llama-2-70b-chat-hf\",\n",
    "    precision = \"int4\",\n",
    "    n_games = 50,\n",
    "    n_players = 3,\n",
    "    n_rounds = 5,\n",
    ")"
   ]
  },
  {
   "cell_type": "markdown",
   "id": "fac9d486",
   "metadata": {},
   "source": [
    "## Analysing Voting Results"
   ]
  },
  {
   "cell_type": "code",
   "execution_count": 3,
   "id": "288dfcd2",
   "metadata": {},
   "outputs": [
    {
     "name": "stdout",
     "output_type": "stream",
     "text": [
      "Werewolf: Judy; Voted: Alice\n",
      "Werewolf: Judy; Voted: Bob\n",
      "Werewolf: Frank; Voted: Heidi\n",
      "Werewolf: Frank; Voted: Eve\n",
      "Werewolf: Frank; Voted: Charlie\n",
      "Werewolf: Grace; Voted: Eve\n",
      "Werewolf: Charlie; Voted: Alice\n",
      "Werewolf: Grace; Voted: Eve\n",
      "Werewolf: Frank; Voted: Eve\n",
      "Werewolf: Grace; Voted: Charlie\n",
      "Werewolf: Judy; Voted: Bob\n",
      "Werewolf: Eve; Voted: Judy\n",
      "Werewolf: Charlie; Voted: Alice\n",
      "Werewolf: Eve; Voted: Judy\n",
      "Werewolf: Grace; Voted: Judy\n",
      "Werewolf: Heidi; Voted: Grace\n",
      "Werewolf: Ivan; Voted: Heidi\n",
      "Werewolf: Heidi; Voted: Eve\n",
      "Werewolf: Ivan; Voted: Charlie\n",
      "Werewolf: Frank; Voted: Grace\n",
      "Werewolf: Alice; Voted: Charlie\n",
      "Werewolf: Eve; Voted: Charlie\n",
      "Werewolf: David; Voted: Grace\n",
      "Werewolf: Ivan; Voted: Frank\n",
      "Werewolf: Charlie; Voted: Grace\n",
      "Werewolf: Ivan; Voted: Frank\n",
      "Werewolf: Judy; Voted: Charlie\n",
      "Werewolf: Eve; Voted: Alice\n",
      "Werewolf: Charlie; Voted: Ivan\n",
      "Werewolf: Heidi; Voted: Ivan\n",
      "Werewolf: Frank; Voted: Grace\n",
      "Werewolf: David; Voted: Heidi\n",
      "Werewolf: Ivan; Voted: Judy\n",
      "Werewolf: Grace; Voted: Frank\n",
      "Werewolf: Frank; Voted: Ivan\n",
      "Werewolf: Judy; Voted: David\n"
     ]
    }
   ],
   "source": [
    "path = \"./conversations\"\n",
    "\n",
    "correct, won, total, lost = 0, 0, 0, 0\n",
    "for i in range(50):\n",
    "    with open(f\"{path}/{i}.csv\", \"r\") as f:\n",
    "        results = f.read()\n",
    "\n",
    "    results = results.split(\"\\n\")\n",
    "    del results[0], results[-1]\n",
    "\n",
    "    votes = {}\n",
    "    for result in results:\n",
    "        result = result.split(\",\")\n",
    "        if result[2] == \"Werewolf\":\n",
    "            werewolf = result[0]\n",
    "            break\n",
    "\n",
    "    for i in range(len(results)):\n",
    "        results[i] = results[i].split(\",\")\n",
    "        results[i][4] = \",\".join(results[i][4:])\n",
    "        del results[i][5]\n",
    "\n",
    "        votes[results[i][0]] = {\n",
    "                \"own_votes\": results[i][3],\n",
    "                \"other_votes\": eval(results[i][4])\n",
    "            }\n",
    "\n",
    "    for player in votes:\n",
    "        for other_player, their_vote in votes[player][\"other_votes\"].items():\n",
    "            if votes[other_player]['own_votes'] == their_vote:\n",
    "                correct += 1\n",
    "            total += 1\n",
    "\n",
    "    vote_count = defaultdict(int)\n",
    "    for player in votes:\n",
    "        vote_count[votes[player][\"own_votes\"]] += 1\n",
    "\n",
    "    # Find the player who has the most votes against them\n",
    "    max_votes = max(vote_count.values())\n",
    "    max_voted = [player for player, votes in vote_count.items() if votes == max_votes][0]\n",
    "\n",
    "    if max_voted == werewolf:\n",
    "        won += 1\n",
    "    else:\n",
    "        print(f\"Werewolf: {werewolf}; Voted: {max_voted}\")\n",
    "        lost += 1"
   ]
  },
  {
   "cell_type": "code",
   "execution_count": 4,
   "id": "12d040eb",
   "metadata": {},
   "outputs": [
    {
     "data": {
      "text/plain": [
       "(0.36, 108, 300)"
      ]
     },
     "execution_count": 4,
     "metadata": {},
     "output_type": "execute_result"
    }
   ],
   "source": [
    "round(correct/total, 2), correct, total"
   ]
  },
  {
   "cell_type": "code",
   "execution_count": 5,
   "id": "6234ca58",
   "metadata": {},
   "outputs": [
    {
     "data": {
      "text/plain": [
       "(0.28, 14, 36)"
      ]
     },
     "execution_count": 5,
     "metadata": {},
     "output_type": "execute_result"
    }
   ],
   "source": [
    "round(won/(won+lost), 2), won, lost"
   ]
  },
  {
   "cell_type": "code",
   "execution_count": null,
   "id": "3e5f2eb7",
   "metadata": {},
   "outputs": [],
   "source": []
  }
 ],
 "metadata": {
  "kernelspec": {
   "display_name": "Python 3 (ipykernel)",
   "language": "python",
   "name": "python3"
  },
  "language_info": {
   "codemirror_mode": {
    "name": "ipython",
    "version": 3
   },
   "file_extension": ".py",
   "mimetype": "text/x-python",
   "name": "python",
   "nbconvert_exporter": "python",
   "pygments_lexer": "ipython3",
   "version": "3.10.4"
  }
 },
 "nbformat": 4,
 "nbformat_minor": 5
}
