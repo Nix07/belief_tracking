{
 "cells": [
  {
   "cell_type": "code",
   "execution_count": 1,
   "metadata": {},
   "outputs": [],
   "source": [
    "import os\n",
    "import json\n",
    "import torch\n",
    "from transformers import AutoTokenizer, AutoModelForCausalLM\n",
    "from datasets import Dataset\n",
    "from torch.utils.data import DataLoader\n",
    "from tqdm import tqdm\n",
    "import matplotlib.pyplot as plt\n",
    "from huggingface_hub import notebook_login\n",
    "from transformers import StoppingCriteria\n",
    "from typing import Any, List\n",
    "\n",
    "device = torch.device(\"cuda\" if torch.cuda.is_available() else \"cpu\")\n",
    "\n",
    "# Ignore warnings\n",
    "import warnings\n",
    "warnings.filterwarnings(\"ignore\")"
   ]
  },
  {
   "cell_type": "markdown",
   "metadata": {},
   "source": [
    "# Loading Model"
   ]
  },
  {
   "cell_type": "code",
   "execution_count": 2,
   "metadata": {},
   "outputs": [
    {
     "data": {
      "application/vnd.jupyter.widget-view+json": {
       "model_id": "3442cc403c024a0681308e10410b15dc",
       "version_major": 2,
       "version_minor": 0
      },
      "text/plain": [
       "config.json:   0%|          | 0.00/577 [00:00<?, ?B/s]"
      ]
     },
     "metadata": {},
     "output_type": "display_data"
    },
    {
     "data": {
      "application/vnd.jupyter.widget-view+json": {
       "model_id": "004a764c36034b6f8f573ce850a1ed8c",
       "version_major": 2,
       "version_minor": 0
      },
      "text/plain": [
       "pytorch_model.bin.index.json:   0%|          | 0.00/66.7k [00:00<?, ?B/s]"
      ]
     },
     "metadata": {},
     "output_type": "display_data"
    },
    {
     "data": {
      "application/vnd.jupyter.widget-view+json": {
       "model_id": "00ff9eb44ec04eb3aacb1bfdad1c04cf",
       "version_major": 2,
       "version_minor": 0
      },
      "text/plain": [
       "Downloading shards:   0%|          | 0/15 [00:00<?, ?it/s]"
      ]
     },
     "metadata": {},
     "output_type": "display_data"
    },
    {
     "data": {
      "application/vnd.jupyter.widget-view+json": {
       "model_id": "6bde2c9c89fd4586b3366270f582a48a",
       "version_major": 2,
       "version_minor": 0
      },
      "text/plain": [
       "pytorch_model-00001-of-00015.bin:   0%|          | 0.00/9.85G [00:00<?, ?B/s]"
      ]
     },
     "metadata": {},
     "output_type": "display_data"
    },
    {
     "data": {
      "application/vnd.jupyter.widget-view+json": {
       "model_id": "9c45b2e87e2c43dbbbc6589fb20be248",
       "version_major": 2,
       "version_minor": 0
      },
      "text/plain": [
       "pytorch_model-00002-of-00015.bin:   0%|          | 0.00/9.80G [00:00<?, ?B/s]"
      ]
     },
     "metadata": {},
     "output_type": "display_data"
    },
    {
     "data": {
      "application/vnd.jupyter.widget-view+json": {
       "model_id": "4900c8c42fb246b99068fbe0524897e6",
       "version_major": 2,
       "version_minor": 0
      },
      "text/plain": [
       "pytorch_model-00003-of-00015.bin:   0%|          | 0.00/9.97G [00:00<?, ?B/s]"
      ]
     },
     "metadata": {},
     "output_type": "display_data"
    },
    {
     "data": {
      "application/vnd.jupyter.widget-view+json": {
       "model_id": "489320317e3c4271817f1686cdc5b34f",
       "version_major": 2,
       "version_minor": 0
      },
      "text/plain": [
       "pytorch_model-00004-of-00015.bin:   0%|          | 0.00/9.80G [00:00<?, ?B/s]"
      ]
     },
     "metadata": {},
     "output_type": "display_data"
    },
    {
     "data": {
      "application/vnd.jupyter.widget-view+json": {
       "model_id": "fd2e71283ae04af58a50747f5d5888b2",
       "version_major": 2,
       "version_minor": 0
      },
      "text/plain": [
       "pytorch_model-00005-of-00015.bin:   0%|          | 0.00/9.80G [00:00<?, ?B/s]"
      ]
     },
     "metadata": {},
     "output_type": "display_data"
    },
    {
     "data": {
      "application/vnd.jupyter.widget-view+json": {
       "model_id": "2202bccf812d4aa28d9a40bff919ad72",
       "version_major": 2,
       "version_minor": 0
      },
      "text/plain": [
       "pytorch_model-00006-of-00015.bin:   0%|          | 0.00/9.80G [00:00<?, ?B/s]"
      ]
     },
     "metadata": {},
     "output_type": "display_data"
    },
    {
     "data": {
      "application/vnd.jupyter.widget-view+json": {
       "model_id": "9643392a5a1445dd8f629f79c97d9820",
       "version_major": 2,
       "version_minor": 0
      },
      "text/plain": [
       "pytorch_model-00007-of-00015.bin:   0%|          | 0.00/9.97G [00:00<?, ?B/s]"
      ]
     },
     "metadata": {},
     "output_type": "display_data"
    },
    {
     "data": {
      "application/vnd.jupyter.widget-view+json": {
       "model_id": "202c52fe85c142d999945549ea890fa9",
       "version_major": 2,
       "version_minor": 0
      },
      "text/plain": [
       "pytorch_model-00008-of-00015.bin:   0%|          | 0.00/9.80G [00:00<?, ?B/s]"
      ]
     },
     "metadata": {},
     "output_type": "display_data"
    },
    {
     "data": {
      "application/vnd.jupyter.widget-view+json": {
       "model_id": "bd41c0381feb486986aafcc601e56ed9",
       "version_major": 2,
       "version_minor": 0
      },
      "text/plain": [
       "pytorch_model-00009-of-00015.bin:   0%|          | 0.00/9.80G [00:00<?, ?B/s]"
      ]
     },
     "metadata": {},
     "output_type": "display_data"
    },
    {
     "data": {
      "application/vnd.jupyter.widget-view+json": {
       "model_id": "ad0604c8ea954e4fa60874368094a0d2",
       "version_major": 2,
       "version_minor": 0
      },
      "text/plain": [
       "pytorch_model-00010-of-00015.bin:   0%|          | 0.00/9.80G [00:00<?, ?B/s]"
      ]
     },
     "metadata": {},
     "output_type": "display_data"
    },
    {
     "data": {
      "application/vnd.jupyter.widget-view+json": {
       "model_id": "cb8b9eaa75d44ef9b8f5226cc86559af",
       "version_major": 2,
       "version_minor": 0
      },
      "text/plain": [
       "pytorch_model-00011-of-00015.bin:   0%|          | 0.00/9.97G [00:00<?, ?B/s]"
      ]
     },
     "metadata": {},
     "output_type": "display_data"
    },
    {
     "data": {
      "application/vnd.jupyter.widget-view+json": {
       "model_id": "911ecd6583eb4122a6b88f08a357e49a",
       "version_major": 2,
       "version_minor": 0
      },
      "text/plain": [
       "pytorch_model-00012-of-00015.bin:   0%|          | 0.00/9.80G [00:00<?, ?B/s]"
      ]
     },
     "metadata": {},
     "output_type": "display_data"
    },
    {
     "data": {
      "application/vnd.jupyter.widget-view+json": {
       "model_id": "980fc0ee97a447d08e526142eebc4b68",
       "version_major": 2,
       "version_minor": 0
      },
      "text/plain": [
       "pytorch_model-00013-of-00015.bin:   0%|          | 0.00/9.80G [00:00<?, ?B/s]"
      ]
     },
     "metadata": {},
     "output_type": "display_data"
    },
    {
     "data": {
      "application/vnd.jupyter.widget-view+json": {
       "model_id": "972297d47f3140e583184732678beb65",
       "version_major": 2,
       "version_minor": 0
      },
      "text/plain": [
       "pytorch_model-00014-of-00015.bin:   0%|          | 0.00/9.50G [00:00<?, ?B/s]"
      ]
     },
     "metadata": {},
     "output_type": "display_data"
    },
    {
     "data": {
      "application/vnd.jupyter.widget-view+json": {
       "model_id": "fcc85ffe384143f08073cbb356692ddb",
       "version_major": 2,
       "version_minor": 0
      },
      "text/plain": [
       "pytorch_model-00015-of-00015.bin:   0%|          | 0.00/524M [00:00<?, ?B/s]"
      ]
     },
     "metadata": {},
     "output_type": "display_data"
    },
    {
     "data": {
      "application/vnd.jupyter.widget-view+json": {
       "model_id": "471f1045af7341979f2c2f9e170d0885",
       "version_major": 2,
       "version_minor": 0
      },
      "text/plain": [
       "Loading checkpoint shards:   0%|          | 0/15 [00:00<?, ?it/s]"
      ]
     },
     "metadata": {},
     "output_type": "display_data"
    },
    {
     "data": {
      "application/vnd.jupyter.widget-view+json": {
       "model_id": "7c2ea3f8145343a48d7e7cfa5bfbd792",
       "version_major": 2,
       "version_minor": 0
      },
      "text/plain": [
       "generation_config.json:   0%|          | 0.00/132 [00:00<?, ?B/s]"
      ]
     },
     "metadata": {},
     "output_type": "display_data"
    },
    {
     "data": {
      "application/vnd.jupyter.widget-view+json": {
       "model_id": "c8545d92cb1042f08b826609026c87c3",
       "version_major": 2,
       "version_minor": 0
      },
      "text/plain": [
       "tokenizer_config.json:   0%|          | 0.00/745 [00:00<?, ?B/s]"
      ]
     },
     "metadata": {},
     "output_type": "display_data"
    },
    {
     "data": {
      "application/vnd.jupyter.widget-view+json": {
       "model_id": "383fcd321368475db413eae51cceca40",
       "version_major": 2,
       "version_minor": 0
      },
      "text/plain": [
       "tokenizer.model:   0%|          | 0.00/500k [00:00<?, ?B/s]"
      ]
     },
     "metadata": {},
     "output_type": "display_data"
    },
    {
     "data": {
      "application/vnd.jupyter.widget-view+json": {
       "model_id": "e14134957ed3443fbddfc6010015dee0",
       "version_major": 2,
       "version_minor": 0
      },
      "text/plain": [
       "tokenizer.json:   0%|          | 0.00/1.84M [00:00<?, ?B/s]"
      ]
     },
     "metadata": {},
     "output_type": "display_data"
    },
    {
     "data": {
      "application/vnd.jupyter.widget-view+json": {
       "model_id": "cee6834330fd466ba09fd708427159ce",
       "version_major": 2,
       "version_minor": 0
      },
      "text/plain": [
       "special_tokens_map.json:   0%|          | 0.00/411 [00:00<?, ?B/s]"
      ]
     },
     "metadata": {},
     "output_type": "display_data"
    }
   ],
   "source": [
    "if \"model\" in locals():\n",
    "    del model\n",
    "    torch.cuda.empty_cache()\n",
    "if \"tokenizer\" in locals():\n",
    "    del tokenizer\n",
    "\n",
    "path = \"daryl149/llama-2-70b-chat-hf\"\n",
    "model = AutoModelForCausalLM.from_pretrained(\n",
    "                path,\n",
    "                device_map=\"auto\",\n",
    "                load_in_4bit=True,\n",
    "                torch_dtype=torch.float16,\n",
    "            )\n",
    "tokenizer = AutoTokenizer.from_pretrained(path, padding_side=\"left\")\n",
    "\n",
    "tokenizer.pad_token = tokenizer.eos_token"
   ]
  },
  {
   "cell_type": "markdown",
   "metadata": {},
   "source": [
    "# Loading Data"
   ]
  },
  {
   "cell_type": "code",
   "execution_count": 4,
   "metadata": {},
   "outputs": [],
   "source": [
    "with open(\"data/unexpected_contents.jsonl\") as f:\n",
    "    unexpected_contents = [json.loads(line) for line in f]\n",
    "\n",
    "with open(\"data/unexpected_transfer.jsonl\") as f:\n",
    "    unexpected_transfer = [json.loads(line) for line in f]"
   ]
  },
  {
   "cell_type": "code",
   "execution_count": 5,
   "metadata": {},
   "outputs": [],
   "source": [
    "tasks = []\n",
    "for data in unexpected_contents + unexpected_transfer:\n",
    "    for i in range(3):\n",
    "        inp = {\n",
    "            \"input\": data['prompts'][i],\n",
    "            \"target\": data[f'target_{i+1}']\n",
    "        }\n",
    "        tasks.append(inp)"
   ]
  },
  {
   "cell_type": "code",
   "execution_count": 6,
   "metadata": {},
   "outputs": [],
   "source": [
    "# Create a dataset from tasks list\n",
    "dataset = Dataset.from_list(tasks).with_format(\"torch\")\n",
    "\n",
    "# Create a collate function to tokenize and pad the data\n",
    "def collate_fn(examples):\n",
    "    inputs = tokenizer(\n",
    "        [ex[\"input\"] for ex in examples],\n",
    "        return_tensors=\"pt\",\n",
    "        padding=True,\n",
    "        truncation=True,\n",
    "    )\n",
    "    if (\n",
    "        model.config.architectures[0] == \"GPT2LMHeadModel\"\n",
    "        or model.config.architectures[0] == \"GPTNeoXForCausalLM\"\n",
    "        or model.config.architectures[0] == \"GPTJForCausalLM\"\n",
    "    ):\n",
    "        inputs[\"target\"] = [tokenizer.decode(tokenizer.encode(\" \" + ex[\"target\"])[0]) for ex in examples]\n",
    "    elif (\n",
    "        model.config.architectures[0] == \"LlamaForCausalLM\"\n",
    "        or model.config.architectures[0] == \"LlaMAForCausalLM\"\n",
    "        or model.config.architectures[0] == \"GemmaForCausalLM\"\n",
    "    ):\n",
    "        inputs[\"target\"] = [\n",
    "            tokenizer.decode(tokenizer.encode(ex[\"target\"])[1]) for ex in examples\n",
    "        ]\n",
    "    elif model.config.architectures[0] == \"MistralForCausalLM\":\n",
    "        inputs[\"target\"] = [tokenizer.decode(tokenizer.encode(\" \" + ex[\"target\"])[2]) for ex in examples]\n",
    "    return inputs\n",
    "\n",
    "# Create a DataLoader\n",
    "dataloader = DataLoader(\n",
    "    dataset, collate_fn=collate_fn, batch_size=1, shuffle=False\n",
    ")"
   ]
  },
  {
   "cell_type": "markdown",
   "metadata": {},
   "source": [
    "# Model Performance"
   ]
  },
  {
   "cell_type": "code",
   "execution_count": 7,
   "metadata": {},
   "outputs": [],
   "source": [
    "correct, total = 0, 0\n",
    "with torch.no_grad():\n",
    "    for inp in tqdm(dataloader, total=len(dataloader)):\n",
    "        inp[\"input_ids\"] = inp[\"input_ids\"].to(device)\n",
    "        inp[\"attention_mask\"] = inp[\"attention_mask\"].to(device)\n",
    "\n",
    "        outputs = model(inp[\"input_ids\"])\n",
    "        logits = outputs.logits\n",
    "        predicted_ids = torch.argmax(logits[:, -1], dim=-1)\n",
    "        predicted_token = tokenizer.decode(predicted_ids)\n",
    "\n",
    "        if predicted_token.strip() == inp[\"target\"][0].strip():\n",
    "            correct += 1\n",
    "        else:\n",
    "            print(f\"Predicted: {predicted_token.strip()}; Target: {inp['target'][0].strip()}\")\n",
    "        total += 1\n",
    "\n",
    "print(f\"Accuracy: {correct/total:.2f}\")"
   ]
  },
  {
   "cell_type": "markdown",
   "metadata": {},
   "source": [
    "# Visualizing Model Performance"
   ]
  },
  {
   "cell_type": "code",
   "execution_count": 3,
   "metadata": {},
   "outputs": [],
   "source": [
    "with open(\"results.json\", \"r\") as f:\n",
    "    results = json.load(f)"
   ]
  },
  {
   "cell_type": "code",
   "execution_count": 5,
   "metadata": {},
   "outputs": [
    {
     "data": {
      "image/png": "[encoded data removed]",
      "text/plain": [
       "<Figure size 1500x500 with 1 Axes>"
      ]
     },
     "metadata": {},
     "output_type": "display_data"
    }
   ],
   "source": [
    "# plot figure size\n",
    "plt.figure(figsize=(15, 5))\n",
    "plt.bar(results.keys(), results.values())\n",
    "plt.xlabel(\"Models\")\n",
    "plt.ylabel(\"Accuracy\")\n",
    "plt.title(\"Model Accuracy on Adv-CSFB dataset\")\n",
    "plt.ylim(0, 1)\n",
    "plt.xticks(rotation=45)\n",
    "plt.grid(axis=\"y\")\n",
    "plt.show()"
   ]
  },
  {
   "cell_type": "markdown",
   "metadata": {},
   "source": [
    "# Agent Conversation"
   ]
  },
  {
   "cell_type": "code",
   "execution_count": 130,
   "metadata": {},
   "outputs": [],
   "source": [
    "player_names = {\n",
    "    \"1\": \"Alice\",\n",
    "    \"2\": \"Bob\",\n",
    "    \"3\": \"Charlie\"\n",
    "}"
   ]
  },
  {
   "cell_type": "code",
   "execution_count": 184,
   "metadata": {},
   "outputs": [],
   "source": [
    "game_description = f\"\"\"WEREWOLF GAME OVERVIEW:\n",
    "There are you types of players: 1) Werewolves and 2) Villagers (all except werewolves). All players discuss and vote to identify werewolves. In the simplied version, there are three types of cards: 1) Werewolve, 2) Villager, and 3) Troublemaker. \n",
    "\n",
    "ROLES:\n",
    "Villager:\n",
    " - Goal: Survive and identify the Werewolf.\n",
    " - Actions: Discuss and vote on who the Werewolf might be during the day phase.\n",
    "Werewolf:\n",
    " - Goal: Eliminate Villagers without getting caught.\n",
    " - Actions: Discuss and vote along with Villagers during the day.\n",
    "Troublemaker:\n",
    " - Goal: Survive and create confusion to help identify the Werewolf.\n",
    " - Actions: At night, choose two players to swap roles without revealing their identities.\n",
    "\n",
    "GAME PHASES:\n",
    "Action Phase:\n",
    " - All players close their eyes.\n",
    " - Troublemaker secretly chooses two players to swap their cards (i.e. roles).\n",
    "Discussion Phase:\n",
    " - Players discuss, deceive, and debate based on shared available information to identify the Werewolf.\n",
    " - Each player get only three chances to speak with other players.\n",
    "\n",
    "WINNING CRITERIA:\n",
    " - Villager and Troublemaker win if they correctly identify and eliminate the Werewolf.\n",
    " - Werewolf wins if they eliminate a villager or troublemaker to take control.\n",
    "\"\"\""
   ]
  },
  {
   "cell_type": "code",
   "execution_count": 185,
   "metadata": {},
   "outputs": [],
   "source": [
    "player_1_role = f\"\"\"You are {player_names['1']}. You are playing Werewolf card game with your friends {player_names['2']} and {player_names['3']}. Initially, you've been given the role of Werewolf. First, understand the goals and actions of each player, then speak accordingly to increase your chances of winning.\"\"\"\n",
    "player_2_role = f\"\"\"You are {player_names['2']}. You are playing Werewolf card game with your friends {player_names['1']} and {player_names['3']}. Initially, you've been given the role of Villager. First, understand the goals and actions of each player, then speak accordingly to increase your chances of winning.\"\"\"\n",
    "player_3_role = f\"\"\"You are {player_names['3']}. You are playing Werewolf card game with your friends {player_names['1']} and {player_names['2']}. Initially, you've been given the role of Troublemaker. During the night phase, you swapped {player_names['1']} and {player_names['2']}'s cards. Share this information during the Discussion Phase to identify Werewolf. First, understand the goals and actions of each player, then speak accordingly to increase your chances of winning.\"\"\""
   ]
  },
  {
   "cell_type": "code",
   "execution_count": 186,
   "metadata": {},
   "outputs": [],
   "source": [
    "class NewLineStoppingCriteria(StoppingCriteria):\n",
    "    def __init__(self, tokenizer):\n",
    "        self.tokenizer = tokenizer\n",
    "        self.newline_token_id = self.tokenizer.encode(\"\\n\")[-1]\n",
    "        self.txt_generated = False\n",
    "\n",
    "    def __call__(self, input_ids: Any, scores: Any) -> Any:\n",
    "        \"\"\"\n",
    "        Checks if the current generated token is a new line character.\n",
    "        Returns a tensor of booleans with the same shape as scores,\n",
    "        indicating whether generation should stop for each sequence.\n",
    "        \"\"\"\n",
    "        latest_token_ids = input_ids[:, -1]\n",
    "        if latest_token_ids == self.newline_token_id and self.txt_generated:\n",
    "            self.txt_generated = False\n",
    "            return True\n",
    "        else:\n",
    "            if latest_token_ids != self.newline_token_id:\n",
    "                self.txt_generated = True\n",
    "            return False"
   ]
  },
  {
   "cell_type": "code",
   "execution_count": 187,
   "metadata": {},
   "outputs": [
    {
     "name": "stderr",
     "output_type": "stream",
     "text": [
      "\r\n",
      "  0%|          | 0/5 [00:00<?, ?it/s]"
     ]
    },
    {
     "name": "stdout",
     "output_type": "stream",
     "text": [
      "Alice talks: \"Hey guys, I think Bob might be the Werewolf. He's been acting strange and avoiding eye contact. Let's lynch him!\"\n",
      "Bob talks: \"Guys, I'm not the Werewolf. I'm just nervous because I don't want to be lynched. Let's not jump to conclusions.\"\n"
     ]
    },
    {
     "name": "stderr",
     "output_type": "stream",
     "text": [
      "\r\n",
      " 20%|██        | 1/5 [00:35<02:21, 35.35s/it]"
     ]
    },
    {
     "name": "stdout",
     "output_type": "stream",
     "text": [
      "Charlie talks: \"Guys, I have information that might help us. During the night phase, I swapped Alice and Bob's cards. So, Bob is now a Villager, and Alice is the Werewolf. Let's lynch Alice!\"\n",
      "Alice talks: \"What?! That's not true! Charlie is trying to frame me. I'm still a Villager, and Bob is the Werewolf. Don't believe him!\"\n",
      "Bob talks: \"Guys, I think we should trust Charlie. He's been acting suspiciously, and now he's trying to frame Alice. Let's lynch Charlie!\"\n"
     ]
    },
    {
     "name": "stderr",
     "output_type": "stream",
     "text": [
      "\r\n",
      " 40%|████      | 2/5 [01:15<01:54, 38.15s/it]"
     ]
    },
    {
     "name": "stdout",
     "output_type": "stream",
     "text": [
      "Charlie talks: \"Guys, I'm just trying to help. I swear, I'm not the Werewolf. But, if you don't believe me, let's have a vote. Who thinks Alice is the Werewolf?\"\n",
      "Alice talks: \"Wait, let's not vote yet. I have an idea. Let's ask Charlie questions about his actions during the night phase. Maybe we can catch him in a lie and expose him as the Werewolf.\"\n",
      "Bob talks: \"Good idea, Alice. Charlie, can you explain why you swapped our cards?\"\n"
     ]
    },
    {
     "name": "stderr",
     "output_type": "stream",
     "text": [
      "\r\n",
      " 60%|██████    | 3/5 [01:55<01:17, 38.79s/it]"
     ]
    },
    {
     "name": "stdout",
     "output_type": "stream",
     "text": [
      "Charlie talks: \"Well, I swapped your cards because I wanted to create confusion and help identify the Werewolf. I didn't want to be too obvious and get caught by the Werewolf.\"\n",
      "Alice talks: \"Hmm, that makes sense. But, why did you choose to swap our cards specifically?\"\n",
      "Bob talks: \"Yeah, Charlie, why us and not another pair of players?\"\n"
     ]
    },
    {
     "name": "stderr",
     "output_type": "stream",
     "text": [
      "\r\n",
      " 80%|████████  | 4/5 [02:34<00:38, 38.95s/it]"
     ]
    },
    {
     "name": "stdout",
     "output_type": "stream",
     "text": [
      "Charlie talks: \"I swapped your cards because you two were acting suspiciously. Alice, you were avoiding eye contact, and Bob, you seemed nervous. I thought it might be useful to mix things up and see how you both react.\"\n",
      "Alice talks: \"I see. Well, I still think Bob is the Werewolf. Let's lynch him!\"\n",
      "Bob talks: \"Guys, I'm telling you, I'm not the Werewolf. Let's not jump to conclusions and lynch the wrong person.\"\n"
     ]
    },
    {
     "name": "stderr",
     "output_type": "stream",
     "text": [
      "100%|██████████| 5/5 [03:21<00:00, 40.34s/it]"
     ]
    },
    {
     "name": "stdout",
     "output_type": "stream",
     "text": [
      "Charlie talks: \"Guys, can we please just take a moment to think about this? We don't want to make a mistake and let the Werewolf win. Let's discuss this calmly and try to figure out who the Werewolf really is.\"\n"
     ]
    },
    {
     "name": "stderr",
     "output_type": "stream",
     "text": [
      "\n"
     ]
    }
   ],
   "source": [
    "if os.path.exists(\"conversation.txt\"):\n",
    "    os.remove(\"conversation.txt\")\n",
    "\n",
    "stopping_criteria = NewLineStoppingCriteria(tokenizer)\n",
    "\n",
    "with torch.no_grad():\n",
    "    for round_idx in tqdm(range(5), total=5):\n",
    "        for player_idx in range(3):\n",
    "\n",
    "            if player_idx == 0:\n",
    "                prompt = f\"{game_description}\\n\\n{player_1_role}\\n\\n\"\n",
    "            elif player_idx == 1:\n",
    "                prompt = f\"{game_description}\\n\\n{player_2_role}\\n\\n\"\n",
    "            else:\n",
    "                prompt = f\"{game_description}\\n\\n{player_3_role}\\n\\n\"\n",
    "\n",
    "            conversation = \"\"\n",
    "            if os.path.exists(\"conversation.txt\"):\n",
    "                with open(\"conversation.txt\", \"r\") as f:\n",
    "                    conversation = f.read()\n",
    "\n",
    "            prompt += f\"DAY PHASE:\\n{conversation}\\n{player_names[str(player_idx+1)]} talks: \"\n",
    "            # print(f\"INPUT: {prompt}\")\n",
    "\n",
    "            inputs = tokenizer(prompt, return_tensors=\"pt\").to(device)\n",
    "            outputs = model.generate(\n",
    "                **inputs,\n",
    "                max_new_tokens=100,\n",
    "                num_return_sequences=1,\n",
    "                temperature=0.00,\n",
    "                do_sample=False,\n",
    "                stopping_criteria=[stopping_criteria],\n",
    "                early_stopping=True,\n",
    "            )\n",
    "            response = tokenizer.decode(outputs[0], skip_special_tokens=True)\n",
    "            print(f\"{player_names[str(player_idx+1)]} talks: {response[len(prompt) :].strip()}\")\n",
    "#             print(\"--------------------------------------------------------------\")\n",
    "\n",
    "            with open(\"conversation.txt\", \"a\") as f:\n",
    "                f.write(f\"{player_names[str(player_idx+1)]} talks: {response[len(prompt) :]}\\n\")"
   ]
  },
  {
   "cell_type": "markdown",
   "metadata": {},
   "source": [
    "# Querying Agent's Believes"
   ]
  },
  {
   "cell_type": "code",
   "execution_count": 189,
   "metadata": {},
   "outputs": [],
   "source": [
    "with open(\"conversation.txt\", \"r\") as f:\n",
    "    conversation = f.read()"
   ]
  },
  {
   "cell_type": "code",
   "execution_count": 241,
   "metadata": {},
   "outputs": [
    {
     "name": "stdout",
     "output_type": "stream",
     "text": [
      "QUESTION: Who won the game (in one word)?\n",
      "Answer: Werewolf.\n"
     ]
    }
   ],
   "source": [
    "with torch.no_grad():\n",
    "    player_1_script = f\"{game_description}\\n\\n{player_1_role}\\n\\n\"\n",
    "    player_1_script += f\"DAY PHASE:\\n{conversation}\\n\"\n",
    "    question = f\"QUESTION: Who won the game (in one word)?\\nAnswer:\"\n",
    "    player_1_script += question\n",
    "    inputs = tokenizer(player_1_script, return_tensors=\"pt\").to(device)\n",
    "    \n",
    "    outputs = model.generate(\n",
    "                **inputs,\n",
    "                max_new_tokens=5,\n",
    "                num_return_sequences=1,\n",
    "                temperature=0.00,\n",
    "                do_sample=False,\n",
    "            )\n",
    "    response = tokenizer.decode(outputs[0], skip_special_tokens=True)\n",
    "    print(f\"{question} {response[len(player_1_script) :].strip()}\")"
   ]
  },
  {
   "cell_type": "markdown",
   "metadata": {},
   "source": [
    "- Alice\n",
    "    - Who would you vote for?\\nAnswer: Bob\n",
    "    - Who could Bob vote for?\\nAnswer: Alice\n",
    "    - Who could Charlie vote for?\\nAnswer: Alice\n",
    "\n",
    "- Bob\n",
    "    - Who would you vote for?\\nAnswer: Alice\n",
    "    - Who could Alice vote for?\\nAnswer: Bob\n",
    "    - Who could Charlie vote for?\\nAnswer: Alice\n",
    "\n",
    "- Charlie\n",
    "    - Who would you vote for?\\nAnswer: Alice\n",
    "    - Who could Alice vote for?\\nAnswer: Bob\n",
    "    - Who could Bob vote for?\\nAnswer: Alice\n",
    "\n",
    "- Who won the game (Werewolves or Villagers)? Werewolf"
   ]
  },
  {
   "cell_type": "code",
   "execution_count": null,
   "metadata": {},
   "outputs": [],
   "source": []
  }
 ],
 "metadata": {
  "kernelspec": {
   "display_name": "Python 3 (ipykernel)",
   "language": "python",
   "name": "python3"
  },
  "language_info": {
   "codemirror_mode": {
    "name": "ipython",
    "version": 3
   },
   "file_extension": ".py",
   "mimetype": "text/x-python",
   "name": "python",
   "nbconvert_exporter": "python",
   "pygments_lexer": "ipython3",
   "version": "3.10.4"
  }
 },
 "nbformat": 4,
 "nbformat_minor": 2
}
