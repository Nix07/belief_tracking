{
 "cells": [
  {
   "cell_type": "code",
   "execution_count": 1,
   "metadata": {},
   "outputs": [
    {
     "name": "stderr",
     "output_type": "stream",
     "text": [
      "/home/local_nikhil/.conda/envs/position_lens/lib/python3.10/site-packages/tqdm/auto.py:21: TqdmWarning: IProgress not found. Please update jupyter and ipywidgets. See https://ipywidgets.readthedocs.io/en/stable/user_install.html\n",
      "  from .autonotebook import tqdm as notebook_tqdm\n"
     ]
    }
   ],
   "source": [
    "import json\n",
    "import torch\n",
    "from transformers import AutoTokenizer, AutoModelForCausalLM\n",
    "from datasets import Dataset\n",
    "from torch.utils.data import DataLoader\n",
    "from tqdm import tqdm\n",
    "\n",
    "device = torch.device(\"cuda\" if torch.cuda.is_available() else \"cpu\")"
   ]
  },
  {
   "cell_type": "markdown",
   "metadata": {},
   "source": [
    "# Loading Model"
   ]
  },
  {
   "cell_type": "code",
   "execution_count": 2,
   "metadata": {},
   "outputs": [
    {
     "name": "stderr",
     "output_type": "stream",
     "text": [
      "Loading checkpoint shards: 100%|██████████| 2/2 [00:03<00:00,  1.56s/it]\n"
     ]
    }
   ],
   "source": [
    "if \"model\" in locals():\n",
    "    del model\n",
    "    torch.cuda.empty_cache()\n",
    "if \"tokenizer\" in locals():\n",
    "    del tokenizer\n",
    "\n",
    "path = \"mistralai/Mistral-7B-v0.1\"\n",
    "model = AutoModelForCausalLM.from_pretrained(path)\n",
    "model = model.half()\n",
    "model = model.to(device)\n",
    "tokenizer = AutoTokenizer.from_pretrained(path, padding_side=\"left\")\n",
    "\n",
    "tokenizer.pad_token = tokenizer.eos_token"
   ]
  },
  {
   "cell_type": "markdown",
   "metadata": {},
   "source": [
    "# Loading Data"
   ]
  },
  {
   "cell_type": "code",
   "execution_count": 3,
   "metadata": {},
   "outputs": [],
   "source": [
    "with open(\"data/unexpected_contents.jsonl\") as f:\n",
    "    unexpected_contents = [json.loads(line) for line in f]\n",
    "\n",
    "with open(\"data/unexpected_transfer.jsonl\") as f:\n",
    "    unexpected_transfer = [json.loads(line) for line in f]"
   ]
  },
  {
   "cell_type": "code",
   "execution_count": 4,
   "metadata": {},
   "outputs": [],
   "source": [
    "tasks = []\n",
    "for data in unexpected_contents + unexpected_transfer:\n",
    "    for i in range(3):\n",
    "        inp = {\n",
    "            \"input\": data['prompts'][i],\n",
    "            \"target\": data[f'target_{i+1}']\n",
    "        }\n",
    "        tasks.append(inp)"
   ]
  },
  {
   "cell_type": "code",
   "execution_count": 5,
   "metadata": {},
   "outputs": [],
   "source": [
    "# Create a dataset from tasks list\n",
    "dataset = Dataset.from_list(tasks).with_format(\"torch\")\n",
    "\n",
    "# Create a collate function to tokenize and pad the data\n",
    "def collate_fn(examples):\n",
    "    inputs = tokenizer(\n",
    "        [ex[\"input\"] for ex in examples],\n",
    "        return_tensors=\"pt\",\n",
    "        padding=True,\n",
    "        truncation=True,\n",
    "    )\n",
    "    if (\n",
    "        model.config.architectures[0] == \"GPT2LMHeadModel\"\n",
    "        or model.config.architectures[0] == \"GPTNeoXForCausalLM\"\n",
    "        or model.config.architectures[0] == \"GPTJForCausalLM\"\n",
    "    ):\n",
    "        inputs[\"target\"] = [tokenizer.encode(\" \" + ex[\"target\"])[0] for ex in examples]\n",
    "    elif model.config.architectures[0] == \"LlamaForCausalLM\" or model.config.architectures[0] == \"LlaMAForCausalLM\":\n",
    "        inputs[\"target\"] = [tokenizer.encode(ex[\"target\"])[1] for ex in examples]\n",
    "    elif model.config.architectures[0] == \"MistralForCausalLM\":\n",
    "        inputs[\"target\"] = [tokenizer.encode(\" \" + ex[\"target\"])[2] for ex in examples]\n",
    "    return inputs\n",
    "\n",
    "# Create a DataLoader\n",
    "dataloader = DataLoader(\n",
    "    dataset, collate_fn=collate_fn, batch_size=1, shuffle=False\n",
    ")"
   ]
  },
  {
   "cell_type": "markdown",
   "metadata": {},
   "source": [
    "# Model Performance"
   ]
  },
  {
   "cell_type": "code",
   "execution_count": 7,
   "metadata": {},
   "outputs": [
    {
     "name": "stderr",
     "output_type": "stream",
     "text": [
      "  0%|          | 0/549 [00:00<?, ?it/s]Asking to truncate to max_length but no maximum length is provided and the model has no predefined maximum length. Default to no truncation.\n",
      "  1%|          | 4/549 [00:00<00:26, 20.95it/s]"
     ]
    },
    {
     "name": "stdout",
     "output_type": "stream",
     "text": [
      "beer == beer\n",
      "wine == wine\n",
      "beer != wine\n",
      "audio == audio\n",
      "video == video\n",
      "audio != video\n"
     ]
    },
    {
     "name": "stderr",
     "output_type": "stream",
     "text": [
      "  2%|▏         | 11/549 [00:00<00:19, 27.24it/s]"
     ]
    },
    {
     "name": "stdout",
     "output_type": "stream",
     "text": [
      "ice == ice\n",
      "jam == jam\n",
      "jam == jam\n",
      "salt == salt\n",
      "sugar == sugar\n",
      "sugar == sugar\n",
      "pens == pens\n"
     ]
    },
    {
     "name": "stderr",
     "output_type": "stream",
     "text": [
      "  3%|▎         | 19/549 [00:00<00:18, 28.99it/s]"
     ]
    },
    {
     "name": "stdout",
     "output_type": "stream",
     "text": [
      "p == p\n",
      "p == p\n",
      "s == s\n",
      "t == t\n",
      "t == t\n",
      "leaf == leaf\n"
     ]
    },
    {
     "name": "stderr",
     "output_type": "stream",
     "text": [
      "  5%|▍         | 25/549 [00:00<00:17, 29.27it/s]"
     ]
    },
    {
     "name": "stdout",
     "output_type": "stream",
     "text": [
      "rece == rece\n",
      "leaf != rece\n",
      "g == g\n",
      "books == books\n",
      "g != books\n",
      "perf == perf\n"
     ]
    },
    {
     "name": "stderr",
     "output_type": "stream",
     "text": [
      "  6%|▌         | 31/549 [00:01<00:17, 29.10it/s]"
     ]
    },
    {
     "name": "stdout",
     "output_type": "stream",
     "text": [
      "water == water\n",
      "water == water\n",
      "coc == coc\n",
      "her == her\n",
      "her == her\n",
      "tea == tea\n"
     ]
    },
    {
     "name": "stderr",
     "output_type": "stream",
     "text": [
      "  7%|▋         | 37/549 [00:01<00:17, 29.36it/s]"
     ]
    },
    {
     "name": "stdout",
     "output_type": "stream",
     "text": [
      "coffee == coffee\n",
      "coffee == coffee\n",
      "blood == blood\n",
      "ur == ur\n",
      "ur == ur\n",
      "socks == socks\n"
     ]
    },
    {
     "name": "stderr",
     "output_type": "stream",
     "text": [
      "  8%|▊         | 44/549 [00:01<00:16, 29.81it/s]"
     ]
    },
    {
     "name": "stdout",
     "output_type": "stream",
     "text": [
      "scar == scar\n",
      "scar == scar\n",
      "videos == videos\n",
      "photos == photos\n",
      "photos == photos\n",
      "wallet == wallet\n",
      "sne == sne\n"
     ]
    },
    {
     "name": "stderr",
     "output_type": "stream",
     "text": [
      "  9%|▉         | 51/549 [00:01<00:16, 30.10it/s]"
     ]
    },
    {
     "name": "stdout",
     "output_type": "stream",
     "text": [
      "wallet != sne\n",
      "sand == sand\n",
      "beer == beer\n",
      "beer == beer\n",
      "clothes == clothes\n",
      "vegetables == vegetables\n",
      "vegetables == vegetables\n"
     ]
    },
    {
     "name": "stderr",
     "output_type": "stream",
     "text": [
      " 10%|█         | 55/549 [00:01<00:16, 30.13it/s]"
     ]
    },
    {
     "name": "stdout",
     "output_type": "stream",
     "text": [
      "jazz == jazz\n",
      "disco == disco\n",
      "disco == disco\n",
      "lav == lav\n",
      "sand == sand\n",
      "sand == sand\n",
      "chocolate == chocolate\n"
     ]
    },
    {
     "name": "stderr",
     "output_type": "stream",
     "text": [
      " 11%|█▏        | 63/549 [00:02<00:16, 30.28it/s]"
     ]
    },
    {
     "name": "stdout",
     "output_type": "stream",
     "text": [
      "pop == pop\n",
      "pop == pop\n",
      "beer == beer\n",
      "beer == beer\n",
      "beer == beer\n",
      "audio == audio\n",
      "audio == audio\n"
     ]
    },
    {
     "name": "stderr",
     "output_type": "stream",
     "text": [
      " 13%|█▎        | 71/549 [00:02<00:15, 30.33it/s]"
     ]
    },
    {
     "name": "stdout",
     "output_type": "stream",
     "text": [
      "audio == audio\n",
      "ice == ice\n",
      "ice == ice\n",
      "jam != ice\n",
      "salt == salt\n",
      "salt == salt\n",
      "salt == salt\n"
     ]
    },
    {
     "name": "stderr",
     "output_type": "stream",
     "text": [
      " 14%|█▍        | 79/549 [00:02<00:15, 30.24it/s]"
     ]
    },
    {
     "name": "stdout",
     "output_type": "stream",
     "text": [
      "pens == pens\n",
      "p != pens\n",
      "pens == pens\n",
      "s == s\n",
      "t != s\n",
      "s == s\n",
      "leaf == leaf\n"
     ]
    },
    {
     "name": "stderr",
     "output_type": "stream",
     "text": [
      " 15%|█▌        | 83/549 [00:02<00:15, 30.08it/s]"
     ]
    },
    {
     "name": "stdout",
     "output_type": "stream",
     "text": [
      "leaf == leaf\n",
      "leaf == leaf\n",
      "g == g\n",
      "g == g\n",
      "g == g\n",
      "water != perf\n"
     ]
    },
    {
     "name": "stderr",
     "output_type": "stream",
     "text": [
      " 17%|█▋        | 91/549 [00:03<00:15, 29.98it/s]"
     ]
    },
    {
     "name": "stdout",
     "output_type": "stream",
     "text": [
      "water != perf\n",
      "perf == perf\n",
      "coc == coc\n",
      "her != coc\n",
      "coc == coc\n",
      "tea == tea\n",
      "coffee != tea\n"
     ]
    },
    {
     "name": "stderr",
     "output_type": "stream",
     "text": [
      " 18%|█▊        | 98/549 [00:03<00:14, 30.34it/s]"
     ]
    },
    {
     "name": "stdout",
     "output_type": "stream",
     "text": [
      "tea == tea\n",
      "blood == blood\n",
      "blood == blood\n",
      "blood == blood\n",
      "scar != socks\n",
      "socks == socks\n",
      "socks == socks\n"
     ]
    },
    {
     "name": "stderr",
     "output_type": "stream",
     "text": [
      " 19%|█▉        | 106/549 [00:03<00:14, 30.43it/s]"
     ]
    },
    {
     "name": "stdout",
     "output_type": "stream",
     "text": [
      "videos == videos\n",
      "videos == videos\n",
      "videos == videos\n",
      "wallet == wallet\n",
      "wallet == wallet\n",
      "wallet == wallet\n",
      "sand == sand\n"
     ]
    },
    {
     "name": "stderr",
     "output_type": "stream",
     "text": [
      " 20%|██        | 110/549 [00:03<00:14, 30.34it/s]"
     ]
    },
    {
     "name": "stdout",
     "output_type": "stream",
     "text": [
      "beer != sand\n",
      "beer != sand\n",
      "clothes == clothes\n",
      "clothes == clothes\n",
      "clothes == clothes\n",
      "jazz == jazz\n",
      "jazz == jazz\n"
     ]
    },
    {
     "name": "stderr",
     "output_type": "stream",
     "text": [
      " 21%|██▏       | 118/549 [00:03<00:14, 30.29it/s]"
     ]
    },
    {
     "name": "stdout",
     "output_type": "stream",
     "text": [
      "jazz == jazz\n",
      "sand != lav\n",
      "sand != lav\n",
      "lav == lav\n",
      "chocolate == chocolate\n",
      "chocolate == chocolate\n"
     ]
    },
    {
     "name": "stderr",
     "output_type": "stream",
     "text": [
      " 23%|██▎       | 126/549 [00:04<00:13, 30.25it/s]"
     ]
    },
    {
     "name": "stdout",
     "output_type": "stream",
     "text": [
      "chocolate == chocolate\n",
      "beer == beer\n",
      "orange != beer\n",
      "beer == beer\n",
      "ice == ice\n",
      "jam != ice\n",
      "jam != ice\n"
     ]
    },
    {
     "name": "stderr",
     "output_type": "stream",
     "text": [
      " 24%|██▎       | 130/549 [00:04<00:13, 30.26it/s]"
     ]
    },
    {
     "name": "stdout",
     "output_type": "stream",
     "text": [
      "salt == salt\n",
      "sugar != salt\n",
      "sugar != salt\n",
      "pens == pens\n",
      "p != pens\n",
      "p != pens\n",
      "s == s\n"
     ]
    },
    {
     "name": "stderr",
     "output_type": "stream",
     "text": [
      " 25%|██▌       | 138/549 [00:04<00:13, 30.15it/s]"
     ]
    },
    {
     "name": "stdout",
     "output_type": "stream",
     "text": [
      "t != s\n",
      "t != s\n",
      "leaf == leaf\n",
      "rece != leaf\n",
      "leaf == leaf\n",
      "g == g\n",
      "books != g\n"
     ]
    },
    {
     "name": "stderr",
     "output_type": "stream",
     "text": [
      " 27%|██▋       | 146/549 [00:04<00:13, 30.19it/s]"
     ]
    },
    {
     "name": "stdout",
     "output_type": "stream",
     "text": [
      "g == g\n",
      "milk == milk\n",
      "water != milk\n",
      "water != milk\n",
      "coc == coc\n",
      "her != coc\n",
      "her != coc\n"
     ]
    },
    {
     "name": "stderr",
     "output_type": "stream",
     "text": [
      " 28%|██▊       | 154/549 [00:05<00:13, 30.15it/s]"
     ]
    },
    {
     "name": "stdout",
     "output_type": "stream",
     "text": [
      "tea == tea\n",
      "coffee != tea\n",
      "coffee != tea\n",
      "blood == blood\n",
      "ur != blood\n",
      "ur != blood\n",
      "socks == socks\n"
     ]
    },
    {
     "name": "stderr",
     "output_type": "stream",
     "text": [
      " 29%|██▉       | 158/549 [00:05<00:12, 30.51it/s]"
     ]
    },
    {
     "name": "stdout",
     "output_type": "stream",
     "text": [
      "scar != socks\n",
      "scar != socks\n",
      "wallet == wallet\n",
      "sne != wallet\n",
      "wallet == wallet\n",
      "sand == sand\n",
      "beer != sand\n"
     ]
    },
    {
     "name": "stderr",
     "output_type": "stream",
     "text": [
      " 30%|███       | 166/549 [00:05<00:12, 30.39it/s]"
     ]
    },
    {
     "name": "stdout",
     "output_type": "stream",
     "text": [
      "beer != sand\n",
      "clothes == clothes\n",
      "vegetables != clothes\n",
      "vegetables != clothes\n",
      "chocolate == chocolate\n",
      "pop != chocolate\n",
      "pop != chocolate\n"
     ]
    },
    {
     "name": "stderr",
     "output_type": "stream",
     "text": [
      " 32%|███▏      | 174/549 [00:05<00:12, 30.35it/s]"
     ]
    },
    {
     "name": "stdout",
     "output_type": "stream",
     "text": [
      "beer == beer\n",
      "beer == beer\n",
      "beer == beer\n",
      "audio == audio\n",
      "video != audio\n",
      "audio == audio\n",
      "ice == ice\n"
     ]
    },
    {
     "name": "stderr",
     "output_type": "stream",
     "text": [
      " 33%|███▎      | 182/549 [00:06<00:12, 30.25it/s]"
     ]
    },
    {
     "name": "stdout",
     "output_type": "stream",
     "text": [
      "ice == ice\n",
      "jam != ice\n",
      "salt == salt\n",
      "sugar != salt\n",
      "sugar != salt\n",
      "pens == pens\n",
      "pens == pens\n"
     ]
    },
    {
     "name": "stderr",
     "output_type": "stream",
     "text": [
      " 34%|███▍      | 186/549 [00:06<00:11, 30.26it/s]"
     ]
    },
    {
     "name": "stdout",
     "output_type": "stream",
     "text": [
      "p != pens\n",
      "s == s\n",
      "t != s\n",
      "t != s\n",
      "leaf == leaf\n",
      "rece != leaf\n"
     ]
    },
    {
     "name": "stderr",
     "output_type": "stream",
     "text": [
      " 35%|███▌      | 194/549 [00:06<00:11, 29.85it/s]"
     ]
    },
    {
     "name": "stdout",
     "output_type": "stream",
     "text": [
      "leaf == leaf\n",
      "g == g\n",
      "books != g\n",
      "g == g\n",
      "perf == perf\n",
      "water != perf\n",
      "water != perf\n"
     ]
    },
    {
     "name": "stderr",
     "output_type": "stream",
     "text": [
      " 37%|███▋      | 202/549 [00:06<00:11, 30.13it/s]"
     ]
    },
    {
     "name": "stdout",
     "output_type": "stream",
     "text": [
      "coc == coc\n",
      "coc == coc\n",
      "her != coc\n",
      "tea == tea\n",
      "coffee != tea\n",
      "coffee != tea\n",
      "blood == blood\n"
     ]
    },
    {
     "name": "stderr",
     "output_type": "stream",
     "text": [
      " 38%|███▊      | 206/549 [00:06<00:11, 30.09it/s]"
     ]
    },
    {
     "name": "stdout",
     "output_type": "stream",
     "text": [
      "ur != blood\n",
      "blood == blood\n",
      "videos == videos\n",
      "photos != videos\n",
      "photos != videos\n",
      "wallet == wallet\n",
      "sne != wallet\n"
     ]
    },
    {
     "name": "stderr",
     "output_type": "stream",
     "text": [
      " 39%|███▉      | 214/549 [00:07<00:11, 29.89it/s]"
     ]
    },
    {
     "name": "stdout",
     "output_type": "stream",
     "text": [
      "wallet == wallet\n",
      "sand == sand\n",
      "beer != sand\n",
      "beer != sand\n",
      "clothes == clothes\n",
      "vegetables != clothes\n"
     ]
    },
    {
     "name": "stderr",
     "output_type": "stream",
     "text": [
      " 40%|████      | 222/549 [00:07<00:10, 30.29it/s]"
     ]
    },
    {
     "name": "stdout",
     "output_type": "stream",
     "text": [
      "vegetables != clothes\n",
      "CD != jazz\n",
      "disco != jazz\n",
      "disco != jazz\n",
      "lav == lav\n",
      "sand != lav\n",
      "sand != lav\n"
     ]
    },
    {
     "name": "stderr",
     "output_type": "stream",
     "text": [
      " 41%|████      | 226/549 [00:07<00:10, 30.38it/s]"
     ]
    },
    {
     "name": "stdout",
     "output_type": "stream",
     "text": [
      "chocolate == chocolate\n",
      "pop != chocolate\n",
      "pop != chocolate\n",
      "beer == beer\n",
      "beer == beer\n",
      "beer == beer\n",
      "audio == audio\n"
     ]
    },
    {
     "name": "stderr",
     "output_type": "stream",
     "text": [
      " 43%|████▎     | 234/549 [00:07<00:10, 30.26it/s]"
     ]
    },
    {
     "name": "stdout",
     "output_type": "stream",
     "text": [
      "audio == audio\n",
      "audio == audio\n",
      "ice == ice\n",
      "ice == ice\n",
      "jam != ice\n",
      "salt == salt\n",
      "salt == salt\n"
     ]
    },
    {
     "name": "stderr",
     "output_type": "stream",
     "text": [
      " 44%|████▍     | 242/549 [00:08<00:10, 30.17it/s]"
     ]
    },
    {
     "name": "stdout",
     "output_type": "stream",
     "text": [
      "salt == salt\n",
      "pens == pens\n",
      "p != pens\n",
      "p != pens\n",
      "s == s\n",
      "s == s\n"
     ]
    },
    {
     "name": "stderr",
     "output_type": "stream",
     "text": [
      " 45%|████▍     | 246/549 [00:08<00:10, 28.08it/s]"
     ]
    },
    {
     "name": "stdout",
     "output_type": "stream",
     "text": [
      "s == s\n",
      "leaf == leaf\n",
      "rece != leaf\n",
      "leaf == leaf\n",
      "g == g\n",
      "g == g\n"
     ]
    },
    {
     "name": "stderr",
     "output_type": "stream",
     "text": [
      " 46%|████▌     | 252/549 [00:08<00:10, 28.82it/s]"
     ]
    },
    {
     "name": "stdout",
     "output_type": "stream",
     "text": [
      "g == g\n",
      "water != perf\n",
      "water != perf\n",
      "water != perf\n",
      "her != coc\n",
      "coc == coc\n"
     ]
    },
    {
     "name": "stderr",
     "output_type": "stream",
     "text": [
      " 47%|████▋     | 258/549 [00:08<00:10, 27.99it/s]"
     ]
    },
    {
     "name": "stdout",
     "output_type": "stream",
     "text": [
      "coc == coc\n",
      "tea == tea\n",
      "coffee != tea\n",
      "coffee != tea\n",
      "blood == blood\n",
      "blood == blood\n"
     ]
    },
    {
     "name": "stderr",
     "output_type": "stream",
     "text": [
      " 48%|████▊     | 265/549 [00:08<00:09, 29.26it/s]"
     ]
    },
    {
     "name": "stdout",
     "output_type": "stream",
     "text": [
      "blood == blood\n",
      "socks == socks\n",
      "scar != socks\n",
      "socks == socks\n",
      "photos != videos\n",
      "videos == videos\n",
      "photos != videos\n"
     ]
    },
    {
     "name": "stderr",
     "output_type": "stream",
     "text": [
      " 49%|████▉     | 271/549 [00:09<00:10, 26.71it/s]"
     ]
    },
    {
     "name": "stdout",
     "output_type": "stream",
     "text": [
      "wallet == wallet\n",
      "sne != wallet\n",
      "wallet == wallet\n",
      "sand == sand\n",
      "beer != sand\n"
     ]
    },
    {
     "name": "stderr",
     "output_type": "stream",
     "text": [
      " 50%|█████     | 277/549 [00:09<00:09, 27.63it/s]"
     ]
    },
    {
     "name": "stdout",
     "output_type": "stream",
     "text": [
      "beer != sand\n",
      "clothes == clothes\n",
      "vegetables != clothes\n",
      "clothes == clothes\n",
      "jazz == jazz\n",
      "jazz == jazz\n",
      "jazz == jazz\n"
     ]
    },
    {
     "name": "stderr",
     "output_type": "stream",
     "text": [
      " 52%|█████▏    | 283/549 [00:09<00:09, 28.50it/s]"
     ]
    },
    {
     "name": "stdout",
     "output_type": "stream",
     "text": [
      "lav == lav\n",
      "sand != lav\n",
      "sand != lav\n",
      "chocolate == chocolate\n",
      "pop != chocolate\n",
      "chocolate == chocolate\n"
     ]
    },
    {
     "name": "stderr",
     "output_type": "stream",
     "text": [
      " 53%|█████▎    | 289/549 [00:09<00:08, 29.03it/s]"
     ]
    },
    {
     "name": "stdout",
     "output_type": "stream",
     "text": [
      "beer == beer\n",
      "wine != beer\n",
      "wine != beer\n",
      "audio == audio\n",
      "video != audio\n",
      "video != audio\n",
      "ice == ice\n"
     ]
    },
    {
     "name": "stderr",
     "output_type": "stream",
     "text": [
      " 54%|█████▍    | 297/549 [00:10<00:08, 29.72it/s]"
     ]
    },
    {
     "name": "stdout",
     "output_type": "stream",
     "text": [
      "jam != ice\n",
      "jam != ice\n",
      "pens == pens\n",
      "p != pens\n",
      "p != pens\n",
      "s == s\n",
      "t != s\n"
     ]
    },
    {
     "name": "stderr",
     "output_type": "stream",
     "text": [
      " 55%|█████▌    | 303/549 [00:10<00:08, 29.68it/s]"
     ]
    },
    {
     "name": "stdout",
     "output_type": "stream",
     "text": [
      "t != s\n",
      "leaf == leaf\n",
      "rece != leaf\n",
      "leaf == leaf\n",
      "perf == perf\n",
      "water != perf\n"
     ]
    },
    {
     "name": "stderr",
     "output_type": "stream",
     "text": [
      " 56%|█████▋    | 309/549 [00:10<00:08, 29.81it/s]"
     ]
    },
    {
     "name": "stdout",
     "output_type": "stream",
     "text": [
      "water != perf\n",
      "tea == tea\n",
      "coffee != tea\n",
      "coffee != tea\n",
      "socks == socks\n",
      "scar != socks\n",
      "scar != socks\n"
     ]
    },
    {
     "name": "stderr",
     "output_type": "stream",
     "text": [
      " 58%|█████▊    | 317/549 [00:10<00:07, 30.21it/s]"
     ]
    },
    {
     "name": "stdout",
     "output_type": "stream",
     "text": [
      "videos == videos\n",
      "photos != videos\n",
      "photos != videos\n",
      "m != keyboard\n",
      "m != keyboard\n",
      "m != keyboard\n",
      "sand == sand\n"
     ]
    },
    {
     "name": "stderr",
     "output_type": "stream",
     "text": [
      " 59%|█████▉    | 325/549 [00:10<00:07, 30.14it/s]"
     ]
    },
    {
     "name": "stdout",
     "output_type": "stream",
     "text": [
      "beer != sand\n",
      "beer != sand\n",
      "jazz == jazz\n",
      "disco != jazz\n",
      "disco != jazz\n",
      "lav == lav\n",
      "sand != lav\n"
     ]
    },
    {
     "name": "stderr",
     "output_type": "stream",
     "text": [
      " 60%|█████▉    | 329/549 [00:11<00:07, 29.95it/s]"
     ]
    },
    {
     "name": "stdout",
     "output_type": "stream",
     "text": [
      "lav == lav\n",
      "chocolate == chocolate\n",
      "pop != chocolate\n",
      "pop != chocolate\n",
      "yellow == yellow\n"
     ]
    },
    {
     "name": "stderr",
     "output_type": "stream",
     "text": [
      " 61%|██████    | 335/549 [00:11<00:08, 25.12it/s]"
     ]
    },
    {
     "name": "stdout",
     "output_type": "stream",
     "text": [
      "red == red\n",
      "red == red\n",
      "cup == cup\n",
      "drawer == drawer\n",
      "drawer == drawer\n"
     ]
    },
    {
     "name": "stderr",
     "output_type": "stream",
     "text": [
      " 62%|██████▏   | 341/549 [00:11<00:08, 23.42it/s]"
     ]
    },
    {
     "name": "stdout",
     "output_type": "stream",
     "text": [
      "Ed != Ed\n",
      "D != D\n",
      "D != D\n",
      "shed == shed\n",
      "house == house\n"
     ]
    },
    {
     "name": "stderr",
     "output_type": "stream",
     "text": [
      " 63%|██████▎   | 347/549 [00:11<00:08, 25.12it/s]"
     ]
    },
    {
     "name": "stdout",
     "output_type": "stream",
     "text": [
      "house == house\n",
      "fence == fence\n",
      "shed == shed\n",
      "shed == shed\n",
      "basket == basket\n",
      "box == box\n"
     ]
    },
    {
     "name": "stderr",
     "output_type": "stream",
     "text": [
      " 64%|██████▍   | 354/549 [00:12<00:07, 27.67it/s]"
     ]
    },
    {
     "name": "stdout",
     "output_type": "stream",
     "text": [
      "box == box\n",
      "green == green\n",
      "blue == blue\n",
      "going != blue\n",
      "basket != laundry\n",
      "washing == washing\n",
      "washing == washing\n"
     ]
    },
    {
     "name": "stderr",
     "output_type": "stream",
     "text": [
      " 66%|██████▌   | 361/549 [00:12<00:06, 29.19it/s]"
     ]
    },
    {
     "name": "stdout",
     "output_type": "stream",
     "text": [
      "broken == broken\n",
      "broken != rep\n",
      ": != rep\n",
      "free == free\n",
      "fr == fr\n",
      "fr == fr\n",
      "reception == reception\n"
     ]
    },
    {
     "name": "stderr",
     "output_type": "stream",
     "text": [
      " 66%|██████▋   | 364/549 [00:12<00:06, 28.84it/s]"
     ]
    },
    {
     "name": "stdout",
     "output_type": "stream",
     "text": [
      "conference == conference\n",
      "conference == conference\n",
      "savings != checking\n",
      "savings == savings\n",
      "savings == savings\n"
     ]
    },
    {
     "name": "stderr",
     "output_type": "stream",
     "text": [
      " 67%|██████▋   | 370/549 [00:12<00:07, 24.88it/s]"
     ]
    },
    {
     "name": "stdout",
     "output_type": "stream",
     "text": [
      "blue != green\n",
      "blue == blue\n",
      "blue == blue\n",
      "Oxford == Oxford\n",
      "Not == Not\n"
     ]
    },
    {
     "name": "stderr",
     "output_type": "stream",
     "text": [
      " 68%|██████▊   | 376/549 [00:13<00:07, 24.29it/s]"
     ]
    },
    {
     "name": "stdout",
     "output_type": "stream",
     "text": [
      "Not == Not\n",
      "Finance != Internal\n",
      "Finance == Finance\n",
      "Finance == Finance\n",
      "A != Armen\n"
     ]
    },
    {
     "name": "stderr",
     "output_type": "stream",
     "text": [
      " 69%|██████▉   | 379/549 [00:13<00:07, 23.44it/s]"
     ]
    },
    {
     "name": "stdout",
     "output_type": "stream",
     "text": [
      "A == A\n",
      "A == A\n",
      "templates != templates\n",
      "docs != doc\n"
     ]
    },
    {
     "name": "stderr",
     "output_type": "stream",
     "text": [
      " 70%|███████   | 385/549 [00:13<00:07, 22.89it/s]"
     ]
    },
    {
     "name": "stdout",
     "output_type": "stream",
     "text": [
      "docs != doc\n",
      "right == right\n",
      "left == left\n",
      "left == left\n",
      "Y == Y\n",
      "X == X\n"
     ]
    },
    {
     "name": "stderr",
     "output_type": "stream",
     "text": [
      " 71%|███████   | 389/549 [00:13<00:06, 25.20it/s]"
     ]
    },
    {
     "name": "stdout",
     "output_type": "stream",
     "text": [
      "X == X\n",
      "box == box\n",
      "basket == basket\n",
      "basket == basket\n",
      "right == right\n"
     ]
    },
    {
     "name": "stderr",
     "output_type": "stream",
     "text": [
      " 72%|███████▏  | 395/549 [00:13<00:07, 21.72it/s]"
     ]
    },
    {
     "name": "stdout",
     "output_type": "stream",
     "text": [
      "left != right\n",
      "left != right\n",
      "cup == cup\n",
      "drawer != cup\n"
     ]
    },
    {
     "name": "stderr",
     "output_type": "stream",
     "text": [
      " 72%|███████▏  | 398/549 [00:14<00:07, 20.39it/s]"
     ]
    },
    {
     "name": "stdout",
     "output_type": "stream",
     "text": [
      "drawer != cup\n",
      "Ed != Ed\n",
      "D != Ed\n",
      "D != Ed\n"
     ]
    },
    {
     "name": "stderr",
     "output_type": "stream",
     "text": [
      " 74%|███████▎  | 404/549 [00:14<00:06, 22.23it/s]"
     ]
    },
    {
     "name": "stdout",
     "output_type": "stream",
     "text": [
      "shed == shed\n",
      "house != shed\n",
      "house != shed\n",
      "fence == fence\n",
      "shed != fence\n",
      "shed != fence\n"
     ]
    },
    {
     "name": "stderr",
     "output_type": "stream",
     "text": [
      " 75%|███████▍  | 410/549 [00:14<00:05, 24.78it/s]"
     ]
    },
    {
     "name": "stdout",
     "output_type": "stream",
     "text": [
      "box != basket\n",
      "box != basket\n",
      "box != basket\n",
      "dry == dry\n",
      "washing != dry\n",
      "washing != dry\n"
     ]
    },
    {
     "name": "stderr",
     "output_type": "stream",
     "text": [
      " 76%|███████▌  | 417/549 [00:14<00:04, 27.51it/s]"
     ]
    },
    {
     "name": "stdout",
     "output_type": "stream",
     "text": [
      "broken == broken\n",
      "broken == broken\n",
      "broken == broken\n",
      "free == free\n",
      "fr != free\n",
      "fr != free\n"
     ]
    },
    {
     "name": "stderr",
     "output_type": "stream",
     "text": [
      " 77%|███████▋  | 420/549 [00:14<00:05, 21.94it/s]"
     ]
    },
    {
     "name": "stdout",
     "output_type": "stream",
     "text": [
      "templates != templates\n",
      "docs != templates\n",
      "docs != templates\n",
      "Y == Y\n"
     ]
    },
    {
     "name": "stderr",
     "output_type": "stream",
     "text": [
      " 78%|███████▊  | 427/549 [00:15<00:04, 24.43it/s]"
     ]
    },
    {
     "name": "stdout",
     "output_type": "stream",
     "text": [
      "X != Y\n",
      "X != Y\n",
      "box == box\n",
      "chest != box\n",
      "chest != box\n",
      "red != yellow\n"
     ]
    },
    {
     "name": "stderr",
     "output_type": "stream",
     "text": [
      " 78%|███████▊  | 430/549 [00:15<00:04, 23.86it/s]"
     ]
    },
    {
     "name": "stdout",
     "output_type": "stream",
     "text": [
      "red != yellow\n",
      "red != yellow\n",
      "counter != cup\n",
      "shelf != cup\n",
      "shelf != cup\n"
     ]
    },
    {
     "name": "stderr",
     "output_type": "stream",
     "text": [
      " 79%|███████▉  | 436/549 [00:15<00:04, 25.51it/s]"
     ]
    },
    {
     "name": "stdout",
     "output_type": "stream",
     "text": [
      "box != basket\n",
      "box != basket\n",
      "box != basket\n",
      "couch != sofa\n",
      "couch != sofa\n",
      "couch != sofa\n"
     ]
    },
    {
     "name": "stderr",
     "output_type": "stream",
     "text": [
      " 81%|████████  | 442/549 [00:15<00:04, 25.91it/s]"
     ]
    },
    {
     "name": "stdout",
     "output_type": "stream",
     "text": [
      "blue != green\n",
      "blue != green\n",
      "blue != green\n",
      "Y == Y\n",
      "X != Y\n",
      "X != Y\n"
     ]
    },
    {
     "name": "stderr",
     "output_type": "stream",
     "text": [
      " 82%|████████▏ | 449/549 [00:16<00:04, 24.38it/s]"
     ]
    },
    {
     "name": "stdout",
     "output_type": "stream",
     "text": [
      "box == box\n",
      "basket != box\n",
      "basket != box\n",
      "yellow == yellow\n",
      "red != yellow\n"
     ]
    },
    {
     "name": "stderr",
     "output_type": "stream",
     "text": [
      " 82%|████████▏ | 452/549 [00:16<00:04, 23.21it/s]"
     ]
    },
    {
     "name": "stdout",
     "output_type": "stream",
     "text": [
      "red != yellow\n",
      "cup == cup\n",
      "drawer != cup\n",
      "drawer != cup\n",
      "Ed != Ed\n"
     ]
    },
    {
     "name": "stderr",
     "output_type": "stream",
     "text": [
      " 83%|████████▎ | 458/549 [00:16<00:04, 21.79it/s]"
     ]
    },
    {
     "name": "stdout",
     "output_type": "stream",
     "text": [
      "D != Ed\n",
      "D != Ed\n",
      "shed == shed\n",
      "house != shed\n",
      "house != shed\n"
     ]
    },
    {
     "name": "stderr",
     "output_type": "stream",
     "text": [
      " 85%|████████▍ | 464/549 [00:16<00:03, 23.59it/s]"
     ]
    },
    {
     "name": "stdout",
     "output_type": "stream",
     "text": [
      "neighbor != fence\n",
      "neighbor != fence\n",
      "one != fence\n",
      "basket == basket\n",
      "box != basket\n",
      "box != basket\n"
     ]
    },
    {
     "name": "stderr",
     "output_type": "stream",
     "text": [
      " 86%|████████▌ | 472/549 [00:16<00:02, 27.04it/s]"
     ]
    },
    {
     "name": "stdout",
     "output_type": "stream",
     "text": [
      "green == green\n",
      "blue != green\n",
      "going != green\n",
      "dry != laundry\n",
      "washing != laundry\n",
      "washing != laundry\n",
      "broken == broken\n"
     ]
    },
    {
     "name": "stderr",
     "output_type": "stream",
     "text": [
      " 87%|████████▋ | 476/549 [00:17<00:02, 27.93it/s]"
     ]
    },
    {
     "name": "stdout",
     "output_type": "stream",
     "text": [
      "broken == broken\n",
      "broken == broken\n",
      "free == free\n",
      "fr != free\n",
      "fr != free\n",
      "conference != reception\n",
      "conference != reception\n"
     ]
    },
    {
     "name": "stderr",
     "output_type": "stream",
     "text": [
      " 88%|████████▊ | 483/549 [00:17<00:02, 26.88it/s]"
     ]
    },
    {
     "name": "stdout",
     "output_type": "stream",
     "text": [
      "conference != reception\n",
      "savings != checking\n",
      "checking == checking\n",
      "savings != checking\n",
      "Oxford == Oxford\n"
     ]
    },
    {
     "name": "stderr",
     "output_type": "stream",
     "text": [
      " 89%|████████▉ | 489/549 [00:17<00:02, 25.98it/s]"
     ]
    },
    {
     "name": "stdout",
     "output_type": "stream",
     "text": [
      "Oxford == Oxford\n",
      "Not != Oxford\n",
      "Finance != Internal\n",
      "Finance != Internal\n",
      "Finance != Internal\n",
      "A != Armen\n"
     ]
    },
    {
     "name": "stderr",
     "output_type": "stream",
     "text": [
      " 90%|████████▉ | 492/549 [00:17<00:02, 26.09it/s]"
     ]
    },
    {
     "name": "stdout",
     "output_type": "stream",
     "text": [
      "A != Armen\n",
      "A != Armen\n",
      "templates != templates\n",
      "docs != templates\n"
     ]
    },
    {
     "name": "stderr",
     "output_type": "stream",
     "text": [
      " 91%|█████████ | 498/549 [00:18<00:02, 24.41it/s]"
     ]
    },
    {
     "name": "stdout",
     "output_type": "stream",
     "text": [
      "docs != templates\n",
      "Y == Y\n",
      "X != Y\n",
      "X != Y\n",
      "box == box\n",
      "basket != box\n"
     ]
    },
    {
     "name": "stderr",
     "output_type": "stream",
     "text": [
      " 92%|█████████▏| 504/549 [00:18<00:01, 24.16it/s]"
     ]
    },
    {
     "name": "stdout",
     "output_type": "stream",
     "text": [
      "basket != box\n",
      "yellow == yellow\n",
      "red != yellow\n",
      ": != yellow\n",
      "drawer != cup\n"
     ]
    },
    {
     "name": "stderr",
     "output_type": "stream",
     "text": [
      " 93%|█████████▎| 510/549 [00:18<00:01, 23.12it/s]"
     ]
    },
    {
     "name": "stdout",
     "output_type": "stream",
     "text": [
      "drawer != cup\n",
      "drawer != cup\n",
      "D != Ed\n",
      "D != Ed\n",
      "D != Ed\n"
     ]
    },
    {
     "name": "stderr",
     "output_type": "stream",
     "text": [
      " 94%|█████████▍| 516/549 [00:18<00:01, 26.00it/s]"
     ]
    },
    {
     "name": "stdout",
     "output_type": "stream",
     "text": [
      "shed == shed\n",
      "shed == shed\n",
      "house != shed\n",
      "basket == basket\n",
      "box != basket\n",
      "box != basket\n"
     ]
    },
    {
     "name": "stderr",
     "output_type": "stream",
     "text": [
      " 95%|█████████▍| 520/549 [00:18<00:01, 27.35it/s]"
     ]
    },
    {
     "name": "stdout",
     "output_type": "stream",
     "text": [
      "green == green\n",
      "green == green\n",
      "going != green\n",
      "washing != laundry\n",
      "washing != laundry\n",
      "washing != laundry\n",
      "now != broken\n"
     ]
    },
    {
     "name": "stderr",
     "output_type": "stream",
     "text": [
      " 96%|█████████▌| 527/549 [00:19<00:00, 28.62it/s]"
     ]
    },
    {
     "name": "stdout",
     "output_type": "stream",
     "text": [
      "broken == broken\n",
      "broken == broken\n",
      "free == free\n",
      "free == free\n",
      "fr != free\n",
      "conference != reception\n"
     ]
    },
    {
     "name": "stderr",
     "output_type": "stream",
     "text": [
      " 97%|█████████▋| 533/549 [00:19<00:00, 28.83it/s]"
     ]
    },
    {
     "name": "stdout",
     "output_type": "stream",
     "text": [
      "conference != reception\n",
      "conference != reception\n",
      "savings != checking\n",
      "checking == checking\n",
      "savings != checking\n",
      "Oxford != Not\n"
     ]
    },
    {
     "name": "stderr",
     "output_type": "stream",
     "text": [
      " 98%|█████████▊| 539/549 [00:19<00:00, 26.85it/s]"
     ]
    },
    {
     "name": "stdout",
     "output_type": "stream",
     "text": [
      "Oxford != Not\n",
      "Not == Not\n",
      "Finance != Internal\n",
      "Finance != Internal\n",
      "Finance != Internal\n"
     ]
    },
    {
     "name": "stderr",
     "output_type": "stream",
     "text": [
      " 99%|█████████▉| 545/549 [00:19<00:00, 24.02it/s]"
     ]
    },
    {
     "name": "stdout",
     "output_type": "stream",
     "text": [
      "templates != templates\n",
      "docs != templates\n",
      "templates != templates\n",
      "X != Y\n",
      "X != Y\n"
     ]
    },
    {
     "name": "stderr",
     "output_type": "stream",
     "text": [
      "100%|██████████| 549/549 [00:19<00:00, 27.48it/s]"
     ]
    },
    {
     "name": "stdout",
     "output_type": "stream",
     "text": [
      "X != Y\n",
      "box == box\n",
      "basket != box\n",
      "basket != box\n",
      "Accuracy: 0.53\n"
     ]
    },
    {
     "name": "stderr",
     "output_type": "stream",
     "text": [
      "\n"
     ]
    }
   ],
   "source": [
    "correct, total = 0, 0\n",
    "with torch.no_grad():\n",
    "    for inp in tqdm(dataloader, total=len(dataloader)):\n",
    "        inp[\"input_ids\"] = inp[\"input_ids\"].to(device)\n",
    "        inp[\"attention_mask\"] = inp[\"attention_mask\"].to(device)\n",
    "\n",
    "        outputs = model(inp[\"input_ids\"])\n",
    "        logits = outputs.logits\n",
    "        predicted_ids = torch.argmax(logits[:, -1], dim=-1)\n",
    "\n",
    "        for i, predicted_id in enumerate(predicted_ids):\n",
    "            if predicted_id == inp[\"target\"][i]:\n",
    "                # print(f\"{tokenizer.decode(predicted_id)} == {tokenizer.decode(inp['target'][i])}\")\n",
    "                correct += 1\n",
    "            else:\n",
    "                pass\n",
    "                # print(f\"{tokenizer.decode(predicted_id)} != {tokenizer.decode(inp['target'][i])}\")\n",
    "            total += 1\n",
    "\n",
    "print(f\"Accuracy: {correct/total:.2f}\")"
   ]
  },
  {
   "cell_type": "code",
   "execution_count": null,
   "metadata": {},
   "outputs": [],
   "source": []
  }
 ],
 "metadata": {
  "kernelspec": {
   "display_name": "Python 3 (ipykernel)",
   "language": "python",
   "name": "python3"
  },
  "language_info": {
   "codemirror_mode": {
    "name": "ipython",
    "version": 3
   },
   "file_extension": ".py",
   "mimetype": "text/x-python",
   "name": "python",
   "nbconvert_exporter": "python",
   "pygments_lexer": "ipython3",
   "version": "3.10.13"
  }
 },
 "nbformat": 4,
 "nbformat_minor": 2
}
