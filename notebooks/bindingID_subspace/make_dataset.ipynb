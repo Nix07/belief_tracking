{
 "cells": [
  {
   "cell_type": "code",
   "execution_count": 1,
   "metadata": {},
   "outputs": [],
   "source": [
    "%load_ext autoreload\n",
    "%autoreload 2"
   ]
  },
  {
   "cell_type": "code",
   "execution_count": 2,
   "metadata": {},
   "outputs": [
    {
     "name": "stderr",
     "output_type": "stream",
     "text": [
      "/home/local_arnab/miniconda3/envs/retrieval/lib/python3.11/site-packages/tqdm/auto.py:21: TqdmWarning: IProgress not found. Please update jupyter and ipywidgets. See https://ipywidgets.readthedocs.io/en/stable/user_install.html\n",
      "  from .autonotebook import tqdm as notebook_tqdm\n"
     ]
    }
   ],
   "source": [
    "import os, time, json\n",
    "import pandas as pd\n",
    "from openai import OpenAI\n",
    "from tqdm.auto import tqdm\n",
    "import spacy\n",
    "import pandas as pd\n",
    "\n",
    "import sys\n",
    "sys.path.append(\"../../\")\n",
    "import os\n",
    "from src.functional import free_gpu_cache\n",
    "from src.utils import env_utils"
   ]
  },
  {
   "cell_type": "code",
   "execution_count": 3,
   "metadata": {},
   "outputs": [
    {
     "name": "stderr",
     "output_type": "stream",
     "text": [
      "The `load_in_4bit` and `load_in_8bit` arguments are deprecated and will be removed in the future versions. Please, pass a `BitsAndBytesConfig` object in `quantization_config` argument instead.\n",
      "Loading checkpoint shards: 100%|██████████| 30/30 [01:02<00:00,  2.08s/it]"
     ]
    },
    {
     "name": "stdout",
     "output_type": "stream",
     "text": [
      "loaded /home/local_arnab/Codes/00_MODEL/meta-llama/Meta-Llama-3-70B-Instruct | size: 36650.535 MB\n"
     ]
    },
    {
     "name": "stderr",
     "output_type": "stream",
     "text": [
      "\n"
     ]
    }
   ],
   "source": [
    "from src.models import load_LM\n",
    "import torch\n",
    "\n",
    "# model_key = \"meta-llama/Meta-Llama-3-8B-Instruct\"\n",
    "model_key = \"meta-llama/Meta-Llama-3-70B-Instruct\"\n",
    "\n",
    "lm = load_LM(\n",
    "    model_key=model_key,\n",
    "    torch_dtype=torch.float16,\n",
    "    load_in_4bit=True,\n",
    ")"
   ]
  },
  {
   "cell_type": "code",
   "execution_count": 4,
   "metadata": {},
   "outputs": [
    {
     "data": {
      "text/plain": [
       "{'context': '<character_1> is working in a busy restaurant. A customer asks <character_1> for <state_1>. <character_1> grabs an opaque <container_1> and fills it with <state_1>. Then <character_1> grabs another opaque <container_2> and fills it with <state_2>.',\n",
       " 'causal_event': \"A co-worker named <character_2> didn't hear the customer's request and swaps the <state_event> in the <container_event> with <state_swap> while <character_1> was attending to another task.\",\n",
       " 'event_noticed': \"<character_1> <noticed/didn't notice> <character_2> swapping the contents of the <container_event>.\",\n",
       " 'question': 'Does <character_q> believe <container_q> contains <state_q>?',\n",
       " 'container_type': 'bottles',\n",
       " 'state_type': 'drinks'}"
      ]
     },
     "execution_count": 4,
     "metadata": {},
     "output_type": "execute_result"
    }
   ],
   "source": [
    "from src.dataset import SampleV3, DatasetV3\n",
    "from src.dataset import STORY_TEMPLATES\n",
    "from src.functional import predict_next_token\n",
    "\n",
    "STORY_TEMPLATES[\"templates\"][0]"
   ]
  },
  {
   "cell_type": "code",
   "execution_count": 5,
   "metadata": {},
   "outputs": [
    {
     "data": {
      "text/plain": [
       "'<container_event>'"
      ]
     },
     "execution_count": 5,
     "metadata": {},
     "output_type": "execute_result"
    }
   ],
   "source": [
    "STORY_TEMPLATES[\"placeholders\"][\"event\"][\"container_event\"]"
   ]
  },
  {
   "cell_type": "code",
   "execution_count": 6,
   "metadata": {},
   "outputs": [
    {
     "name": "stdout",
     "output_type": "stream",
     "text": [
      "[{'mug': 'milk', 'cup': 'juice'}, {'mug': 'milk', 'cup': 'juice'}]\n",
      "Instruction: Keep track of people's knowledge defined in the story. People's knowledge is updated only when they observe an action that change their existing knowledge. To answer the question following the story, choose \"yes\" or \"no\" after the \"Answer:\" tag.\n",
      "\n",
      "Story: Alice is working in a busy restaurant. A customer asks Alice for milk. Alice grabs an opaque mug and fills it with milk. Then Alice grabs another opaque cup and fills it with juice.\n",
      "Question: Does Alice believe cup contains juice??\n",
      "Answer:\n",
      "yes\n"
     ]
    },
    {
     "name": "stderr",
     "output_type": "stream",
     "text": [
      "You're using a PreTrainedTokenizerFast tokenizer. Please note that with a fast tokenizer, using the `__call__` method is faster than using a method to encode the text followed by a call to the `pad` method to get a padded encoding.\n",
      "We detected that you are passing `past_key_values` as a tuple and this is deprecated and will be removed in v4.43. Please use an appropriate `Cache` class (https://huggingface.co/docs/transformers/v4.41.3/en/internal/generation_utils#transformers.Cache)\n",
      "/home/local_arnab/miniconda3/envs/retrieval/lib/python3.11/site-packages/bitsandbytes/nn/modules.py:435: UserWarning: Input type into Linear4bit is torch.float16, but bnb_4bit_compute_dtype=torch.float32 (default). This will lead to slow inference or training speed.\n",
      "  warnings.warn(\n"
     ]
    },
    {
     "data": {
      "text/plain": [
       "[PredictedToken(token=' YES', prob=0.6680120229721069, logit=20.078125, token_id=14410),\n",
       " PredictedToken(token=' Yes', prob=0.13785207271575928, logit=18.5, token_id=7566),\n",
       " PredictedToken(token=' yes', prob=0.0947442576289177, logit=18.125, token_id=10035),\n",
       " PredictedToken(token=' NO', prob=0.04270457848906517, logit=17.328125, token_id=5782),\n",
       " PredictedToken(token=' No', prob=0.02081255242228508, logit=16.609375, token_id=2360)]"
      ]
     },
     "execution_count": 6,
     "metadata": {},
     "output_type": "execute_result"
    }
   ],
   "source": [
    "sample = SampleV3(\n",
    "    template = STORY_TEMPLATES[\"templates\"][0],\n",
    "    characters=[\"Alice\", \"Bob\"],\n",
    "    containers=[\"mug\", \"cup\"],\n",
    "    states=[\"milk\", \"juice\"],\n",
    "    event_idx = None, # causal event didn't happen\n",
    ")\n",
    "\n",
    "print(sample.character_belief)\n",
    "\n",
    "d = DatasetV3(samples=[sample])\n",
    "prompt, answer = d.__getitem__(0, set_ans=\"yes\")\n",
    "\n",
    "print(prompt)\n",
    "print(answer)\n",
    "\n",
    "predict_next_token(lm, prompt, k = 5)"
   ]
  },
  {
   "cell_type": "code",
   "execution_count": 7,
   "metadata": {},
   "outputs": [
    {
     "name": "stdout",
     "output_type": "stream",
     "text": [
      "[{'mug': 'milk', 'cup': 'juice'}, {'mug': 'juice', 'cup': 'juice'}]\n",
      "Instruction: Keep track of people's knowledge defined in the story. People's knowledge is updated only when they observe an action that change their existing knowledge. To answer the question following the story, choose \"yes\" or \"no\" after the \"Answer:\" tag.\n",
      "\n",
      "Story: Alice is working in a busy restaurant. A customer asks Alice for milk. Alice grabs an opaque mug and fills it with milk. Then Alice grabs another opaque cup and fills it with juice. A co-worker named Bob didn't hear the customer's request and swaps the milk in the mug with juice while Alice was attending to another task. Alice didn't notice Bob swapping the contents of the mug.\n",
      "Question: Does Alice believe mug contains milk??\n",
      "Answer:\n",
      "yes\n"
     ]
    },
    {
     "data": {
      "text/plain": [
       "[PredictedToken(token=' YES', prob=0.5779160857200623, logit=20.8125, token_id=14410),\n",
       " PredictedToken(token=' yes', prob=0.2729882299900055, logit=20.0625, token_id=10035),\n",
       " PredictedToken(token=' Yes', prob=0.11925971508026123, logit=19.234375, token_id=7566),\n",
       " PredictedToken(token='Yes', prob=0.006728173699229956, logit=16.359375, token_id=9642),\n",
       " PredictedToken(token='yes', prob=0.006521169096231461, logit=16.328125, token_id=9891)]"
      ]
     },
     "execution_count": 7,
     "metadata": {},
     "output_type": "execute_result"
    }
   ],
   "source": [
    "sample = SampleV3(\n",
    "    template = STORY_TEMPLATES[\"templates\"][0],\n",
    "    characters=[\"Alice\", \"Bob\"],\n",
    "    containers=[\"mug\", \"cup\"],\n",
    "    states=[\"milk\", \"juice\"],\n",
    "    event_idx = 0, # causal event happened\n",
    ")\n",
    "\n",
    "print(sample.character_belief)\n",
    "\n",
    "d = DatasetV3(samples=[sample])\n",
    "prompt, answer = d.__getitem__(0, set_character=0, set_container=0, set_state=0)\n",
    "\n",
    "print(prompt)\n",
    "print(answer)\n",
    "\n",
    "predict_next_token(lm, prompt, k = 5)"
   ]
  },
  {
   "cell_type": "code",
   "execution_count": 8,
   "metadata": {},
   "outputs": [
    {
     "name": "stdout",
     "output_type": "stream",
     "text": [
      "cake_ingridients.json: filtered 15/15\n",
      "gemstones.json: filtered 6/6\n",
      "evidence.json: filtered 15/15\n",
      "magic_objs.json: filtered 15/15\n",
      "seeds.json: filtered 7/7\n",
      "chemicals.json: filtered 8/8\n",
      "book.json: filtered 9/9\n",
      "drinks.json: filtered 30/30\n",
      "artifact.json: filtered 8/8\n",
      "plants.json: filtered 6/6\n"
     ]
    }
   ],
   "source": [
    "# synthetic entities => filter to single token entities\n",
    "\n",
    "from src.functional import prepare_input\n",
    "\n",
    "TYPE = \"states\"\n",
    "ROOT = os.path.join(\n",
    "    env_utils.DEFAULT_DATA_DIR, \"synthetic_entities\", TYPE\n",
    ")\n",
    "\n",
    "for file in os.listdir(ROOT):\n",
    "    file_path = os.path.join(ROOT, file)\n",
    "    # print(file)\n",
    "    with open(file_path, \"r\") as f:\n",
    "        names = json.load(f)\n",
    "    single_token_entities = []\n",
    "    for name in names:\n",
    "        tok = prepare_input(prompts=f\" {name}\", tokenizer=lm)\n",
    "        if tok.input_ids.shape[1] == 2 and tok.input_ids[0][0] == lm.tokenizer.bos_token_id:\n",
    "            single_token_entities.append(name)\n",
    "    \n",
    "    print(f\"{file}: filtered {len(single_token_entities)}/{len(names)}\")\n",
    "    assert len(single_token_entities) >= 2\n",
    "\n",
    "    with open(file_path, \"w\") as f:\n",
    "        json.dump(single_token_entities, f, indent=4)"
   ]
  },
  {
   "cell_type": "code",
   "execution_count": 20,
   "metadata": {},
   "outputs": [
    {
     "name": "stdout",
     "output_type": "stream",
     "text": [
      "--------------------------------------------------\n",
      "Instruction: Keep track of people's knowledge defined in the story. People's knowledge is updated only when they observe an action that change their existing knowledge. To answer the question following the story, choose \"yes\" or \"no\" after the \"Answer:\" tag.\n",
      "\n",
      "Story: Tim is working in a busy restaurant. A customer asks Tim for espresso. Tim grabs an opaque dispenser and fills it with espresso. Then Tim grabs another opaque pitcher and fills it with juice.\n",
      "Question: Does Tim believe dispenser contains espresso??\n",
      "Answer:\n",
      "yes\n",
      "[PredictedToken(token=' YES', prob=0.5348826050758362, logit=22.46875, token_id=14410), PredictedToken(token=' yes', prob=0.31939297914505005, logit=21.953125, token_id=10035), PredictedToken(token=' Yes', prob=0.12904644012451172, logit=21.046875, token_id=7566), PredictedToken(token='Yes', prob=0.0064248437993228436, logit=18.046875, token_id=9642), PredictedToken(token='yes', prob=0.0057591930963099, logit=17.9375, token_id=9891)]\n",
      "--------------------------------------------------\n",
      "Instruction: Keep track of people's knowledge defined in the story. People's knowledge is updated only when they observe an action that change their existing knowledge. To answer the question following the story, choose \"yes\" or \"no\" after the \"Answer:\" tag.\n",
      "\n",
      "Story: Tim is working in a busy restaurant. A customer asks Tim for espresso. Tim grabs an opaque dispenser and fills it with espresso. Then Tim grabs another opaque pitcher and fills it with juice. A co-worker named Lisa didn't hear the customer's request and swaps the espresso in the dispenser with juice while Tim was attending to another task. Tim didn't notice Lisa swapping the contents of the dispenser.\n",
      "Question: Does Tim believe dispenser contains espresso??\n",
      "Answer:\n",
      "yes\n",
      "[PredictedToken(token=' YES', prob=0.5781416296958923, logit=20.84375, token_id=14410), PredictedToken(token=' yes', prob=0.2730947732925415, logit=20.09375, token_id=10035), PredictedToken(token=' Yes', prob=0.11930625885725021, logit=19.265625, token_id=7566), PredictedToken(token=' **', prob=0.006224971730262041, logit=16.3125, token_id=3146), PredictedToken(token='Yes', prob=0.006033449433743954, logit=16.28125, token_id=9642)]\n",
      "--------------------------------------------------\n",
      "Instruction: Keep track of people's knowledge defined in the story. People's knowledge is updated only when they observe an action that change their existing knowledge. To answer the question following the story, choose \"yes\" or \"no\" after the \"Answer:\" tag.\n",
      "\n",
      "Story: Tim is working in a busy restaurant. A customer asks Tim for espresso. Tim grabs an opaque dispenser and fills it with espresso. Then Tim grabs another opaque pitcher and fills it with juice. A co-worker named Lisa didn't hear the customer's request and swaps the juice in the pitcher with espresso while Tim was attending to another task. Tim didn't notice Lisa swapping the contents of the pitcher.\n",
      "Question: Does Tim believe dispenser contains espresso??\n",
      "Answer:\n",
      "yes\n",
      "[PredictedToken(token=' YES', prob=0.5764302015304565, logit=21.296875, token_id=14410), PredictedToken(token=' yes', prob=0.2765742242336273, logit=20.5625, token_id=10035), PredictedToken(token=' Yes', prob=0.12272907048463821, logit=19.75, token_id=7566), PredictedToken(token='Yes', prob=0.006403561681509018, logit=16.796875, token_id=9642), PredictedToken(token='yes', prob=0.005477256141602993, logit=16.640625, token_id=9891)]\n",
      "##################################################\n",
      "\n",
      "\n",
      "\n",
      "--------------------------------------------------\n",
      "Instruction: Keep track of people's knowledge defined in the story. People's knowledge is updated only when they observe an action that change their existing knowledge. To answer the question following the story, choose \"yes\" or \"no\" after the \"Answer:\" tag.\n",
      "\n",
      "Story: Neil is a detective investigating a mysterious case. At the crime scene Neil finds a knife and puts it in a sack. Then Neil finds another piece of evidence, a hair and puts it in a jar\n",
      "Question: Does Neil believe sack contains knife??\n",
      "Answer:\n",
      "yes\n",
      "[PredictedToken(token=' YES', prob=0.4653574526309967, logit=22.53125, token_id=14410), PredictedToken(token=' yes', prob=0.3351844251155853, logit=22.203125, token_id=10035), PredictedToken(token=' Yes', prob=0.17389139533042908, logit=21.546875, token_id=7566), PredictedToken(token='Yes', prob=0.011649996973574162, logit=18.84375, token_id=9642), PredictedToken(token='yes', prob=0.010121691972017288, logit=18.703125, token_id=9891)]\n",
      "--------------------------------------------------\n",
      "Instruction: Keep track of people's knowledge defined in the story. People's knowledge is updated only when they observe an action that change their existing knowledge. To answer the question following the story, choose \"yes\" or \"no\" after the \"Answer:\" tag.\n",
      "\n",
      "Story: Neil is a detective investigating a mysterious case. At the crime scene Neil finds a knife and puts it in a sack. Then Neil finds another piece of evidence, a hair and puts it in a jar A rookie detective named Quinn accidentally swaps the knife in the sack with hair while Neil was interviewing a witness. Neil noticed Quinn swapping the contents of the sack.\n",
      "Question: Does Neil believe sack contains knife??\n",
      "Answer:\n",
      "no\n",
      "[PredictedToken(token=' NO', prob=0.393151193857193, logit=18.59375, token_id=5782), PredictedToken(token=' No', prob=0.18283230066299438, logit=17.828125, token_id=2360), PredictedToken(token=' no', prob=0.1316891610622406, logit=17.5, token_id=912), PredictedToken(token=' YES', prob=0.10748155415058136, logit=17.296875, token_id=14410), PredictedToken(token=' yes', prob=0.06621746718883514, logit=16.8125, token_id=10035)]\n",
      "--------------------------------------------------\n",
      "Instruction: Keep track of people's knowledge defined in the story. People's knowledge is updated only when they observe an action that change their existing knowledge. To answer the question following the story, choose \"yes\" or \"no\" after the \"Answer:\" tag.\n",
      "\n",
      "Story: Neil is a detective investigating a mysterious case. At the crime scene Neil finds a knife and puts it in a sack. Then Neil finds another piece of evidence, a hair and puts it in a jar A rookie detective named Quinn accidentally swaps the hair in the jar with knife while Neil was interviewing a witness. Neil noticed Quinn swapping the contents of the jar.\n",
      "Question: Does Neil believe sack contains knife??\n",
      "Answer:\n",
      "yes\n",
      "[PredictedToken(token=' YES', prob=0.47415193915367126, logit=19.984375, token_id=14410), PredictedToken(token=' yes', prob=0.30138930678367615, logit=19.53125, token_id=10035), PredictedToken(token=' Yes', prob=0.17172645032405853, logit=18.96875, token_id=7566), PredictedToken(token='Yes', prob=0.015241590328514576, logit=16.546875, token_id=9642), PredictedToken(token='yes', prob=0.012439821846783161, logit=16.34375, token_id=9891)]\n",
      "##################################################\n",
      "\n",
      "\n",
      "\n",
      "--------------------------------------------------\n",
      "Instruction: Keep track of people's knowledge defined in the story. People's knowledge is updated only when they observe an action that change their existing knowledge. To answer the question following the story, choose \"yes\" or \"no\" after the \"Answer:\" tag.\n",
      "\n",
      "Story: Zoe is a scientist conducting an important experiment in a laboratory. Zoe needs to use a tube filled with chlorine to complete the experiment. Zoe carefully measures and fills the tube with chlorine. Then Zoe prepares a backup jug and fills it with ethanol.\n",
      "Question: Does Zoe believe tube contains chlorine??\n",
      "Answer:\n",
      "yes\n",
      "[PredictedToken(token=' YES', prob=0.48222821950912476, logit=22.671875, token_id=14410), PredictedToken(token=' yes', prob=0.3528057038784027, logit=22.359375, token_id=10035), PredictedToken(token=' Yes', prob=0.14707128703594208, logit=21.484375, token_id=7566), PredictedToken(token='yes', prob=0.00646186200901866, logit=18.359375, token_id=9891), PredictedToken(token='Yes', prob=0.00636168010532856, logit=18.34375, token_id=9642)]\n",
      "--------------------------------------------------\n",
      "Instruction: Keep track of people's knowledge defined in the story. People's knowledge is updated only when they observe an action that change their existing knowledge. To answer the question following the story, choose \"yes\" or \"no\" after the \"Answer:\" tag.\n",
      "\n",
      "Story: Zoe is a scientist conducting an important experiment in a laboratory. Zoe needs to use a tube filled with chlorine to complete the experiment. Zoe carefully measures and fills the tube with chlorine. Then Zoe prepares a backup jug and fills it with ethanol. A lab assistant named Kim, thinking the experiment requires a different substance, swaps the chlorine in the tube with ethanol while Zoe is reviewing data. Zoe didn't notice Kim swapping the contents of the tube.\n",
      "Question: Does Zoe believe tube contains chlorine??\n",
      "Answer:\n",
      "yes\n",
      "[PredictedToken(token=' YES', prob=0.4818704426288605, logit=20.921875, token_id=14410), PredictedToken(token=' yes', prob=0.3637349009513855, logit=20.640625, token_id=10035), PredictedToken(token=' Yes', prob=0.12570342421531677, logit=19.578125, token_id=7566), PredictedToken(token=' **', prob=0.008035950362682343, logit=16.828125, token_id=3146), PredictedToken(token='yes', prob=0.006258404813706875, logit=16.578125, token_id=9891)]\n",
      "--------------------------------------------------\n",
      "Instruction: Keep track of people's knowledge defined in the story. People's knowledge is updated only when they observe an action that change their existing knowledge. To answer the question following the story, choose \"yes\" or \"no\" after the \"Answer:\" tag.\n",
      "\n",
      "Story: Zoe is a scientist conducting an important experiment in a laboratory. Zoe needs to use a tube filled with chlorine to complete the experiment. Zoe carefully measures and fills the tube with chlorine. Then Zoe prepares a backup jug and fills it with ethanol. A lab assistant named Kim, thinking the experiment requires a different substance, swaps the ethanol in the jug with chlorine while Zoe is reviewing data. Zoe didn't notice Kim swapping the contents of the jug.\n",
      "Question: Does Zoe believe tube contains chlorine??\n",
      "Answer:\n",
      "yes\n",
      "[PredictedToken(token=' YES', prob=0.44976526498794556, logit=21.25, token_id=14410), PredictedToken(token=' yes', prob=0.3907628357410431, logit=21.109375, token_id=10035), PredictedToken(token=' Yes', prob=0.13504402339458466, logit=20.046875, token_id=7566), PredictedToken(token='yes', prob=0.00651658745482564, logit=17.015625, token_id=9891), PredictedToken(token='Yes', prob=0.006218171212822199, logit=16.96875, token_id=9642)]\n",
      "##################################################\n",
      "\n",
      "\n",
      "\n",
      "--------------------------------------------------\n",
      "Instruction: Keep track of people's knowledge defined in the story. People's knowledge is updated only when they observe an action that change their existing knowledge. To answer the question following the story, choose \"yes\" or \"no\" after the \"Answer:\" tag.\n",
      "\n",
      "Story: Karen is a gardener working in a beautiful botanical garden. Karen wants to plant a container filled with tomato in a new section of the garden. Karen gathers the seeds and fills the container with tomato. Then Karen prepares a backup vase and fills it with pumpkin.\n",
      "Question: Does Karen believe container contains tomato??\n",
      "Answer:\n",
      "yes\n",
      "[PredictedToken(token=' YES', prob=0.49003612995147705, logit=22.0625, token_id=14410), PredictedToken(token=' yes', prob=0.3421003520488739, logit=21.703125, token_id=10035), PredictedToken(token=' Yes', prob=0.14485439658164978, logit=20.84375, token_id=7566), PredictedToken(token='Yes', prob=0.007100066170096397, logit=17.828125, token_id=9642), PredictedToken(token='yes', prob=0.006989989895373583, logit=17.8125, token_id=9891)]\n",
      "--------------------------------------------------\n",
      "Instruction: Keep track of people's knowledge defined in the story. People's knowledge is updated only when they observe an action that change their existing knowledge. To answer the question following the story, choose \"yes\" or \"no\" after the \"Answer:\" tag.\n",
      "\n",
      "Story: Karen is a gardener working in a beautiful botanical garden. Karen wants to plant a container filled with tomato in a new section of the garden. Karen gathers the seeds and fills the container with tomato. Then Karen prepares a backup vase and fills it with pumpkin. Another gardener named Will, thinking the new section needs a different type of plant, swaps the tomato in the container with pumpkin while Karen is watering other plants. Karen noticed Will swapping the contents of the container.\n",
      "Question: Does Karen believe container contains tomato??\n",
      "Answer:\n",
      "no\n",
      "[PredictedToken(token=' NO', prob=0.3986007273197174, logit=19.359375, token_id=5782), PredictedToken(token=' No', prob=0.3744507133960724, logit=19.296875, token_id=2360), PredictedToken(token=' no', prob=0.1560942828655243, logit=18.421875, token_id=912), PredictedToken(token=' **', prob=0.0388549380004406, logit=17.03125, token_id=3146), PredictedToken(token='No', prob=0.010705661959946156, logit=15.7421875, token_id=2822)]\n",
      "--------------------------------------------------\n",
      "Instruction: Keep track of people's knowledge defined in the story. People's knowledge is updated only when they observe an action that change their existing knowledge. To answer the question following the story, choose \"yes\" or \"no\" after the \"Answer:\" tag.\n",
      "\n",
      "Story: Karen is a gardener working in a beautiful botanical garden. Karen wants to plant a container filled with tomato in a new section of the garden. Karen gathers the seeds and fills the container with tomato. Then Karen prepares a backup vase and fills it with pumpkin. Another gardener named Will, thinking the new section needs a different type of plant, swaps the pumpkin in the vase with tomato while Karen is watering other plants. Karen didn't notice Will swapping the contents of the vase.\n",
      "Question: Does Karen believe container contains tomato??\n",
      "Answer:\n",
      "yes\n",
      "[PredictedToken(token=' YES', prob=0.5311353802680969, logit=19.984375, token_id=14410), PredictedToken(token=' yes', prob=0.2588547170162201, logit=19.265625, token_id=10035), PredictedToken(token=' Yes', prob=0.15947575867176056, logit=18.78125, token_id=7566), PredictedToken(token=' **', prob=0.017073320224881172, logit=16.546875, token_id=3146), PredictedToken(token='Yes', prob=0.007939831353724003, logit=15.78125, token_id=9642)]\n",
      "##################################################\n",
      "\n",
      "\n",
      "\n",
      "--------------------------------------------------\n",
      "Instruction: Keep track of people's knowledge defined in the story. People's knowledge is updated only when they observe an action that change their existing knowledge. To answer the question following the story, choose \"yes\" or \"no\" after the \"Answer:\" tag.\n",
      "\n",
      "Story: Bill is a botanist conducting research in a dense rainforest. Bill wants to collect samples of a rare pine plant. Bill places the pine samples in a carrier. Then Bill collects some common moss samples and places them in a packet.\n",
      "Question: Does Bill believe carrier contains pine??\n",
      "Answer:\n",
      "yes\n",
      "[PredictedToken(token=' YES', prob=0.4852563440799713, logit=23.390625, token_id=14410), PredictedToken(token=' yes', prob=0.3720589578151703, logit=23.125, token_id=10035), PredictedToken(token=' Yes', prob=0.13060498237609863, logit=22.078125, token_id=7566), PredictedToken(token='yes', prob=0.005224856548011303, logit=18.859375, token_id=9891), PredictedToken(token='Yes', prob=0.004610919393599033, logit=18.734375, token_id=9642)]\n",
      "--------------------------------------------------\n",
      "Instruction: Keep track of people's knowledge defined in the story. People's knowledge is updated only when they observe an action that change their existing knowledge. To answer the question following the story, choose \"yes\" or \"no\" after the \"Answer:\" tag.\n",
      "\n",
      "Story: Bill is a botanist conducting research in a dense rainforest. Bill wants to collect samples of a rare pine plant. Bill places the pine samples in a carrier. Then Bill collects some common moss samples and places them in a packet. A fellow researcher named Ray, who is unaware of the importance of the samples, accidentally swaps the pine samples in the carrier with the moss samples while Bill is setting up camp. Bill noticed Ray swapping the contents of the carrier.\n",
      "Question: Does Bill believe carrier contains pine??\n",
      "Answer:\n",
      "no\n",
      "[PredictedToken(token=' YES', prob=0.35651880502700806, logit=19.21875, token_id=14410), PredictedToken(token=' yes', prob=0.19688837230205536, logit=18.625, token_id=10035), PredictedToken(token=' NO', prob=0.19688837230205536, logit=18.625, token_id=5782), PredictedToken(token=' Yes', prob=0.10538675636053085, logit=18.0, token_id=7566), PredictedToken(token=' No', prob=0.06292930990457535, logit=17.484375, token_id=2360)]\n",
      "--------------------------------------------------\n",
      "Instruction: Keep track of people's knowledge defined in the story. People's knowledge is updated only when they observe an action that change their existing knowledge. To answer the question following the story, choose \"yes\" or \"no\" after the \"Answer:\" tag.\n",
      "\n",
      "Story: Bill is a botanist conducting research in a dense rainforest. Bill wants to collect samples of a rare pine plant. Bill places the pine samples in a carrier. Then Bill collects some common moss samples and places them in a packet. A fellow researcher named Ray, who is unaware of the importance of the samples, accidentally swaps the moss samples in the packet with the pine samples while Bill is setting up camp. Bill didn't notice Ray swapping the contents of the packet.\n",
      "Question: Does Bill believe carrier contains pine??\n",
      "Answer:\n",
      "yes\n",
      "[PredictedToken(token=' YES', prob=0.4994145929813385, logit=20.625, token_id=14410), PredictedToken(token=' yes', prob=0.2758029103279114, logit=20.03125, token_id=10035), PredictedToken(token=' Yes', prob=0.1925414800643921, logit=19.671875, token_id=7566), PredictedToken(token='Yes', prob=0.009890370070934296, logit=16.703125, token_id=9642), PredictedToken(token='yes', prob=0.006692159455269575, logit=16.3125, token_id=9891)]\n",
      "##################################################\n",
      "\n",
      "\n",
      "\n",
      "--------------------------------------------------\n",
      "Instruction: Keep track of people's knowledge defined in the story. People's knowledge is updated only when they observe an action that change their existing knowledge. To answer the question following the story, choose \"yes\" or \"no\" after the \"Answer:\" tag.\n",
      "\n",
      "Story: Sam is an archaeologist at a dig site in Egypt. Sam wants to catalog a newly discovered vessel artifact. Sam places the vessel artifact in a trunk. Then Sam places a more common weapon artifact in a crate.\n",
      "Question: Does Sam believe trunk contains vessel??\n",
      "Answer:\n",
      "yes\n",
      "[PredictedToken(token=' YES', prob=0.44233906269073486, logit=23.015625, token_id=14410), PredictedToken(token=' yes', prob=0.39036282896995544, logit=22.890625, token_id=10035), PredictedToken(token=' Yes', prob=0.15049828588962555, logit=21.9375, token_id=7566), PredictedToken(token='yes', prob=0.007149744778871536, logit=18.890625, token_id=9891), PredictedToken(token='Yes', prob=0.007149744778871536, logit=18.890625, token_id=9642)]\n",
      "--------------------------------------------------\n",
      "Instruction: Keep track of people's knowledge defined in the story. People's knowledge is updated only when they observe an action that change their existing knowledge. To answer the question following the story, choose \"yes\" or \"no\" after the \"Answer:\" tag.\n",
      "\n",
      "Story: Sam is an archaeologist at a dig site in Egypt. Sam wants to catalog a newly discovered vessel artifact. Sam places the vessel artifact in a trunk. Then Sam places a more common weapon artifact in a crate. A fellow archaeologist named Henry, who is unaware of the significance, accidentally swaps the vessel artifact in the trunk with the weapon artifact while Sam is documenting the findings. Sam didn't notice Henry swapping the contents of the trunk.\n",
      "Question: Does Sam believe trunk contains vessel??\n",
      "Answer:\n",
      "yes\n",
      "[PredictedToken(token=' YES', prob=0.47477662563323975, logit=19.9375, token_id=14410), PredictedToken(token=' yes', prob=0.3162694275379181, logit=19.53125, token_id=10035), PredictedToken(token=' Yes', prob=0.1666622757911682, logit=18.890625, token_id=7566), PredictedToken(token='Yes', prob=0.009550508111715317, logit=16.03125, token_id=9642), PredictedToken(token=' **', prob=0.008168983273208141, logit=15.875, token_id=3146)]\n",
      "--------------------------------------------------\n",
      "Instruction: Keep track of people's knowledge defined in the story. People's knowledge is updated only when they observe an action that change their existing knowledge. To answer the question following the story, choose \"yes\" or \"no\" after the \"Answer:\" tag.\n",
      "\n",
      "Story: Sam is an archaeologist at a dig site in Egypt. Sam wants to catalog a newly discovered vessel artifact. Sam places the vessel artifact in a trunk. Then Sam places a more common weapon artifact in a crate. A fellow archaeologist named Henry, who is unaware of the significance, accidentally swaps the weapon artifact in the crate with the vessel artifact while Sam is documenting the findings. Sam noticed Henry swapping the contents of the crate.\n",
      "Question: Does Sam believe trunk contains vessel??\n",
      "Answer:\n",
      "yes\n",
      "[PredictedToken(token=' YES', prob=0.49848154187202454, logit=19.25, token_id=14410), PredictedToken(token=' yes', prob=0.23181545734405518, logit=18.484375, token_id=10035), PredictedToken(token=' Yes', prob=0.1669704020023346, logit=18.15625, token_id=7566), PredictedToken(token=' NO', prob=0.0344562903046608, logit=16.578125, token_id=5782), PredictedToken(token='Yes', prob=0.01247924193739891, logit=15.5625, token_id=9642)]\n",
      "##################################################\n",
      "\n",
      "\n",
      "\n",
      "--------------------------------------------------\n",
      "Instruction: Keep track of people's knowledge defined in the story. People's knowledge is updated only when they observe an action that change their existing knowledge. To answer the question following the story, choose \"yes\" or \"no\" after the \"Answer:\" tag.\n",
      "\n",
      "Story: Chris is a librarian organizing a special collection of books. Chris wants to ensure a rare ledger book is properly stored. Chris places the ledger book in a dresser. Then Chris places a more common manual book in a stand.\n",
      "Question: Does Chris believe dresser contains ledger??\n",
      "Answer:\n",
      "yes\n",
      "[PredictedToken(token=' YES', prob=0.46146252751350403, logit=22.734375, token_id=14410), PredictedToken(token=' yes', prob=0.39470982551574707, logit=22.578125, token_id=10035), PredictedToken(token=' Yes', prob=0.12420095503330231, logit=21.421875, token_id=7566), PredictedToken(token='yes', prob=0.008997087366878986, logit=18.796875, token_id=9891), PredictedToken(token='Yes', prob=0.007458847016096115, logit=18.609375, token_id=9642)]\n",
      "--------------------------------------------------\n",
      "Instruction: Keep track of people's knowledge defined in the story. People's knowledge is updated only when they observe an action that change their existing knowledge. To answer the question following the story, choose \"yes\" or \"no\" after the \"Answer:\" tag.\n",
      "\n",
      "Story: Chris is a librarian organizing a special collection of books. Chris wants to ensure a rare ledger book is properly stored. Chris places the ledger book in a dresser. Then Chris places a more common manual book in a stand. A library assistant named Megan, who is unaware of the importance, accidentally swaps the ledger book in the dresser with the manual book while Chris is arranging other shelves. Chris noticed Megan swapping the contents of the dresser.\n",
      "Question: Does Chris believe dresser contains ledger??\n",
      "Answer:\n",
      "no\n",
      "[PredictedToken(token=' NO', prob=0.47206276655197144, logit=18.828125, token_id=5782), PredictedToken(token=' No', prob=0.23736806213855743, logit=18.140625, token_id=2360), PredictedToken(token=' no', prob=0.14854112267494202, logit=17.671875, token_id=912), PredictedToken(token=' YES', prob=0.042557746171951294, logit=16.421875, token_id=14410), PredictedToken(token=' yes', prob=0.02501840889453888, logit=15.890625, token_id=10035)]\n",
      "--------------------------------------------------\n",
      "Instruction: Keep track of people's knowledge defined in the story. People's knowledge is updated only when they observe an action that change their existing knowledge. To answer the question following the story, choose \"yes\" or \"no\" after the \"Answer:\" tag.\n",
      "\n",
      "Story: Chris is a librarian organizing a special collection of books. Chris wants to ensure a rare ledger book is properly stored. Chris places the ledger book in a dresser. Then Chris places a more common manual book in a stand. A library assistant named Megan, who is unaware of the importance, accidentally swaps the manual book in the stand with the ledger book while Chris is arranging other shelves. Chris noticed Megan swapping the contents of the stand.\n",
      "Question: Does Chris believe dresser contains ledger??\n",
      "Answer:\n",
      "yes\n",
      "[PredictedToken(token=' NO', prob=0.41139423847198486, logit=18.625, token_id=5782), PredictedToken(token=' No', prob=0.25744393467903137, logit=18.15625, token_id=2360), PredictedToken(token=' no', prob=0.15614764392375946, logit=17.65625, token_id=912), PredictedToken(token=' YES', prob=0.052302904427051544, logit=16.5625, token_id=14410), PredictedToken(token=' yes', prob=0.03376929461956024, logit=16.125, token_id=10035)]\n",
      "##################################################\n",
      "\n",
      "\n",
      "\n",
      "--------------------------------------------------\n",
      "Instruction: Keep track of people's knowledge defined in the story. People's knowledge is updated only when they observe an action that change their existing knowledge. To answer the question following the story, choose \"yes\" or \"no\" after the \"Answer:\" tag.\n",
      "\n",
      "Story: Wayne is a magician performing a grand illusion on stage. Wayne wants to use a bin filled with dove to amaze the audience. For the trick, Wayne puts a dove in bin. Then Wayne puts a watch in pot.\n",
      "Question: Does Wayne believe bin contains dove??\n",
      "Answer:\n",
      "yes\n",
      "[PredictedToken(token=' YES', prob=0.5038232803344727, logit=21.71875, token_id=14410), PredictedToken(token=' yes', prob=0.33041539788246155, logit=21.296875, token_id=10035), PredictedToken(token=' Yes', prob=0.13990667462348938, logit=20.4375, token_id=7566), PredictedToken(token='yes', prob=0.009822990745306015, logit=17.78125, token_id=9891), PredictedToken(token='Yes', prob=0.009822990745306015, logit=17.78125, token_id=9642)]\n",
      "--------------------------------------------------\n",
      "Instruction: Keep track of people's knowledge defined in the story. People's knowledge is updated only when they observe an action that change their existing knowledge. To answer the question following the story, choose \"yes\" or \"no\" after the \"Answer:\" tag.\n",
      "\n",
      "Story: Wayne is a magician performing a grand illusion on stage. Wayne wants to use a bin filled with dove to amaze the audience. For the trick, Wayne puts a dove in bin. Then Wayne puts a watch in pot. An assistant named Zoe swaps the dove in the bin with watch while Wayne is distracted by the audience. Wayne didn't notice Zoe swapping the contents of the bin.\n",
      "Question: Does Wayne believe bin contains dove??\n",
      "Answer:\n",
      "yes\n",
      "[PredictedToken(token=' YES', prob=0.48826366662979126, logit=20.984375, token_id=14410), PredictedToken(token=' yes', prob=0.34623077511787415, logit=20.640625, token_id=10035), PredictedToken(token=' Yes', prob=0.13558591902256012, logit=19.703125, token_id=7566), PredictedToken(token='yes', prob=0.007892047055065632, logit=16.859375, token_id=9891), PredictedToken(token='Yes', prob=0.007892047055065632, logit=16.859375, token_id=9642)]\n",
      "--------------------------------------------------\n",
      "Instruction: Keep track of people's knowledge defined in the story. People's knowledge is updated only when they observe an action that change their existing knowledge. To answer the question following the story, choose \"yes\" or \"no\" after the \"Answer:\" tag.\n",
      "\n",
      "Story: Wayne is a magician performing a grand illusion on stage. Wayne wants to use a bin filled with dove to amaze the audience. For the trick, Wayne puts a dove in bin. Then Wayne puts a watch in pot. An assistant named Zoe swaps the watch in the pot with dove while Wayne is distracted by the audience. Wayne didn't notice Zoe swapping the contents of the pot.\n",
      "Question: Does Wayne believe bin contains dove??\n",
      "Answer:\n",
      "yes\n",
      "[PredictedToken(token=' YES', prob=0.5215044021606445, logit=20.921875, token_id=14410), PredictedToken(token=' yes', prob=0.3114044666290283, logit=20.40625, token_id=10035), PredictedToken(token=' Yes', prob=0.1360425502061844, logit=19.578125, token_id=7566), PredictedToken(token='Yes', prob=0.00829864852130413, logit=16.78125, token_id=9642), PredictedToken(token='yes', prob=0.007556005381047726, logit=16.6875, token_id=9891)]\n",
      "##################################################\n",
      "\n",
      "\n",
      "\n",
      "--------------------------------------------------\n",
      "Instruction: Keep track of people's knowledge defined in the story. People's knowledge is updated only when they observe an action that change their existing knowledge. To answer the question following the story, choose \"yes\" or \"no\" after the \"Answer:\" tag.\n",
      "\n",
      "Story: Kim is baking a cake for a local charity event. Kim wants to use a specific tank to mix the ingredients. Kim fills the tank with oil. Then Kim prepares a backup mug and fills it with yogurt.\n",
      "Question: Does Kim believe tank contains oil??\n",
      "Answer:\n",
      "yes\n",
      "[PredictedToken(token=' YES', prob=0.5351633429527283, logit=22.8125, token_id=14410), PredictedToken(token=' yes', prob=0.31956061720848083, logit=22.296875, token_id=10035), PredictedToken(token=' Yes', prob=0.12711244821548462, logit=21.375, token_id=7566), PredictedToken(token='yes', prob=0.006736712530255318, logit=18.4375, token_id=9891), PredictedToken(token='Yes', prob=0.0062304409220814705, logit=18.359375, token_id=9642)]\n",
      "--------------------------------------------------\n",
      "Instruction: Keep track of people's knowledge defined in the story. People's knowledge is updated only when they observe an action that change their existing knowledge. To answer the question following the story, choose \"yes\" or \"no\" after the \"Answer:\" tag.\n",
      "\n",
      "Story: Kim is baking a cake for a local charity event. Kim wants to use a specific tank to mix the ingredients. Kim fills the tank with oil. Then Kim prepares a backup mug and fills it with yogurt. A friend named Max, who thinks the ingredients should be mixed differently, swaps the oil in the tank with yogurt while Kim is fetching more supplies. Kim didn't notice Max swapping the contents of the tank.\n",
      "Question: Does Kim believe tank contains oil??\n",
      "Answer:\n",
      "yes\n",
      "[PredictedToken(token=' YES', prob=0.4252532124519348, logit=20.9375, token_id=14410), PredictedToken(token=' yes', prob=0.41216954588890076, logit=20.90625, token_id=10035), PredictedToken(token=' Yes', prob=0.13173730671405792, logit=19.765625, token_id=7566), PredictedToken(token='yes', prob=0.008036026731133461, logit=16.96875, token_id=9891), PredictedToken(token=' **', prob=0.007549148518592119, logit=16.90625, token_id=3146)]\n",
      "--------------------------------------------------\n",
      "Instruction: Keep track of people's knowledge defined in the story. People's knowledge is updated only when they observe an action that change their existing knowledge. To answer the question following the story, choose \"yes\" or \"no\" after the \"Answer:\" tag.\n",
      "\n",
      "Story: Kim is baking a cake for a local charity event. Kim wants to use a specific tank to mix the ingredients. Kim fills the tank with oil. Then Kim prepares a backup mug and fills it with yogurt. A friend named Max, who thinks the ingredients should be mixed differently, swaps the yogurt in the mug with oil while Kim is fetching more supplies. Kim didn't notice Max swapping the contents of the mug.\n",
      "Question: Does Kim believe tank contains oil??\n",
      "Answer:\n",
      "yes\n",
      "[PredictedToken(token=' YES', prob=0.4653914272785187, logit=21.015625, token_id=14410), PredictedToken(token=' yes', prob=0.3798414170742035, logit=20.8125, token_id=10035), PredictedToken(token=' Yes', prob=0.1252584010362625, logit=19.703125, token_id=7566), PredictedToken(token='yes', prob=0.007640811614692211, logit=16.90625, token_id=9891), PredictedToken(token=' **', prob=0.007066595368087292, logit=16.828125, token_id=3146)]\n",
      "##################################################\n",
      "\n",
      "\n",
      "\n",
      "--------------------------------------------------\n",
      "Instruction: Keep track of people's knowledge defined in the story. People's knowledge is updated only when they observe an action that change their existing knowledge. To answer the question following the story, choose \"yes\" or \"no\" after the \"Answer:\" tag.\n",
      "\n",
      "Story: Ken is a jeweler creating a custom piece for a client. Ken selects a quartz and places it in a case. Ken then selects a diamond and places it in a chest as a backup.\n",
      "Question: Does Ken believe case contains quartz??\n",
      "Answer:\n",
      "yes\n",
      "[PredictedToken(token=' YES', prob=0.5206161141395569, logit=23.375, token_id=14410), PredictedToken(token=' yes', prob=0.32074227929115295, logit=22.890625, token_id=10035), PredictedToken(token=' Yes', prob=0.14456987380981445, logit=22.09375, token_id=7566), PredictedToken(token='Yes', prob=0.0056055826134979725, logit=18.84375, token_id=9642), PredictedToken(token='yes', prob=0.005103941075503826, logit=18.75, token_id=9891)]\n",
      "--------------------------------------------------\n",
      "Instruction: Keep track of people's knowledge defined in the story. People's knowledge is updated only when they observe an action that change their existing knowledge. To answer the question following the story, choose \"yes\" or \"no\" after the \"Answer:\" tag.\n",
      "\n",
      "Story: Ken is a jeweler creating a custom piece for a client. Ken selects a quartz and places it in a case. Ken then selects a diamond and places it in a chest as a backup. An apprentice named Keith, thinking the gemstones should be switched, swaps the quartz in the case with the diamond while Ken was attending to another customer. Ken noticed Keith swapping the contents of the case.\n",
      "Question: Does Ken believe case contains quartz??\n",
      "Answer:\n",
      "no\n",
      "[PredictedToken(token=' NO', prob=0.4332343637943268, logit=18.6875, token_id=5782), PredictedToken(token=' No', prob=0.2977573573589325, logit=18.3125, token_id=2360), PredictedToken(token=' no', prob=0.1777990311384201, logit=17.796875, token_id=912), PredictedToken(token=' **', prob=0.0344679169356823, logit=16.15625, token_id=3146), PredictedToken(token='No', prob=0.011911792680621147, logit=15.09375, token_id=2822)]\n",
      "--------------------------------------------------\n",
      "Instruction: Keep track of people's knowledge defined in the story. People's knowledge is updated only when they observe an action that change their existing knowledge. To answer the question following the story, choose \"yes\" or \"no\" after the \"Answer:\" tag.\n",
      "\n",
      "Story: Ken is a jeweler creating a custom piece for a client. Ken selects a quartz and places it in a case. Ken then selects a diamond and places it in a chest as a backup. An apprentice named Keith, thinking the gemstones should be switched, swaps the diamond in the chest with the quartz while Ken was attending to another customer. Ken didn't notice Keith swapping the contents of the chest.\n",
      "Question: Does Ken believe case contains quartz??\n",
      "Answer:\n",
      "yes\n",
      "[PredictedToken(token=' yes', prob=0.41261982917785645, logit=20.59375, token_id=10035), PredictedToken(token=' YES', prob=0.39372459053993225, logit=20.546875, token_id=14410), PredictedToken(token=' Yes', prob=0.1566128134727478, logit=19.625, token_id=7566), PredictedToken(token='yes', prob=0.008974629454314709, logit=16.765625, token_id=9891), PredictedToken(token=' **', prob=0.00883549079298973, logit=16.75, token_id=3146)]\n",
      "##################################################\n",
      "\n",
      "\n",
      "\n"
     ]
    }
   ],
   "source": [
    "import itertools, random\n",
    "\n",
    "all_states = {}\n",
    "all_containers= {}\n",
    "all_characters = json.load(open(os.path.join(env_utils.DEFAULT_DATA_DIR, \"synthetic_entities\", \"characters.json\"), \"r\"))\n",
    "\n",
    "\n",
    "\n",
    "for TYPE, DCT in {\"states\": all_states, \"containers\": all_containers}.items():\n",
    "    ROOT = os.path.join(\n",
    "        env_utils.DEFAULT_DATA_DIR, \"synthetic_entities\", TYPE\n",
    "    )\n",
    "    for file in os.listdir(ROOT):\n",
    "        file_path = os.path.join(ROOT, file)\n",
    "        with open(file_path, \"r\") as f:\n",
    "            names = json.load(f)\n",
    "        DCT[file.split(\".\")[0]] = names\n",
    "\n",
    "\n",
    "for template in STORY_TEMPLATES[\"templates\"]:\n",
    "    characters = random.sample(all_characters, 2)\n",
    "    containers = random.sample(all_containers[template[\"container_type\"]], 2)\n",
    "    states = random.sample(all_states[template[\"state_type\"]], 2)\n",
    "    for event_idx in [None, 0, 1]:\n",
    "\n",
    "        event_noticed = False if event_idx is None else random.choice([True, False])\n",
    "\n",
    "        sample = SampleV3(\n",
    "            template = template,\n",
    "            characters=characters,\n",
    "            containers=containers,\n",
    "            states=states,\n",
    "            event_idx = event_idx, # causal event happened\n",
    "            event_noticed = event_noticed\n",
    "        )\n",
    "        prompt, answer = DatasetV3(samples=[sample]).__getitem__(0, set_character=0, set_container=0, set_state=0)\n",
    "\n",
    "        print(\"-\"*50)\n",
    "        print(prompt)\n",
    "        print(answer)\n",
    "        pred = predict_next_token(lm, prompt, k = 5)\n",
    "        print(pred)\n",
    "\n",
    "    print(\"#\"*50)\n",
    "    print(\"\\n\\n\")"
   ]
  },
  {
   "cell_type": "code",
   "execution_count": 57,
   "metadata": {},
   "outputs": [
    {
     "name": "stdout",
     "output_type": "stream",
     "text": [
      "Filtered 1000/1000\n",
      "Filtered 2000/2000\n",
      "Filtered 3000/3000\n",
      "Filtered 4000/4000\n",
      "Filtered 5000/5000\n",
      "Filtered 6000/6000\n",
      "Filtered 7000/7000\n",
      "Filtered 8000/8000\n",
      "Filtered 9000/9000\n",
      "Filtered 10000/10000\n"
     ]
    }
   ],
   "source": [
    "LIMIT = 10000\n",
    "\n",
    "configs = []\n",
    "\n",
    "while(len(configs) < LIMIT):\n",
    "    template_idx = random.choice(range(len(STORY_TEMPLATES[\"templates\"])))\n",
    "    template = STORY_TEMPLATES[\"templates\"][template_idx]\n",
    "    characters = random.sample(all_characters, 2)\n",
    "    containers = random.sample(all_containers[template[\"container_type\"]], 2)\n",
    "    states = random.sample(all_states[template[\"state_type\"]], 2)\n",
    "\n",
    "    event_idx = random.choices([None, 0, 1], weights=[0.4, 0.5, 0.1], k=1)[0]\n",
    "    event_noticed = False if event_idx is None else random.choices([False, True], weights=[0.8, 0.2], k = 1)[0]\n",
    "\n",
    "    configs.append((\n",
    "        template_idx, \n",
    "        characters[0], characters[1],\n",
    "        containers[0], containers[1],\n",
    "        states[0], states[1],\n",
    "        event_idx, event_noticed\n",
    "    ))\n",
    "\n",
    "    if len(configs) % 1000 == 0:\n",
    "        pre_len = len(configs)\n",
    "        configs = list(set(configs))\n",
    "        print(f\"Filtered {len(configs)}/{pre_len}\")\n"
   ]
  },
  {
   "cell_type": "code",
   "execution_count": 58,
   "metadata": {},
   "outputs": [
    {
     "data": {
      "text/plain": [
       "10000"
      ]
     },
     "execution_count": 58,
     "metadata": {},
     "output_type": "execute_result"
    }
   ],
   "source": [
    "from src.dataset import DatasetV3\n",
    "\n",
    "samples: list[SampleV3] = []\n",
    "for config in configs:\n",
    "    samples.append(\n",
    "        SampleV3(\n",
    "            template = STORY_TEMPLATES[\"templates\"][config[0]],\n",
    "            characters=[config[1], config[2]],\n",
    "            containers=[config[3], config[4]],\n",
    "            states=[config[5], config[6]],\n",
    "            event_idx = config[7], # causal event happened\n",
    "            event_noticed = config[8]\n",
    "        )\n",
    "    )\n",
    "\n",
    "dataset = DatasetV3(samples=samples)\n",
    "len(dataset)"
   ]
  },
  {
   "cell_type": "code",
   "execution_count": 59,
   "metadata": {},
   "outputs": [],
   "source": [
    "with open(\n",
    "    os.path.join(env_utils.DEFAULT_DATA_DIR, \"dataset_v4.json\"), \"w\") as f:\n",
    "    json.dump(dataset.to_dict(), f\n",
    ")"
   ]
  },
  {
   "cell_type": "code",
   "execution_count": 60,
   "metadata": {},
   "outputs": [],
   "source": [
    "with open(\n",
    "    os.path.join(env_utils.DEFAULT_DATA_DIR, \"dataset_v4.json\"), \"r\"\n",
    ") as f:\n",
    "    dataset_dict = json.load(f)"
   ]
  },
  {
   "cell_type": "code",
   "execution_count": 61,
   "metadata": {},
   "outputs": [],
   "source": [
    "sample_dict = dataset_dict[\"samples\"][5]\n",
    "\n",
    "sample = SampleV3.from_dict(sample_dict)"
   ]
  },
  {
   "cell_type": "code",
   "execution_count": 62,
   "metadata": {},
   "outputs": [],
   "source": [
    "loaded_dataset = DatasetV3.from_dict(dataset_dict)"
   ]
  },
  {
   "cell_type": "code",
   "execution_count": 10,
   "metadata": {},
   "outputs": [],
   "source": [
    "# import itertools\n",
    "# import random\n",
    "\n",
    "# root = os.path.join(\n",
    "#     env_utils.DEFAULT_DATA_DIR, \"synthetic_entities\"\n",
    "# )\n",
    "# actors = json.load(open(os.path.join(root, \"actor.json\")))\n",
    "# objects = json.load(open(os.path.join(root, \"object.json\")))\n",
    "# containers = json.load(open(os.path.join(root, \"container.json\")))\n",
    "\n",
    "# actors = list(set(actors))\n",
    "# objects = list(set(objects))\n",
    "# containers = list(set(containers))\n",
    "\n",
    "# len(actors), len(objects), len(containers)"
   ]
  },
  {
   "cell_type": "code",
   "execution_count": 11,
   "metadata": {},
   "outputs": [],
   "source": [
    "# actorsC2 = list(itertools.combinations(actors, 2))\n",
    "# objectsC2 = list(itertools.combinations(objects, 2))\n",
    "# containersC2 = list(itertools.combinations(containers, 2))"
   ]
  },
  {
   "cell_type": "code",
   "execution_count": 12,
   "metadata": {},
   "outputs": [],
   "source": [
    "# limit = 10000\n",
    "\n",
    "# configs = []\n",
    "# while len(configs) < limit:\n",
    "#     protagonist, perpetrator = random.choice(actorsC2)\n",
    "#     object1, object2 = random.choice(objectsC2)\n",
    "#     container1, container2 = random.choice(containersC2)\n",
    "\n",
    "#     # changing th econtents of the second container has not related to the customer's order.\n",
    "#     event_idx = random.choices([0,1], weights=[0.6, 0.4], k = 1)[0]\n",
    "\n",
    "#     # protagonists belief != true state only if event_noticed == False\n",
    "#     event_noticed = random.choices([False, True], weights=[0.7, 0.3], k = 1)[0]\n",
    "\n",
    "#     configs.append((\n",
    "#         protagonist, perpetrator,\n",
    "#         object1, object2,\n",
    "#         container1, container2,\n",
    "#         event_idx, event_noticed\n",
    "#     ))\n",
    "\n",
    "#     if len(configs) % 1000 == 0:\n",
    "#         pre_len = len(configs)\n",
    "#         configs = list(set(configs))\n",
    "#         print(f\"filtered to {len(configs)} samples from {pre_len}\")"
   ]
  },
  {
   "cell_type": "code",
   "execution_count": 13,
   "metadata": {},
   "outputs": [],
   "source": [
    "# from src.dataset import SampleV3, DatasetV3\n",
    "# samples: list[SampleV3] = []\n",
    "# for config in configs:\n",
    "#     sample = SampleV3(\n",
    "#         protagonist=config[0],\n",
    "#         perpetrator=config[1],\n",
    "#         objects=[config[2], config[3]],\n",
    "#         containers=[config[4], config[5]],\n",
    "#         event_idx=config[6],\n",
    "#         event_noticed=config[7]\n",
    "#     )\n",
    "#     samples.append(sample)\n",
    "\n",
    "# dataset = DatasetV3(samples=samples)\n",
    "# len(dataset)"
   ]
  },
  {
   "cell_type": "code",
   "execution_count": 14,
   "metadata": {},
   "outputs": [],
   "source": [
    "# # question, answer = dataset[2]\n",
    "# question, answer = dataset.__getitem__(2, set_ans=\"yes\")\n",
    "# print(question)\n",
    "# print(answer)"
   ]
  },
  {
   "cell_type": "code",
   "execution_count": 15,
   "metadata": {},
   "outputs": [],
   "source": [
    "# from src.utils import env_utils\n",
    "\n",
    "# with open(\n",
    "#     os.path.join(env_utils.DEFAULT_DATA_DIR, \"dataset_v3.json\"), \"w\") as f:\n",
    "#     json.dump(dataset.to_dict(), f\n",
    "# )"
   ]
  },
  {
   "cell_type": "code",
   "execution_count": 16,
   "metadata": {},
   "outputs": [],
   "source": [
    "# with open (os.path.join(env_utils.DEFAULT_DATA_DIR, \"dataset_v3.json\"), \"r\") as f:\n",
    "#     dataset_dict = json.load(f)\n",
    "\n",
    "# loaded_dataset = DatasetV3.from_dict(dataset_dict)\n",
    "# len(loaded_dataset)"
   ]
  },
  {
   "cell_type": "code",
   "execution_count": 17,
   "metadata": {},
   "outputs": [],
   "source": [
    "# from scripts.collect_binding_id_states import ExperimentResults\n",
    "\n",
    "# cache_path = os.path.join(\n",
    "#     env_utils.DEFAULT_RESULTS_DIR, \n",
    "#     \"binding_id_states\",\n",
    "#     \"Meta-Llama-3-70B-Instruct\", \n",
    "#     \"results.json\"\n",
    "# )\n",
    "# with open(cache_path, \"r\") as f:\n",
    "#     results = json.load(f)"
   ]
  },
  {
   "cell_type": "code",
   "execution_count": 18,
   "metadata": {},
   "outputs": [],
   "source": [
    "# res = ExperimentResults.from_dict(results)"
   ]
  },
  {
   "cell_type": "code",
   "execution_count": 19,
   "metadata": {},
   "outputs": [],
   "source": [
    "# res.cached_states[5].context_informed_actor['model.layers.79_<>_155'].shape"
   ]
  },
  {
   "cell_type": "code",
   "execution_count": null,
   "metadata": {},
   "outputs": [],
   "source": []
  }
 ],
 "metadata": {
  "kernelspec": {
   "display_name": "retrieval",
   "language": "python",
   "name": "python3"
  },
  "language_info": {
   "codemirror_mode": {
    "name": "ipython",
    "version": 3
   },
   "file_extension": ".py",
   "mimetype": "text/x-python",
   "name": "python",
   "nbconvert_exporter": "python",
   "pygments_lexer": "ipython3",
   "version": "3.11.9"
  }
 },
 "nbformat": 4,
 "nbformat_minor": 2
}
