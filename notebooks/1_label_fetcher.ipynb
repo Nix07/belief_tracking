{
 "cells": [
  {
   "cell_type": "code",
   "execution_count": 1,
   "metadata": {},
   "outputs": [],
   "source": [
    "%load_ext autoreload\n",
    "%autoreload 2"
   ]
  },
  {
   "cell_type": "code",
   "execution_count": 2,
   "metadata": {},
   "outputs": [
    {
     "name": "stderr",
     "output_type": "stream",
     "text": [
      "/home/local_arnab/miniconda3/envs/retrieval/lib/python3.11/site-packages/tqdm/auto.py:21: TqdmWarning: IProgress not found. Please update jupyter and ipywidgets. See https://ipywidgets.readthedocs.io/en/stable/user_install.html\n",
      "  from .autonotebook import tqdm as notebook_tqdm\n"
     ]
    }
   ],
   "source": [
    "import os, time, json\n",
    "import pandas as pd\n",
    "from openai import OpenAI\n",
    "from tqdm.auto import tqdm\n",
    "import spacy\n",
    "import pandas as pd\n",
    "\n",
    "import sys\n",
    "sys.path.append(\"../\")\n",
    "import os\n",
    "from src.functional import free_gpu_cache"
   ]
  },
  {
   "cell_type": "code",
   "execution_count": 3,
   "metadata": {},
   "outputs": [
    {
     "name": "stderr",
     "output_type": "stream",
     "text": [
      "The `load_in_4bit` and `load_in_8bit` arguments are deprecated and will be removed in the future versions. Please, pass a `BitsAndBytesConfig` object in `quantization_config` argument instead.\n",
      "Loading checkpoint shards: 100%|██████████| 30/30 [01:05<00:00,  2.17s/it]"
     ]
    },
    {
     "name": "stdout",
     "output_type": "stream",
     "text": [
      "loaded /home/local_arnab/Codes/00_MODEL/meta-llama/Meta-Llama-3-70B-Instruct | size: 36650.535 MB\n"
     ]
    },
    {
     "name": "stderr",
     "output_type": "stream",
     "text": [
      "\n"
     ]
    }
   ],
   "source": [
    "from src.models import load_LM\n",
    "import torch\n",
    "from nnsight import LanguageModel\n",
    "from src.utils import env_utils\n",
    "\n",
    "# model_key = \"meta-llama/Meta-Llama-3-8B-Instruct\"\n",
    "model_key = \"meta-llama/Meta-Llama-3-70B-Instruct\"\n",
    "\n",
    "lm = load_LM(\n",
    "    model_key=model_key,\n",
    "    torch_dtype=torch.float16,\n",
    "    load_in_4bit=True,\n",
    ")"
   ]
  },
  {
   "cell_type": "code",
   "execution_count": 4,
   "metadata": {},
   "outputs": [],
   "source": [
    "from src.dataset import load_worldstate_dataset\n",
    "from src.functional import predict_next_token \n",
    "\n",
    "dataset = load_worldstate_dataset()"
   ]
  },
  {
   "cell_type": "code",
   "execution_count": 5,
   "metadata": {},
   "outputs": [],
   "source": [
    "from src.functional import get_hs\n",
    "from src.functional import logit_lens\n",
    "from src.functional import free_gpu_cache\n",
    "from src.functional import PatchSpec\n",
    "\n",
    "from tqdm.auto import tqdm\n",
    "import random\n",
    "from src.utils.typing import TokenizerOutput\n",
    "from src.models import prepare_input\n",
    "\n",
    "@torch.inference_mode()\n",
    "def trace_causal_influence_of_states(\n",
    "    lm: LanguageModel,\n",
    "    patch_qa: tuple[str | TokenizerOutput, str],  # will be patched from\n",
    "    other_qa: tuple[str | TokenizerOutput, str],  # will get patched\n",
    "    locations: list[tuple[str, int]], # layer_name, token_index\n",
    "):\n",
    "    free_gpu_cache()\n",
    "    patch_q, patch_a = patch_qa\n",
    "    if isinstance(patch_q, str):\n",
    "        patch_q = prepare_input(prompts=patch_q, tokenizer=lm)\n",
    "\n",
    "    last_position = (f\"model.layers.{lm.config.num_hidden_layers - 1}\", -1)\n",
    "    pop_last_position = False\n",
    "    if last_position not in locations:\n",
    "        locations.append(last_position)\n",
    "        pop_last_position = True\n",
    "\n",
    "    hs = get_hs(\n",
    "        lm=lm,\n",
    "        input=patch_qa[0],\n",
    "        locations=locations,\n",
    "        return_dict=True\n",
    "    )\n",
    "    lm_patch_a = logit_lens(lm=lm, h=hs[last_position], k=2)[0]\n",
    "    print(f\"{lm_patch_a=}\")\n",
    "\n",
    "    if lm_patch_a.token.strip() != patch_a.strip():\n",
    "        print(f\"{lm_patch_a.token.strip()=}  !==  {patch_a.strip()=} ... skipping\")\n",
    "        return None\n",
    "\n",
    "    if pop_last_position:\n",
    "        locations.pop()\n",
    "    \n",
    "    patch_effects = {}\n",
    "    for location in tqdm(locations):\n",
    "        pred, track_patch_a = predict_next_token(\n",
    "            lm=lm,\n",
    "            input=other_qa[0],\n",
    "            patches=[PatchSpec(location=location, patch=hs[location])],\n",
    "            interested_tokens=[lm_patch_a.token_id],\n",
    "        )\n",
    "        track_patch_a = track_patch_a[lm_patch_a.token_id]\n",
    "        patch_effects[location] = dict(rank=track_patch_a[0], pred=track_patch_a[1])\n",
    "        free_gpu_cache()\n",
    "    \n",
    "    return patch_effects\n"
   ]
  },
  {
   "cell_type": "code",
   "execution_count": 6,
   "metadata": {},
   "outputs": [],
   "source": [
    "from src.dataset import Dataset\n",
    "from src.utils.typing import PredictedToken\n",
    "\n",
    "tag_options = [\n",
    "    (\"a\", \"b\"),\n",
    "    (\"x\", \"y\"), \n",
    "    (\"p\", \"q\"),\n",
    "]\n",
    "def trace_average_causal_influence_of_states(\n",
    "    lm: LanguageModel,\n",
    "    dataset: Dataset,\n",
    "    locations: list[tuple[str, int]],\n",
    "    limit: int = 10,\n",
    ") -> dict[tuple[str, int], tuple[int, PredictedToken]]:\n",
    "\n",
    "    all_patch_effects = {loc: [] for loc in locations}\n",
    "    for i in tqdm(range(limit)):\n",
    "        patch_tag = random.choice(tag_options)\n",
    "        other_tag = random.choice([t for t in tag_options if t != patch_tag])\n",
    "        patch_qa = dataset.__getitem__(i, tags=patch_tag)\n",
    "        other_qa = dataset.__getitem__(i, tags=other_tag)\n",
    "        print(f\"{patch_qa=}\")\n",
    "        print(f\"{other_qa=}\")\n",
    "        patch_effects = trace_causal_influence_of_states(\n",
    "            lm=lm,\n",
    "            patch_qa=patch_qa,\n",
    "            other_qa=other_qa,\n",
    "            locations=[(layer_name_format.format(l), -1) for l in layer_indices],\n",
    "        )\n",
    "        if patch_effects is not None:\n",
    "            for loc, effect in patch_effects.items():\n",
    "                all_patch_effects[loc].append(effect)\n",
    "\n",
    "    return all_patch_effects\n",
    "\n",
    "\n",
    "from typing import Literal\n",
    "\n",
    "def process_patch_effects(\n",
    "    all_patch_effects: dict[tuple[str, int], list[dict[str, int]]],\n",
    "    locations: list[tuple[str, int]],\n",
    "    metric: Literal[\"prob\", \"logit\"] = \"prob\",\n",
    ") -> dict[tuple[str, int], float]:\n",
    "    avg_effects = {loc: 0 for loc in locations}\n",
    "    for loc in locations:\n",
    "        for effect in all_patch_effects[loc]:\n",
    "            avg_effects[loc] += getattr(effect[\"pred\"], metric)\n",
    "        avg_effects[loc] /= len(all_patch_effects[loc])\n",
    "    return avg_effects"
   ]
  },
  {
   "cell_type": "code",
   "execution_count": 7,
   "metadata": {},
   "outputs": [
    {
     "name": "stderr",
     "output_type": "stream",
     "text": [
      "  0%|          | 0/10 [00:00<?, ?it/s]"
     ]
    },
    {
     "name": "stdout",
     "output_type": "stream",
     "text": [
      "patch_qa=('Instruction: Keep track of people\\'s knowledge defined in the story. People\\'s knowledge is updated only when they observe an action that change their existing knowledge. To answer the question following the story, choose the correct option by predicting the answer option (either p or q) after the \"Answer:\" tag.\\n\\nStory: Noor is working as a barista at a busy coffee shop. Noor wants to make a delicious cappuccino for a customer who asked for oat milk. Noor grabs a milk pitcher and fills it with oat milk. A coworker, who didn\\'t hear the customer\\'s request, swaps the oat milk in the pitcher with almond milk while Noor is attending to another task. Noor sees her coworker swapping the milk.\\n\\nQuestion: Does the milk pitcher contain oat milk or almond milk?\\np) The milk pitcher contains oat milk.\\nq) The milk pitcher contains almond milk.\\nAnswer:', 'q')\n",
      "other_qa=('Instruction: Keep track of people\\'s knowledge defined in the story. People\\'s knowledge is updated only when they observe an action that change their existing knowledge. To answer the question following the story, choose the correct option by predicting the answer option (either a or b) after the \"Answer:\" tag.\\n\\nStory: Noor is working as a barista at a busy coffee shop. Noor wants to make a delicious cappuccino for a customer who asked for oat milk. Noor grabs a milk pitcher and fills it with oat milk. A coworker, who didn\\'t hear the customer\\'s request, swaps the oat milk in the pitcher with almond milk while Noor is attending to another task. Noor sees her coworker swapping the milk.\\n\\nQuestion: Does the milk pitcher contain oat milk or almond milk?\\na) The milk pitcher contains oat milk.\\nb) The milk pitcher contains almond milk.\\nAnswer:', 'b')\n"
     ]
    },
    {
     "name": "stderr",
     "output_type": "stream",
     "text": [
      "You're using a PreTrainedTokenizerFast tokenizer. Please note that with a fast tokenizer, using the `__call__` method is faster than using a method to encode the text followed by a call to the `pad` method to get a padded encoding.\n",
      "We detected that you are passing `past_key_values` as a tuple and this is deprecated and will be removed in v4.43. Please use an appropriate `Cache` class (https://huggingface.co/docs/transformers/v4.41.3/en/internal/generation_utils#transformers.Cache)\n",
      "/home/local_arnab/miniconda3/envs/retrieval/lib/python3.11/site-packages/bitsandbytes/nn/modules.py:435: UserWarning: Input type into Linear4bit is torch.float16, but bnb_4bit_compute_dtype=torch.float32 (default). This will lead to slow inference or training speed.\n",
      "  warnings.warn(\n"
     ]
    },
    {
     "name": "stdout",
     "output_type": "stream",
     "text": [
      "lm_patch_a=PredictedToken(token=' q', prob=0.989158034324646, logit=21.828125, token_id=2874)\n"
     ]
    },
    {
     "name": "stderr",
     "output_type": "stream",
     "text": [
      "100%|██████████| 17/17 [01:13<00:00,  4.33s/it]\n",
      " 10%|█         | 1/10 [01:18<11:42, 78.09s/it]"
     ]
    },
    {
     "name": "stdout",
     "output_type": "stream",
     "text": [
      "patch_qa=('Instruction: Keep track of people\\'s knowledge defined in the story. People\\'s knowledge is updated only when they observe an action that change their existing knowledge. To answer the question following the story, choose the correct option by predicting the answer option (either p or q) after the \"Answer:\" tag.\\n\\nStory: Zara is attending an art exhibition at a local gallery in her town. Zara wants to learn more about a particular abstract painting she admires. The label next to the artwork states that the painting is the work of a famous artist, and Zara reads the label carefully. A gallery staff member, realizing there was a mix-up, changes the label with the correct information attributing the painting to an emerging artist instead. Zara reads the updated label carefully.\\n\\nQuestion: Is the painting the work of a famous artist or an emerging artist?\\np) The painting is the work of an emerging artist.\\nq) The painting is the work of a famous artist.\\nAnswer:', 'p')\n",
      "other_qa=('Instruction: Keep track of people\\'s knowledge defined in the story. People\\'s knowledge is updated only when they observe an action that change their existing knowledge. To answer the question following the story, choose the correct option by predicting the answer option (either x or y) after the \"Answer:\" tag.\\n\\nStory: Zara is attending an art exhibition at a local gallery in her town. Zara wants to learn more about a particular abstract painting she admires. The label next to the artwork states that the painting is the work of a famous artist, and Zara reads the label carefully. A gallery staff member, realizing there was a mix-up, changes the label with the correct information attributing the painting to an emerging artist instead. Zara reads the updated label carefully.\\n\\nQuestion: Is the painting the work of a famous artist or an emerging artist?\\nx) The painting is the work of an emerging artist.\\ny) The painting is the work of a famous artist.\\nAnswer:', 'x')\n",
      "lm_patch_a=PredictedToken(token=' p', prob=0.9962259531021118, logit=22.34375, token_id=281)\n"
     ]
    },
    {
     "name": "stderr",
     "output_type": "stream",
     "text": [
      "100%|██████████| 17/17 [01:19<00:00,  4.67s/it]\n",
      " 20%|██        | 2/10 [02:42<10:52, 81.56s/it]"
     ]
    },
    {
     "name": "stdout",
     "output_type": "stream",
     "text": [
      "patch_qa=('Instruction: Keep track of people\\'s knowledge defined in the story. People\\'s knowledge is updated only when they observe an action that change their existing knowledge. To answer the question following the story, choose the correct option by predicting the answer option (either p or q) after the \"Answer:\" tag.\\n\\nStory: Carlos is a farmer in a small village in Mexico, tending to his cornfield. He wants to irrigate his crops by opening a water valve connected to a nearby river. Carlos closed the valve the previous evening. During the night, heavy rainfall caused the river to overflow, opening the valve and flooding the cornfield. Carlos sees the flooded cornfield.\\n\\nQuestion: Is the water valve closed or open?\\np) The water valve is open.\\nq) The water valve is closed.\\nAnswer:', 'p')\n",
      "other_qa=('Instruction: Keep track of people\\'s knowledge defined in the story. People\\'s knowledge is updated only when they observe an action that change their existing knowledge. To answer the question following the story, choose the correct option by predicting the answer option (either x or y) after the \"Answer:\" tag.\\n\\nStory: Carlos is a farmer in a small village in Mexico, tending to his cornfield. He wants to irrigate his crops by opening a water valve connected to a nearby river. Carlos closed the valve the previous evening. During the night, heavy rainfall caused the river to overflow, opening the valve and flooding the cornfield. Carlos sees the flooded cornfield.\\n\\nQuestion: Is the water valve closed or open?\\nx) The water valve is open.\\ny) The water valve is closed.\\nAnswer:', 'x')\n",
      "lm_patch_a=PredictedToken(token=' p', prob=0.9965431094169617, logit=22.53125, token_id=281)\n"
     ]
    },
    {
     "name": "stderr",
     "output_type": "stream",
     "text": [
      "100%|██████████| 17/17 [01:19<00:00,  4.69s/it]\n",
      " 30%|███       | 3/10 [04:06<09:39, 82.82s/it]"
     ]
    },
    {
     "name": "stdout",
     "output_type": "stream",
     "text": [
      "patch_qa=('Instruction: Keep track of people\\'s knowledge defined in the story. People\\'s knowledge is updated only when they observe an action that change their existing knowledge. To answer the question following the story, choose the correct option by predicting the answer option (either a or b) after the \"Answer:\" tag.\\n\\nStory: Kofi is a fisherman from a small village in Ghana. He wants to catch enough fish today to provide for his family and sell the surplus at the market. Kofi repaired his fishing net last night. While Kofi is away from his boat, a group of monkeys comes and plays with the fishing net, tearing it apart. Kofi observes the monkeys damaging his fishing net.\\n\\nQuestion: Is Kofi\\'s fishing net in good condition or torn apart?\\na) The fishing net is in good condition.\\nb) The fishing net is torn apart.\\nAnswer:', 'b')\n",
      "other_qa=('Instruction: Keep track of people\\'s knowledge defined in the story. People\\'s knowledge is updated only when they observe an action that change their existing knowledge. To answer the question following the story, choose the correct option by predicting the answer option (either x or y) after the \"Answer:\" tag.\\n\\nStory: Kofi is a fisherman from a small village in Ghana. He wants to catch enough fish today to provide for his family and sell the surplus at the market. Kofi repaired his fishing net last night. While Kofi is away from his boat, a group of monkeys comes and plays with the fishing net, tearing it apart. Kofi observes the monkeys damaging his fishing net.\\n\\nQuestion: Is Kofi\\'s fishing net in good condition or torn apart?\\nx) The fishing net is in good condition.\\ny) The fishing net is torn apart.\\nAnswer:', 'y')\n",
      "lm_patch_a=PredictedToken(token=' b', prob=0.9991887211799622, logit=24.390625, token_id=293)\n"
     ]
    },
    {
     "name": "stderr",
     "output_type": "stream",
     "text": [
      "100%|██████████| 17/17 [01:20<00:00,  4.74s/it]\n",
      " 40%|████      | 4/10 [05:31<08:22, 83.78s/it]"
     ]
    },
    {
     "name": "stdout",
     "output_type": "stream",
     "text": [
      "patch_qa=('Instruction: Keep track of people\\'s knowledge defined in the story. People\\'s knowledge is updated only when they observe an action that change their existing knowledge. To answer the question following the story, choose the correct option by predicting the answer option (either a or b) after the \"Answer:\" tag.\\n\\nStory: Azola is a teacher at a small school in rural China. She wants to surprise her students with a new book for the school library. Azola got a notification from Amazon stating that the package containing the book was left at her doorstep. A gust of wind blows the package off her doorstep, and a neighbor replaces it with a different package containing a hand-knit scarf. Azola witnesses the package swap.\\n\\nQuestion: Does the package contain the book Azola ordered or a hand-knit scarf?\\na) The package contains a hand-knit scarf.\\nb) The package contains the book Azola ordered.\\nAnswer:', 'a')\n",
      "other_qa=('Instruction: Keep track of people\\'s knowledge defined in the story. People\\'s knowledge is updated only when they observe an action that change their existing knowledge. To answer the question following the story, choose the correct option by predicting the answer option (either p or q) after the \"Answer:\" tag.\\n\\nStory: Azola is a teacher at a small school in rural China. She wants to surprise her students with a new book for the school library. Azola got a notification from Amazon stating that the package containing the book was left at her doorstep. A gust of wind blows the package off her doorstep, and a neighbor replaces it with a different package containing a hand-knit scarf. Azola witnesses the package swap.\\n\\nQuestion: Does the package contain the book Azola ordered or a hand-knit scarf?\\np) The package contains the book Azola ordered.\\nq) The package contains a hand-knit scarf.\\nAnswer:', 'q')\n",
      "lm_patch_a=PredictedToken(token=' a', prob=0.9984461665153503, logit=24.09375, token_id=264)\n"
     ]
    },
    {
     "name": "stderr",
     "output_type": "stream",
     "text": [
      "100%|██████████| 17/17 [01:17<00:00,  4.55s/it]\n",
      " 50%|█████     | 5/10 [06:53<06:55, 83.03s/it]"
     ]
    },
    {
     "name": "stdout",
     "output_type": "stream",
     "text": [
      "patch_qa=('Instruction: Keep track of people\\'s knowledge defined in the story. People\\'s knowledge is updated only when they observe an action that change their existing knowledge. To answer the question following the story, choose the correct option by predicting the answer option (either p or q) after the \"Answer:\" tag.\\n\\nStory: Ravi is a farmer in a small Indian village, tending to his mango orchard. Ravi wants to harvest ripe mangoes to sell at the local market. He notices a mango tree with a heavy branch laden with ripe mangoes. A mischievous monkey comes along and eats all the ripe mangoes on the branch while Ravi is gathering his harvesting tools. Ravi sees the monkey eating the ripe mangoes.\\n\\nQuestion: Does the branch have ripe mangoes or no ripe mangoes?\\np) The branch has no ripe mangoes.\\nq) The branch has ripe mangoes.\\nAnswer:', 'p')\n",
      "other_qa=('Instruction: Keep track of people\\'s knowledge defined in the story. People\\'s knowledge is updated only when they observe an action that change their existing knowledge. To answer the question following the story, choose the correct option by predicting the answer option (either x or y) after the \"Answer:\" tag.\\n\\nStory: Ravi is a farmer in a small Indian village, tending to his mango orchard. Ravi wants to harvest ripe mangoes to sell at the local market. He notices a mango tree with a heavy branch laden with ripe mangoes. A mischievous monkey comes along and eats all the ripe mangoes on the branch while Ravi is gathering his harvesting tools. Ravi sees the monkey eating the ripe mangoes.\\n\\nQuestion: Does the branch have ripe mangoes or no ripe mangoes?\\nx) The branch has ripe mangoes.\\ny) The branch has no ripe mangoes.\\nAnswer:', 'y')\n",
      "lm_patch_a=PredictedToken(token=' p', prob=0.998051643371582, logit=22.90625, token_id=281)\n"
     ]
    },
    {
     "name": "stderr",
     "output_type": "stream",
     "text": [
      "100%|██████████| 17/17 [01:16<00:00,  4.52s/it]\n",
      " 60%|██████    | 6/10 [08:14<05:29, 82.44s/it]"
     ]
    },
    {
     "name": "stdout",
     "output_type": "stream",
     "text": [
      "patch_qa=('Instruction: Keep track of people\\'s knowledge defined in the story. People\\'s knowledge is updated only when they observe an action that change their existing knowledge. To answer the question following the story, choose the correct option by predicting the answer option (either p or q) after the \"Answer:\" tag.\\n\\nStory: Kofi is a chef at a popular Ghanaian restaurant. Kofi wants to prepare a traditional groundnut soup for the dinner menu. Kofi adds a small container of peanut butter to the soup pot on the stove. An apprentice chef, mistakenly thinking it was a seasoning paste, removes the peanut butter from the soup and replaces it with tomato paste. Kofi notices the apprentice chef swapping the ingredients.\\n\\nQuestion: Does the soup contain peanut butter or tomato paste?\\np) The soup contains tomato paste.\\nq) The soup contains peanut butter.\\nAnswer:', 'p')\n",
      "other_qa=('Instruction: Keep track of people\\'s knowledge defined in the story. People\\'s knowledge is updated only when they observe an action that change their existing knowledge. To answer the question following the story, choose the correct option by predicting the answer option (either x or y) after the \"Answer:\" tag.\\n\\nStory: Kofi is a chef at a popular Ghanaian restaurant. Kofi wants to prepare a traditional groundnut soup for the dinner menu. Kofi adds a small container of peanut butter to the soup pot on the stove. An apprentice chef, mistakenly thinking it was a seasoning paste, removes the peanut butter from the soup and replaces it with tomato paste. Kofi notices the apprentice chef swapping the ingredients.\\n\\nQuestion: Does the soup contain peanut butter or tomato paste?\\nx) The soup contains tomato paste.\\ny) The soup contains peanut butter.\\nAnswer:', 'x')\n",
      "lm_patch_a=PredictedToken(token=' p', prob=0.9927186965942383, logit=23.265625, token_id=281)\n"
     ]
    },
    {
     "name": "stderr",
     "output_type": "stream",
     "text": [
      "100%|██████████| 17/17 [01:23<00:00,  4.89s/it]\n",
      " 70%|███████   | 7/10 [09:42<04:12, 84.18s/it]"
     ]
    },
    {
     "name": "stdout",
     "output_type": "stream",
     "text": [
      "patch_qa=('Instruction: Keep track of people\\'s knowledge defined in the story. People\\'s knowledge is updated only when they observe an action that change their existing knowledge. To answer the question following the story, choose the correct option by predicting the answer option (either a or b) after the \"Answer:\" tag.\\n\\nStory: Kael is a farmer in a remote village in the Andes. Kael wants to plant a new crop of high-altitude potatoes in one of his terraced fields. The soil in the field appears rich and well-fertilized. Overnight, heavy rainfall washes away much of the fertile soil, leaving mostly rocky dirt behind. Kael notices the change in the soil after the rainfall.\\n\\nQuestion: Is the soil rich and well-fertilized or mostly rocky dirt?\\na) The soil is mostly rocky dirt.\\nb) The soil is rich and well-fertilized.\\nAnswer:', 'a')\n",
      "other_qa=('Instruction: Keep track of people\\'s knowledge defined in the story. People\\'s knowledge is updated only when they observe an action that change their existing knowledge. To answer the question following the story, choose the correct option by predicting the answer option (either p or q) after the \"Answer:\" tag.\\n\\nStory: Kael is a farmer in a remote village in the Andes. Kael wants to plant a new crop of high-altitude potatoes in one of his terraced fields. The soil in the field appears rich and well-fertilized. Overnight, heavy rainfall washes away much of the fertile soil, leaving mostly rocky dirt behind. Kael notices the change in the soil after the rainfall.\\n\\nQuestion: Is the soil rich and well-fertilized or mostly rocky dirt?\\np) The soil is mostly rocky dirt.\\nq) The soil is rich and well-fertilized.\\nAnswer:', 'p')\n",
      "lm_patch_a=PredictedToken(token=' a', prob=0.9978291392326355, logit=23.5625, token_id=264)\n"
     ]
    },
    {
     "name": "stderr",
     "output_type": "stream",
     "text": [
      "100%|██████████| 17/17 [01:16<00:00,  4.50s/it]\n",
      " 80%|████████  | 8/10 [11:03<02:46, 83.08s/it]"
     ]
    },
    {
     "name": "stdout",
     "output_type": "stream",
     "text": [
      "patch_qa=('Instruction: Keep track of people\\'s knowledge defined in the story. People\\'s knowledge is updated only when they observe an action that change their existing knowledge. To answer the question following the story, choose the correct option by predicting the answer option (either x or y) after the \"Answer:\" tag.\\n\\nStory: Farhan is a street food vendor in a bustling market in Istanbul. Farhan wants to prepare a delicious chicken shawarma wrap for a customer who asked for extra garlic sauce. Farhan takes a bottle of garlic sauce from the shelf and pours it onto the shawarma wrap. His assistant, who is busy preparing a different wrap, accidentally swaps the garlic sauce with a bottle of hot sauce, and Farhan unknowingly pours the hot sauce onto the shawarma wrap. Farhan notices the sauce swap.\\n\\nQuestion: Does the sauce Farhan poured contain garlic sauce or hot sauce?\\nx) The sauce Farhan poured is hot sauce.\\ny) The sauce Farhan poured is garlic sauce.\\nAnswer:', 'x')\n",
      "other_qa=('Instruction: Keep track of people\\'s knowledge defined in the story. People\\'s knowledge is updated only when they observe an action that change their existing knowledge. To answer the question following the story, choose the correct option by predicting the answer option (either p or q) after the \"Answer:\" tag.\\n\\nStory: Farhan is a street food vendor in a bustling market in Istanbul. Farhan wants to prepare a delicious chicken shawarma wrap for a customer who asked for extra garlic sauce. Farhan takes a bottle of garlic sauce from the shelf and pours it onto the shawarma wrap. His assistant, who is busy preparing a different wrap, accidentally swaps the garlic sauce with a bottle of hot sauce, and Farhan unknowingly pours the hot sauce onto the shawarma wrap. Farhan notices the sauce swap.\\n\\nQuestion: Does the sauce Farhan poured contain garlic sauce or hot sauce?\\np) The sauce Farhan poured is garlic sauce.\\nq) The sauce Farhan poured is hot sauce.\\nAnswer:', 'q')\n",
      "lm_patch_a=PredictedToken(token=' x', prob=0.9974901676177979, logit=22.140625, token_id=865)\n"
     ]
    },
    {
     "name": "stderr",
     "output_type": "stream",
     "text": [
      "100%|██████████| 17/17 [01:22<00:00,  4.85s/it]\n",
      " 90%|█████████ | 9/10 [12:30<01:24, 84.30s/it]"
     ]
    },
    {
     "name": "stdout",
     "output_type": "stream",
     "text": [
      "patch_qa=('Instruction: Keep track of people\\'s knowledge defined in the story. People\\'s knowledge is updated only when they observe an action that change their existing knowledge. To answer the question following the story, choose the correct option by predicting the answer option (either a or b) after the \"Answer:\" tag.\\n\\nStory: Abhay is a young farmer in a small Indian village. He wants to water his crops with the water stored in a large clay pot. Abhay checks the water level and sees that the pot is full. Unbeknownst to him, a hole in the bottom of the pot has caused the water to leak out, leaving the pot empty. Abhay notices the hole and the water leaking out.\\n\\nQuestion: Is the pot full of water or empty?\\na) The pot is full of water.\\nb) The pot is empty.\\nAnswer:', 'b')\n",
      "other_qa=('Instruction: Keep track of people\\'s knowledge defined in the story. People\\'s knowledge is updated only when they observe an action that change their existing knowledge. To answer the question following the story, choose the correct option by predicting the answer option (either x or y) after the \"Answer:\" tag.\\n\\nStory: Abhay is a young farmer in a small Indian village. He wants to water his crops with the water stored in a large clay pot. Abhay checks the water level and sees that the pot is full. Unbeknownst to him, a hole in the bottom of the pot has caused the water to leak out, leaving the pot empty. Abhay notices the hole and the water leaking out.\\n\\nQuestion: Is the pot full of water or empty?\\nx) The pot is full of water.\\ny) The pot is empty.\\nAnswer:', 'y')\n",
      "lm_patch_a=PredictedToken(token=' b', prob=0.9985098242759705, logit=24.359375, token_id=293)\n"
     ]
    },
    {
     "name": "stderr",
     "output_type": "stream",
     "text": [
      "100%|██████████| 17/17 [01:23<00:00,  4.91s/it]\n",
      "100%|██████████| 10/10 [13:58<00:00, 83.84s/it]\n"
     ]
    }
   ],
   "source": [
    "##################################################################################################\n",
    "layer_name_format = \"model.layers.{}\"\n",
    "limit = 10\n",
    "layer_indices = list(range(0, lm.config.num_hidden_layers, 10)) + list(range(50, 60, 1))\n",
    "token_idx = -1\n",
    "##################################################################################################\n",
    "\n",
    "layer_indices = sorted(list(set(layer_indices)))\n",
    "locations = [(layer_name_format.format(l), -1) for l in layer_indices]\n",
    "\n",
    "all_patch_effects = trace_average_causal_influence_of_states(\n",
    "    lm=lm,\n",
    "    dataset=dataset,\n",
    "    locations=locations,\n",
    "    limit=limit,\n",
    ")\n"
   ]
  },
  {
   "cell_type": "code",
   "execution_count": 15,
   "metadata": {},
   "outputs": [],
   "source": [
    "avg_effects = process_patch_effects(all_patch_effects, locations, metric=\"prob\")"
   ]
  },
  {
   "cell_type": "code",
   "execution_count": 16,
   "metadata": {},
   "outputs": [
    {
     "data": {
      "text/plain": [
       "Text(0, 0.5, 'p(ans)')"
      ]
     },
     "execution_count": 16,
     "metadata": {},
     "output_type": "execute_result"
    },
    {
     "data": {
      "image/png": "[encoded data removed]",
      "text/plain": [
       "<Figure size 1500x500 with 1 Axes>"
      ]
     },
     "metadata": {},
     "output_type": "display_data"
    }
   ],
   "source": [
    "import matplotlib.pyplot as plt\n",
    "\n",
    "keys = [\n",
    "    int(layer.split(\".\")[-1]) for layer, tok_idx in avg_effects.keys()\n",
    "]\n",
    "plt.figure(figsize=(15, 5))\n",
    "plt.plot(keys, avg_effects.values(), marker=\"o\")\n",
    "plt.xticks(keys, rotation=90)\n",
    "plt.xlabel(\"Layer Index\")\n",
    "plt.ylabel(\"p(ans)\")"
   ]
  },
  {
   "cell_type": "code",
   "execution_count": null,
   "metadata": {},
   "outputs": [],
   "source": []
  }
 ],
 "metadata": {
  "kernelspec": {
   "display_name": "retrieval",
   "language": "python",
   "name": "python3"
  },
  "language_info": {
   "codemirror_mode": {
    "name": "ipython",
    "version": 3
   },
   "file_extension": ".py",
   "mimetype": "text/x-python",
   "name": "python",
   "nbconvert_exporter": "python",
   "pygments_lexer": "ipython3",
   "version": "3.11.9"
  }
 },
 "nbformat": 4,
 "nbformat_minor": 2
}
