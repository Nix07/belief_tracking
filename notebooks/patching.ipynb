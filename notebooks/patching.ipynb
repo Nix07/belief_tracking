{
 "cells": [
  {
   "cell_type": "code",
   "execution_count": 1,
   "metadata": {},
   "outputs": [],
   "source": [
    "%load_ext autoreload\n",
    "%autoreload 2"
   ]
  },
  {
   "cell_type": "code",
   "execution_count": 2,
   "metadata": {},
   "outputs": [
    {
     "name": "stderr",
     "output_type": "stream",
     "text": [
      "/home/local_arnab/miniconda3/envs/retrieval/lib/python3.11/site-packages/tqdm/auto.py:21: TqdmWarning: IProgress not found. Please update jupyter and ipywidgets. See https://ipywidgets.readthedocs.io/en/stable/user_install.html\n",
      "  from .autonotebook import tqdm as notebook_tqdm\n"
     ]
    }
   ],
   "source": [
    "import os, time, json\n",
    "import pandas as pd\n",
    "from openai import OpenAI\n",
    "from tqdm.auto import tqdm\n",
    "import spacy\n",
    "import pandas as pd\n",
    "\n",
    "import sys\n",
    "sys.path.append(\"../\")\n",
    "import os\n",
    "from src.functional import free_gpu_cache"
   ]
  },
  {
   "cell_type": "code",
   "execution_count": 3,
   "metadata": {},
   "outputs": [
    {
     "name": "stderr",
     "output_type": "stream",
     "text": [
      "The `load_in_4bit` and `load_in_8bit` arguments are deprecated and will be removed in the future versions. Please, pass a `BitsAndBytesConfig` object in `quantization_config` argument instead.\n",
      "Loading checkpoint shards: 100%|██████████| 30/30 [01:05<00:00,  2.18s/it]"
     ]
    },
    {
     "name": "stdout",
     "output_type": "stream",
     "text": [
      "loaded /home/local_arnab/Codes/00_MODEL/meta-llama/Meta-Llama-3-70B-Instruct | size: 36650.535 MB\n"
     ]
    },
    {
     "name": "stderr",
     "output_type": "stream",
     "text": [
      "\n"
     ]
    }
   ],
   "source": [
    "from src.models import load_LM\n",
    "import torch\n",
    "from nnsight import LanguageModel\n",
    "from src.utils import env_utils\n",
    "\n",
    "# model_key = \"meta-llama/Meta-Llama-3-8B-Instruct\"\n",
    "model_key = \"meta-llama/Meta-Llama-3-70B-Instruct\"\n",
    "\n",
    "lm = load_LM(\n",
    "    model_key=model_key,\n",
    "    torch_dtype=torch.float16,\n",
    "    load_in_4bit=True,\n",
    ")"
   ]
  },
  {
   "cell_type": "code",
   "execution_count": 4,
   "metadata": {},
   "outputs": [
    {
     "name": "stderr",
     "output_type": "stream",
     "text": [
      "You're using a PreTrainedTokenizerFast tokenizer. Please note that with a fast tokenizer, using the `__call__` method is faster than using a method to encode the text followed by a call to the `pad` method to get a padded encoding.\n",
      "We detected that you are passing `past_key_values` as a tuple and this is deprecated and will be removed in v4.43. Please use an appropriate `Cache` class (https://huggingface.co/docs/transformers/v4.41.3/en/internal/generation_utils#transformers.Cache)\n"
     ]
    },
    {
     "name": "stdout",
     "output_type": "stream",
     "text": [
      "Instruction: Keep track of people's knowledge defined in the story. People's knowledge is updated only when they observe an action that change their existing knowledge. To answer the question following the story, choose the correct option by predicting the answer option (either a or b) after the \"Answer:\" tag.\n",
      "\n",
      "Story: Ravi is a farmer in a small Indian village, tending to his mango orchard. Ravi wants to harvest ripe mangoes to sell at the local market. He notices a mango tree with a heavy branch laden with ripe mangoes. A mischievous monkey comes along and eats all the ripe mangoes on the branch while Ravi is gathering his harvesting tools. Ravi sees the monkey eating the ripe mangoes.\n",
      "\n",
      "Question: Does the branch have ripe mangoes or no ripe mangoes?\n",
      "a) The branch has no ripe mangoes.\n",
      "b) The branch has ripe mangoes.\n",
      "Answer:\n",
      "a\n"
     ]
    },
    {
     "name": "stderr",
     "output_type": "stream",
     "text": [
      "/home/local_arnab/miniconda3/envs/retrieval/lib/python3.11/site-packages/bitsandbytes/nn/modules.py:435: UserWarning: Input type into Linear4bit is torch.float16, but bnb_4bit_compute_dtype=torch.float32 (default). This will lead to slow inference or training speed.\n",
      "  warnings.warn(\n"
     ]
    },
    {
     "data": {
      "text/plain": [
       "[PredictedToken(token=' a', prob=0.9979391694068909, logit=23.640625, token_id=264),\n",
       " PredictedToken(token=' b', prob=0.0007783666369505227, logit=16.484375, token_id=293),\n",
       " PredictedToken(token=' ', prob=0.00035083730472251773, logit=15.6875, token_id=220),\n",
       " PredictedToken(token=' (', prob=0.00018487827037461102, logit=15.046875, token_id=320),\n",
       " PredictedToken(token=' The', prob=0.00015207672549877316, logit=14.8515625, token_id=578)]"
      ]
     },
     "execution_count": 4,
     "metadata": {},
     "output_type": "execute_result"
    }
   ],
   "source": [
    "from src.dataset import load_worldstate_dataset\n",
    "from src.functional import predict_next_token \n",
    "\n",
    "dataset = load_worldstate_dataset()\n",
    "q1, a1 = dataset.__getitem__(5, tags=[\"a\", \"b\"])\n",
    "print(q1)\n",
    "print(a1)\n",
    "\n",
    "predict_next_token(\n",
    "    lm=lm,\n",
    "    input=q1\n",
    ")"
   ]
  },
  {
   "cell_type": "code",
   "execution_count": 5,
   "metadata": {},
   "outputs": [],
   "source": [
    "free_gpu_cache()"
   ]
  },
  {
   "cell_type": "code",
   "execution_count": 6,
   "metadata": {},
   "outputs": [
    {
     "name": "stdout",
     "output_type": "stream",
     "text": [
      "Instruction: Keep track of people's knowledge defined in the story. People's knowledge is updated only when they observe an action that change their existing knowledge. To answer the question following the story, choose the correct option by predicting the answer option (either x or y) after the \"Answer:\" tag.\n",
      "\n",
      "Story: Mei is a florist in a small town in Japan. She wants to create a beautiful bouquet using fresh flowers from her garden. Mei notices that her roses are in full bloom, with vibrant colors. Overnight, a sudden frost damages the roses, causing them to wilt and lose their vibrancy. Mei sees the wilted roses in her garden the next morning.\n",
      "\n",
      "Question: Are the roses in Mei's garden in full bloom or wilted?\n",
      "x) The roses are in full bloom.\n",
      "y) The roses are wilted.\n",
      "Answer:\n",
      "y\n"
     ]
    },
    {
     "data": {
      "text/plain": [
       "[PredictedToken(token=' y', prob=0.9976453185081482, logit=22.5, token_id=379),\n",
       " PredictedToken(token=' **', prob=0.00027102624881081283, logit=14.2890625, token_id=3146),\n",
       " PredictedToken(token=' __', prob=0.00025861503672786057, logit=14.2421875, token_id=1328),\n",
       " PredictedToken(token=' \\n', prob=0.000256602477747947, logit=14.234375, token_id=720),\n",
       " PredictedToken(token=' The', prob=0.0002546055766288191, logit=14.2265625, token_id=578)]"
      ]
     },
     "execution_count": 6,
     "metadata": {},
     "output_type": "execute_result"
    }
   ],
   "source": [
    "q2, a2 = dataset.__getitem__(15, tags=[\"x\", \"y\"])\n",
    "print(q2)\n",
    "print(a2)\n",
    "\n",
    "predict_next_token(\n",
    "    lm=lm,\n",
    "    input=q2\n",
    ")"
   ]
  },
  {
   "cell_type": "code",
   "execution_count": 7,
   "metadata": {},
   "outputs": [],
   "source": [
    "from src.functional import get_hs\n",
    "from src.functional import logit_lens\n",
    "from src.functional import free_gpu_cache\n",
    "\n",
    "layer_name_format = \"model.layers.{}\"\n",
    "free_gpu_cache()\n",
    "\n",
    "hs = get_hs(\n",
    "    lm=lm,\n",
    "    input=q1,\n",
    "    locations=[\n",
    "        (layer_name_format.format(l), -1) \n",
    "        for l in range(lm.config.num_hidden_layers)\n",
    "    ]\n",
    ")\n",
    "\n",
    "free_gpu_cache()"
   ]
  },
  {
   "cell_type": "code",
   "execution_count": 8,
   "metadata": {},
   "outputs": [
    {
     "data": {
      "text/plain": [
       "dict_keys([('model.layers.0', -1), ('model.layers.1', -1), ('model.layers.2', -1), ('model.layers.3', -1), ('model.layers.4', -1), ('model.layers.5', -1), ('model.layers.6', -1), ('model.layers.7', -1), ('model.layers.8', -1), ('model.layers.9', -1), ('model.layers.10', -1), ('model.layers.11', -1), ('model.layers.12', -1), ('model.layers.13', -1), ('model.layers.14', -1), ('model.layers.15', -1), ('model.layers.16', -1), ('model.layers.17', -1), ('model.layers.18', -1), ('model.layers.19', -1), ('model.layers.20', -1), ('model.layers.21', -1), ('model.layers.22', -1), ('model.layers.23', -1), ('model.layers.24', -1), ('model.layers.25', -1), ('model.layers.26', -1), ('model.layers.27', -1), ('model.layers.28', -1), ('model.layers.29', -1), ('model.layers.30', -1), ('model.layers.31', -1), ('model.layers.32', -1), ('model.layers.33', -1), ('model.layers.34', -1), ('model.layers.35', -1), ('model.layers.36', -1), ('model.layers.37', -1), ('model.layers.38', -1), ('model.layers.39', -1), ('model.layers.40', -1), ('model.layers.41', -1), ('model.layers.42', -1), ('model.layers.43', -1), ('model.layers.44', -1), ('model.layers.45', -1), ('model.layers.46', -1), ('model.layers.47', -1), ('model.layers.48', -1), ('model.layers.49', -1), ('model.layers.50', -1), ('model.layers.51', -1), ('model.layers.52', -1), ('model.layers.53', -1), ('model.layers.54', -1), ('model.layers.55', -1), ('model.layers.56', -1), ('model.layers.57', -1), ('model.layers.58', -1), ('model.layers.59', -1), ('model.layers.60', -1), ('model.layers.61', -1), ('model.layers.62', -1), ('model.layers.63', -1), ('model.layers.64', -1), ('model.layers.65', -1), ('model.layers.66', -1), ('model.layers.67', -1), ('model.layers.68', -1), ('model.layers.69', -1), ('model.layers.70', -1), ('model.layers.71', -1), ('model.layers.72', -1), ('model.layers.73', -1), ('model.layers.74', -1), ('model.layers.75', -1), ('model.layers.76', -1), ('model.layers.77', -1), ('model.layers.78', -1), ('model.layers.79', -1)])"
      ]
     },
     "execution_count": 8,
     "metadata": {},
     "output_type": "execute_result"
    }
   ],
   "source": [
    "hs.keys()"
   ]
  },
  {
   "cell_type": "code",
   "execution_count": 9,
   "metadata": {},
   "outputs": [
    {
     "data": {
      "text/plain": [
       "([PredictedToken(token=' a', prob=0.9979391694068909, logit=23.640625, token_id=264),\n",
       "  PredictedToken(token=' b', prob=0.0007783666369505227, logit=16.484375, token_id=293),\n",
       "  PredictedToken(token=' ', prob=0.00035083730472251773, logit=15.6875, token_id=220),\n",
       "  PredictedToken(token=' (', prob=0.00018487827037461102, logit=15.046875, token_id=320),\n",
       "  PredictedToken(token=' The', prob=0.00015207672549877316, logit=14.8515625, token_id=578)],\n",
       " {293: (2,\n",
       "   PredictedToken(token=' b', prob=0.0007783666369505227, logit=16.484375, token_id=293))})"
      ]
     },
     "execution_count": 9,
     "metadata": {},
     "output_type": "execute_result"
    }
   ],
   "source": [
    "from src.functional import PatchSpec\n",
    "\n",
    "patches = [\n",
    "    PatchSpec(\n",
    "        location=key,\n",
    "        patch=hs[key]\n",
    "    ) for key in hs.keys()\n",
    "]\n",
    "\n",
    "predict_next_token(\n",
    "    lm=lm, \n",
    "    input=q2,\n",
    "    patches=patches,\n",
    "    interested_tokens=[293]\n",
    ")"
   ]
  },
  {
   "cell_type": "code",
   "execution_count": 14,
   "metadata": {},
   "outputs": [],
   "source": [
    "free_gpu_cache()"
   ]
  },
  {
   "cell_type": "code",
   "execution_count": 24,
   "metadata": {},
   "outputs": [],
   "source": [
    "from tqdm.auto import tqdm\n",
    "import random\n",
    "from src.utils.typing import TokenizerOutput\n",
    "from src.models import prepare_input\n",
    "\n",
    "@torch.inference_mode()\n",
    "def trace_causal_influence_of_states(\n",
    "    lm: LanguageModel,\n",
    "    patch_qa: tuple[str | TokenizerOutput, str],  # will be patched from\n",
    "    other_qa: tuple[str | TokenizerOutput, str],  # will get patched\n",
    "    locations: list[tuple[str, int]], # layer_name, token_index\n",
    "):\n",
    "    free_gpu_cache()\n",
    "    patch_q, patch_a = patch_qa\n",
    "    if isinstance(patch_q, str):\n",
    "        patch_q = prepare_input(prompts=patch_q, tokenizer=lm)\n",
    "\n",
    "    last_position = (f\"model.layers.{lm.config.num_hidden_layers - 1}\", -1)\n",
    "    pop_last_position = False\n",
    "    if last_position not in locations:\n",
    "        locations.append(last_position)\n",
    "        pop_last_position = True\n",
    "\n",
    "    hs = get_hs(\n",
    "        lm=lm,\n",
    "        input=patch_qa[0],\n",
    "        locations=locations,\n",
    "        return_dict=True\n",
    "    )\n",
    "    lm_patch_a = logit_lens(lm=lm, h=hs[last_position], k=2)[0]\n",
    "    print(f\"{lm_patch_a=}\")\n",
    "\n",
    "    if lm_patch_a.token.strip() != patch_a.strip():\n",
    "        print(f\"{lm_patch_a.token.strip()=}  !==  {patch_a.strip()=} ... skipping\")\n",
    "        return None\n",
    "\n",
    "    if pop_last_position:\n",
    "        locations.pop()\n",
    "    \n",
    "    patch_effects = {}\n",
    "    for location in tqdm(locations):\n",
    "        pred, track_patch_a = predict_next_token(\n",
    "            lm=lm,\n",
    "            input=other_qa[0],\n",
    "            patches=[PatchSpec(location=location, patch=hs[location])],\n",
    "            interested_tokens=[lm_patch_a.token_id],\n",
    "        )\n",
    "        track_patch_a = track_patch_a[lm_patch_a.token_id]\n",
    "        patch_effects[location] = dict(rank=track_patch_a[0], pred=track_patch_a[1])\n",
    "        free_gpu_cache()\n",
    "    \n",
    "    return patch_effects"
   ]
  },
  {
   "cell_type": "code",
   "execution_count": 26,
   "metadata": {},
   "outputs": [
    {
     "name": "stderr",
     "output_type": "stream",
     "text": [
      "  0%|          | 0/10 [00:00<?, ?it/s]"
     ]
    },
    {
     "name": "stdout",
     "output_type": "stream",
     "text": [
      "patch_qa=('Instruction: Keep track of people\\'s knowledge defined in the story. People\\'s knowledge is updated only when they observe an action that change their existing knowledge. To answer the question following the story, choose the correct option by predicting the answer option (either p or q) after the \"Answer:\" tag.\\n\\nStory: Noor is working as a barista at a busy coffee shop. Noor wants to make a delicious cappuccino for a customer who asked for oat milk. Noor grabs a milk pitcher and fills it with oat milk. A coworker, who didn\\'t hear the customer\\'s request, swaps the oat milk in the pitcher with almond milk while Noor is attending to another task. Noor sees her coworker swapping the milk.\\n\\nQuestion: Does the milk pitcher contain oat milk or almond milk?\\np) The milk pitcher contains oat milk.\\nq) The milk pitcher contains almond milk.\\nAnswer:', 'q')\n",
      "other_qa=('Instruction: Keep track of people\\'s knowledge defined in the story. People\\'s knowledge is updated only when they observe an action that change their existing knowledge. To answer the question following the story, choose the correct option by predicting the answer option (either x or y) after the \"Answer:\" tag.\\n\\nStory: Noor is working as a barista at a busy coffee shop. Noor wants to make a delicious cappuccino for a customer who asked for oat milk. Noor grabs a milk pitcher and fills it with oat milk. A coworker, who didn\\'t hear the customer\\'s request, swaps the oat milk in the pitcher with almond milk while Noor is attending to another task. Noor sees her coworker swapping the milk.\\n\\nQuestion: Does the milk pitcher contain oat milk or almond milk?\\nx) The milk pitcher contains almond milk.\\ny) The milk pitcher contains oat milk.\\nAnswer:', 'x')\n",
      "lm_patch_a=PredictedToken(token=' q', prob=0.989158034324646, logit=21.828125, token_id=2874)\n"
     ]
    },
    {
     "name": "stderr",
     "output_type": "stream",
     "text": [
      "100%|██████████| 8/8 [00:33<00:00,  4.17s/it]\n",
      " 10%|█         | 1/10 [00:37<05:36, 37.35s/it]"
     ]
    },
    {
     "name": "stdout",
     "output_type": "stream",
     "text": [
      "patch_qa=('Instruction: Keep track of people\\'s knowledge defined in the story. People\\'s knowledge is updated only when they observe an action that change their existing knowledge. To answer the question following the story, choose the correct option by predicting the answer option (either a or b) after the \"Answer:\" tag.\\n\\nStory: Zara is attending an art exhibition at a local gallery in her town. Zara wants to learn more about a particular abstract painting she admires. The label next to the artwork states that the painting is the work of a famous artist, and Zara reads the label carefully. A gallery staff member, realizing there was a mix-up, changes the label with the correct information attributing the painting to an emerging artist instead. Zara reads the updated label carefully.\\n\\nQuestion: Is the painting the work of a famous artist or an emerging artist?\\na) The painting is the work of an emerging artist.\\nb) The painting is the work of a famous artist.\\nAnswer:', 'a')\n",
      "other_qa=('Instruction: Keep track of people\\'s knowledge defined in the story. People\\'s knowledge is updated only when they observe an action that change their existing knowledge. To answer the question following the story, choose the correct option by predicting the answer option (either x or y) after the \"Answer:\" tag.\\n\\nStory: Zara is attending an art exhibition at a local gallery in her town. Zara wants to learn more about a particular abstract painting she admires. The label next to the artwork states that the painting is the work of a famous artist, and Zara reads the label carefully. A gallery staff member, realizing there was a mix-up, changes the label with the correct information attributing the painting to an emerging artist instead. Zara reads the updated label carefully.\\n\\nQuestion: Is the painting the work of a famous artist or an emerging artist?\\nx) The painting is the work of an emerging artist.\\ny) The painting is the work of a famous artist.\\nAnswer:', 'x')\n",
      "lm_patch_a=PredictedToken(token=' a', prob=0.995323121547699, logit=22.484375, token_id=264)\n"
     ]
    },
    {
     "name": "stderr",
     "output_type": "stream",
     "text": [
      "100%|██████████| 8/8 [00:36<00:00,  4.58s/it]\n",
      " 20%|██        | 2/10 [01:18<05:16, 39.57s/it]"
     ]
    },
    {
     "name": "stdout",
     "output_type": "stream",
     "text": [
      "patch_qa=('Instruction: Keep track of people\\'s knowledge defined in the story. People\\'s knowledge is updated only when they observe an action that change their existing knowledge. To answer the question following the story, choose the correct option by predicting the answer option (either a or b) after the \"Answer:\" tag.\\n\\nStory: Carlos is a farmer in a small village in Mexico, tending to his cornfield. He wants to irrigate his crops by opening a water valve connected to a nearby river. Carlos closed the valve the previous evening. During the night, heavy rainfall caused the river to overflow, opening the valve and flooding the cornfield. Carlos sees the flooded cornfield.\\n\\nQuestion: Is the water valve closed or open?\\na) The water valve is closed.\\nb) The water valve is open.\\nAnswer:', 'b')\n",
      "other_qa=('Instruction: Keep track of people\\'s knowledge defined in the story. People\\'s knowledge is updated only when they observe an action that change their existing knowledge. To answer the question following the story, choose the correct option by predicting the answer option (either p or q) after the \"Answer:\" tag.\\n\\nStory: Carlos is a farmer in a small village in Mexico, tending to his cornfield. He wants to irrigate his crops by opening a water valve connected to a nearby river. Carlos closed the valve the previous evening. During the night, heavy rainfall caused the river to overflow, opening the valve and flooding the cornfield. Carlos sees the flooded cornfield.\\n\\nQuestion: Is the water valve closed or open?\\np) The water valve is closed.\\nq) The water valve is open.\\nAnswer:', 'q')\n",
      "lm_patch_a=PredictedToken(token=' b', prob=0.9967024922370911, logit=22.9375, token_id=293)\n"
     ]
    },
    {
     "name": "stderr",
     "output_type": "stream",
     "text": [
      "100%|██████████| 8/8 [00:35<00:00,  4.41s/it]\n",
      " 30%|███       | 3/10 [01:57<04:36, 39.52s/it]"
     ]
    },
    {
     "name": "stdout",
     "output_type": "stream",
     "text": [
      "patch_qa=('Instruction: Keep track of people\\'s knowledge defined in the story. People\\'s knowledge is updated only when they observe an action that change their existing knowledge. To answer the question following the story, choose the correct option by predicting the answer option (either a or b) after the \"Answer:\" tag.\\n\\nStory: Kofi is a fisherman from a small village in Ghana. He wants to catch enough fish today to provide for his family and sell the surplus at the market. Kofi repaired his fishing net last night. While Kofi is away from his boat, a group of monkeys comes and plays with the fishing net, tearing it apart. Kofi observes the monkeys damaging his fishing net.\\n\\nQuestion: Is Kofi\\'s fishing net in good condition or torn apart?\\na) The fishing net is in good condition.\\nb) The fishing net is torn apart.\\nAnswer:', 'b')\n",
      "other_qa=('Instruction: Keep track of people\\'s knowledge defined in the story. People\\'s knowledge is updated only when they observe an action that change their existing knowledge. To answer the question following the story, choose the correct option by predicting the answer option (either x or y) after the \"Answer:\" tag.\\n\\nStory: Kofi is a fisherman from a small village in Ghana. He wants to catch enough fish today to provide for his family and sell the surplus at the market. Kofi repaired his fishing net last night. While Kofi is away from his boat, a group of monkeys comes and plays with the fishing net, tearing it apart. Kofi observes the monkeys damaging his fishing net.\\n\\nQuestion: Is Kofi\\'s fishing net in good condition or torn apart?\\nx) The fishing net is torn apart.\\ny) The fishing net is in good condition.\\nAnswer:', 'x')\n",
      "lm_patch_a=PredictedToken(token=' b', prob=0.9991887211799622, logit=24.390625, token_id=293)\n"
     ]
    },
    {
     "name": "stderr",
     "output_type": "stream",
     "text": [
      "100%|██████████| 8/8 [00:35<00:00,  4.42s/it]\n",
      " 40%|████      | 4/10 [02:37<03:57, 39.54s/it]"
     ]
    },
    {
     "name": "stdout",
     "output_type": "stream",
     "text": [
      "patch_qa=('Instruction: Keep track of people\\'s knowledge defined in the story. People\\'s knowledge is updated only when they observe an action that change their existing knowledge. To answer the question following the story, choose the correct option by predicting the answer option (either a or b) after the \"Answer:\" tag.\\n\\nStory: Azola is a teacher at a small school in rural China. She wants to surprise her students with a new book for the school library. Azola got a notification from Amazon stating that the package containing the book was left at her doorstep. A gust of wind blows the package off her doorstep, and a neighbor replaces it with a different package containing a hand-knit scarf. Azola witnesses the package swap.\\n\\nQuestion: Does the package contain the book Azola ordered or a hand-knit scarf?\\na) The package contains a hand-knit scarf.\\nb) The package contains the book Azola ordered.\\nAnswer:', 'a')\n",
      "other_qa=('Instruction: Keep track of people\\'s knowledge defined in the story. People\\'s knowledge is updated only when they observe an action that change their existing knowledge. To answer the question following the story, choose the correct option by predicting the answer option (either x or y) after the \"Answer:\" tag.\\n\\nStory: Azola is a teacher at a small school in rural China. She wants to surprise her students with a new book for the school library. Azola got a notification from Amazon stating that the package containing the book was left at her doorstep. A gust of wind blows the package off her doorstep, and a neighbor replaces it with a different package containing a hand-knit scarf. Azola witnesses the package swap.\\n\\nQuestion: Does the package contain the book Azola ordered or a hand-knit scarf?\\nx) The package contains a hand-knit scarf.\\ny) The package contains the book Azola ordered.\\nAnswer:', 'x')\n",
      "lm_patch_a=PredictedToken(token=' a', prob=0.9984461665153503, logit=24.09375, token_id=264)\n"
     ]
    },
    {
     "name": "stderr",
     "output_type": "stream",
     "text": [
      "100%|██████████| 8/8 [00:33<00:00,  4.20s/it]\n",
      " 50%|█████     | 5/10 [03:15<03:14, 38.85s/it]"
     ]
    },
    {
     "name": "stdout",
     "output_type": "stream",
     "text": [
      "patch_qa=('Instruction: Keep track of people\\'s knowledge defined in the story. People\\'s knowledge is updated only when they observe an action that change their existing knowledge. To answer the question following the story, choose the correct option by predicting the answer option (either a or b) after the \"Answer:\" tag.\\n\\nStory: Ravi is a farmer in a small Indian village, tending to his mango orchard. Ravi wants to harvest ripe mangoes to sell at the local market. He notices a mango tree with a heavy branch laden with ripe mangoes. A mischievous monkey comes along and eats all the ripe mangoes on the branch while Ravi is gathering his harvesting tools. Ravi sees the monkey eating the ripe mangoes.\\n\\nQuestion: Does the branch have ripe mangoes or no ripe mangoes?\\na) The branch has no ripe mangoes.\\nb) The branch has ripe mangoes.\\nAnswer:', 'a')\n",
      "other_qa=('Instruction: Keep track of people\\'s knowledge defined in the story. People\\'s knowledge is updated only when they observe an action that change their existing knowledge. To answer the question following the story, choose the correct option by predicting the answer option (either x or y) after the \"Answer:\" tag.\\n\\nStory: Ravi is a farmer in a small Indian village, tending to his mango orchard. Ravi wants to harvest ripe mangoes to sell at the local market. He notices a mango tree with a heavy branch laden with ripe mangoes. A mischievous monkey comes along and eats all the ripe mangoes on the branch while Ravi is gathering his harvesting tools. Ravi sees the monkey eating the ripe mangoes.\\n\\nQuestion: Does the branch have ripe mangoes or no ripe mangoes?\\nx) The branch has ripe mangoes.\\ny) The branch has no ripe mangoes.\\nAnswer:', 'y')\n",
      "lm_patch_a=PredictedToken(token=' a', prob=0.9979391694068909, logit=23.640625, token_id=264)\n"
     ]
    },
    {
     "name": "stderr",
     "output_type": "stream",
     "text": [
      "100%|██████████| 8/8 [00:33<00:00,  4.19s/it]\n",
      " 60%|██████    | 6/10 [03:52<02:33, 38.45s/it]"
     ]
    },
    {
     "name": "stdout",
     "output_type": "stream",
     "text": [
      "patch_qa=('Instruction: Keep track of people\\'s knowledge defined in the story. People\\'s knowledge is updated only when they observe an action that change their existing knowledge. To answer the question following the story, choose the correct option by predicting the answer option (either p or q) after the \"Answer:\" tag.\\n\\nStory: Kofi is a chef at a popular Ghanaian restaurant. Kofi wants to prepare a traditional groundnut soup for the dinner menu. Kofi adds a small container of peanut butter to the soup pot on the stove. An apprentice chef, mistakenly thinking it was a seasoning paste, removes the peanut butter from the soup and replaces it with tomato paste. Kofi notices the apprentice chef swapping the ingredients.\\n\\nQuestion: Does the soup contain peanut butter or tomato paste?\\np) The soup contains tomato paste.\\nq) The soup contains peanut butter.\\nAnswer:', 'p')\n",
      "other_qa=('Instruction: Keep track of people\\'s knowledge defined in the story. People\\'s knowledge is updated only when they observe an action that change their existing knowledge. To answer the question following the story, choose the correct option by predicting the answer option (either x or y) after the \"Answer:\" tag.\\n\\nStory: Kofi is a chef at a popular Ghanaian restaurant. Kofi wants to prepare a traditional groundnut soup for the dinner menu. Kofi adds a small container of peanut butter to the soup pot on the stove. An apprentice chef, mistakenly thinking it was a seasoning paste, removes the peanut butter from the soup and replaces it with tomato paste. Kofi notices the apprentice chef swapping the ingredients.\\n\\nQuestion: Does the soup contain peanut butter or tomato paste?\\nx) The soup contains tomato paste.\\ny) The soup contains peanut butter.\\nAnswer:', 'x')\n",
      "lm_patch_a=PredictedToken(token=' p', prob=0.9927186965942383, logit=23.265625, token_id=281)\n"
     ]
    },
    {
     "name": "stderr",
     "output_type": "stream",
     "text": [
      "100%|██████████| 8/8 [00:35<00:00,  4.39s/it]\n",
      " 70%|███████   | 7/10 [04:32<01:56, 38.73s/it]"
     ]
    },
    {
     "name": "stdout",
     "output_type": "stream",
     "text": [
      "patch_qa=('Instruction: Keep track of people\\'s knowledge defined in the story. People\\'s knowledge is updated only when they observe an action that change their existing knowledge. To answer the question following the story, choose the correct option by predicting the answer option (either x or y) after the \"Answer:\" tag.\\n\\nStory: Kael is a farmer in a remote village in the Andes. Kael wants to plant a new crop of high-altitude potatoes in one of his terraced fields. The soil in the field appears rich and well-fertilized. Overnight, heavy rainfall washes away much of the fertile soil, leaving mostly rocky dirt behind. Kael notices the change in the soil after the rainfall.\\n\\nQuestion: Is the soil rich and well-fertilized or mostly rocky dirt?\\nx) The soil is rich and well-fertilized.\\ny) The soil is mostly rocky dirt.\\nAnswer:', 'y')\n",
      "other_qa=('Instruction: Keep track of people\\'s knowledge defined in the story. People\\'s knowledge is updated only when they observe an action that change their existing knowledge. To answer the question following the story, choose the correct option by predicting the answer option (either a or b) after the \"Answer:\" tag.\\n\\nStory: Kael is a farmer in a remote village in the Andes. Kael wants to plant a new crop of high-altitude potatoes in one of his terraced fields. The soil in the field appears rich and well-fertilized. Overnight, heavy rainfall washes away much of the fertile soil, leaving mostly rocky dirt behind. Kael notices the change in the soil after the rainfall.\\n\\nQuestion: Is the soil rich and well-fertilized or mostly rocky dirt?\\na) The soil is mostly rocky dirt.\\nb) The soil is rich and well-fertilized.\\nAnswer:', 'a')\n",
      "lm_patch_a=PredictedToken(token=' y', prob=0.9987712502479553, logit=23.265625, token_id=379)\n"
     ]
    },
    {
     "name": "stderr",
     "output_type": "stream",
     "text": [
      "100%|██████████| 8/8 [00:33<00:00,  4.19s/it]\n",
      " 80%|████████  | 8/10 [05:09<01:16, 38.36s/it]"
     ]
    },
    {
     "name": "stdout",
     "output_type": "stream",
     "text": [
      "patch_qa=('Instruction: Keep track of people\\'s knowledge defined in the story. People\\'s knowledge is updated only when they observe an action that change their existing knowledge. To answer the question following the story, choose the correct option by predicting the answer option (either x or y) after the \"Answer:\" tag.\\n\\nStory: Farhan is a street food vendor in a bustling market in Istanbul. Farhan wants to prepare a delicious chicken shawarma wrap for a customer who asked for extra garlic sauce. Farhan takes a bottle of garlic sauce from the shelf and pours it onto the shawarma wrap. His assistant, who is busy preparing a different wrap, accidentally swaps the garlic sauce with a bottle of hot sauce, and Farhan unknowingly pours the hot sauce onto the shawarma wrap. Farhan notices the sauce swap.\\n\\nQuestion: Does the sauce Farhan poured contain garlic sauce or hot sauce?\\nx) The sauce Farhan poured is garlic sauce.\\ny) The sauce Farhan poured is hot sauce.\\nAnswer:', 'y')\n",
      "other_qa=('Instruction: Keep track of people\\'s knowledge defined in the story. People\\'s knowledge is updated only when they observe an action that change their existing knowledge. To answer the question following the story, choose the correct option by predicting the answer option (either a or b) after the \"Answer:\" tag.\\n\\nStory: Farhan is a street food vendor in a bustling market in Istanbul. Farhan wants to prepare a delicious chicken shawarma wrap for a customer who asked for extra garlic sauce. Farhan takes a bottle of garlic sauce from the shelf and pours it onto the shawarma wrap. His assistant, who is busy preparing a different wrap, accidentally swaps the garlic sauce with a bottle of hot sauce, and Farhan unknowingly pours the hot sauce onto the shawarma wrap. Farhan notices the sauce swap.\\n\\nQuestion: Does the sauce Farhan poured contain garlic sauce or hot sauce?\\na) The sauce Farhan poured is hot sauce.\\nb) The sauce Farhan poured is garlic sauce.\\nAnswer:', 'a')\n",
      "lm_patch_a=PredictedToken(token=' y', prob=0.9958329796791077, logit=21.328125, token_id=379)\n"
     ]
    },
    {
     "name": "stderr",
     "output_type": "stream",
     "text": [
      "100%|██████████| 8/8 [00:36<00:00,  4.60s/it]\n",
      " 90%|█████████ | 9/10 [05:50<00:39, 39.26s/it]"
     ]
    },
    {
     "name": "stdout",
     "output_type": "stream",
     "text": [
      "patch_qa=('Instruction: Keep track of people\\'s knowledge defined in the story. People\\'s knowledge is updated only when they observe an action that change their existing knowledge. To answer the question following the story, choose the correct option by predicting the answer option (either a or b) after the \"Answer:\" tag.\\n\\nStory: Abhay is a young farmer in a small Indian village. He wants to water his crops with the water stored in a large clay pot. Abhay checks the water level and sees that the pot is full. Unbeknownst to him, a hole in the bottom of the pot has caused the water to leak out, leaving the pot empty. Abhay notices the hole and the water leaking out.\\n\\nQuestion: Is the pot full of water or empty?\\na) The pot is full of water.\\nb) The pot is empty.\\nAnswer:', 'b')\n",
      "other_qa=('Instruction: Keep track of people\\'s knowledge defined in the story. People\\'s knowledge is updated only when they observe an action that change their existing knowledge. To answer the question following the story, choose the correct option by predicting the answer option (either x or y) after the \"Answer:\" tag.\\n\\nStory: Abhay is a young farmer in a small Indian village. He wants to water his crops with the water stored in a large clay pot. Abhay checks the water level and sees that the pot is full. Unbeknownst to him, a hole in the bottom of the pot has caused the water to leak out, leaving the pot empty. Abhay notices the hole and the water leaking out.\\n\\nQuestion: Is the pot full of water or empty?\\nx) The pot is full of water.\\ny) The pot is empty.\\nAnswer:', 'y')\n",
      "lm_patch_a=PredictedToken(token=' b', prob=0.9985098242759705, logit=24.359375, token_id=293)\n"
     ]
    },
    {
     "name": "stderr",
     "output_type": "stream",
     "text": [
      "100%|██████████| 8/8 [00:35<00:00,  4.39s/it]\n",
      "100%|██████████| 10/10 [06:30<00:00, 39.02s/it]\n"
     ]
    }
   ],
   "source": [
    "tag_options = [\n",
    "    (\"a\", \"b\"),\n",
    "    (\"x\", \"y\"), \n",
    "    (\"p\", \"q\"),\n",
    "]\n",
    "\n",
    "limit = 10\n",
    "\n",
    "all_patch_effects = []\n",
    "layer_indices = list(range(0, lm.config.num_hidden_layers, 10))\n",
    "\n",
    "for i in tqdm(range(limit)):\n",
    "    patch_tag = random.choice(tag_options)\n",
    "    other_tag = random.choice([t for t in tag_options if t != patch_tag])\n",
    "    patch_qa = dataset.__getitem__(i, tags=patch_tag)\n",
    "    other_qa = dataset.__getitem__(i, tags=other_tag)\n",
    "    print(f\"{patch_qa=}\")\n",
    "    print(f\"{other_qa=}\")\n",
    "    patch_effects = trace_causal_influence_of_states(\n",
    "        lm=lm,\n",
    "        patch_qa=patch_qa,\n",
    "        other_qa=other_qa,\n",
    "        locations=[\n",
    "            (layer_name_format.format(l), -1) \n",
    "            for l in layer_indices\n",
    "        ]\n",
    "    )\n",
    "    if patch_effects is not None:\n",
    "        all_patch_effects.append(patch_effects)"
   ]
  },
  {
   "cell_type": "code",
   "execution_count": 32,
   "metadata": {},
   "outputs": [
    {
     "data": {
      "text/plain": [
       "torch.Size([8, 10])"
      ]
     },
     "execution_count": 32,
     "metadata": {},
     "output_type": "execute_result"
    }
   ],
   "source": [
    "token_idx = -1\n",
    "scores = []\n",
    "for layer_idx in layer_indices:\n",
    "    layer_name = layer_name_format.format(layer_idx)\n",
    "    layer_scores = []\n",
    "    for patch_effects in all_patch_effects:\n",
    "        layer_scores.append(patch_effects[(layer_name, token_idx)][\"pred\"].prob)\n",
    "    scores.append(layer_scores)\n",
    "\n",
    "scores = torch.Tensor(scores)\n",
    "scores.shape"
   ]
  },
  {
   "cell_type": "code",
   "execution_count": 33,
   "metadata": {},
   "outputs": [
    {
     "data": {
      "text/plain": [
       "Text(0, 0.5, 'p(ans)')"
      ]
     },
     "execution_count": 33,
     "metadata": {},
     "output_type": "execute_result"
    },
    {
     "data": {
      "image/png": "[encoded data removed]",
      "text/plain": [
       "<Figure size 640x480 with 1 Axes>"
      ]
     },
     "metadata": {},
     "output_type": "display_data"
    }
   ],
   "source": [
    "import matplotlib.pyplot as plt\n",
    "\n",
    "scores = scores.mean(dim=1).cpu().numpy()\n",
    "plt.plot(layer_indices, scores)\n",
    "plt.xlabel(\"Layer Index\")\n",
    "plt.ylabel(\"p(ans)\")"
   ]
  },
  {
   "cell_type": "code",
   "execution_count": 38,
   "metadata": {},
   "outputs": [
    {
     "name": "stderr",
     "output_type": "stream",
     "text": [
      "  0%|          | 0/10 [00:00<?, ?it/s]"
     ]
    },
    {
     "name": "stdout",
     "output_type": "stream",
     "text": [
      "patch_qa=('Instruction: Keep track of people\\'s knowledge defined in the story. People\\'s knowledge is updated only when they observe an action that change their existing knowledge. To answer the question following the story, choose the correct option by predicting the answer option (either x or y) after the \"Answer:\" tag.\\n\\nStory: Noor is working as a barista at a busy coffee shop. Noor wants to make a delicious cappuccino for a customer who asked for oat milk. Noor grabs a milk pitcher and fills it with oat milk. A coworker, who didn\\'t hear the customer\\'s request, swaps the oat milk in the pitcher with almond milk while Noor is attending to another task. Noor sees her coworker swapping the milk.\\n\\nQuestion: Does the milk pitcher contain oat milk or almond milk?\\nx) The milk pitcher contains almond milk.\\ny) The milk pitcher contains oat milk.\\nAnswer:', 'x')\n",
      "other_qa=('Instruction: Keep track of people\\'s knowledge defined in the story. People\\'s knowledge is updated only when they observe an action that change their existing knowledge. To answer the question following the story, choose the correct option by predicting the answer option (either a or b) after the \"Answer:\" tag.\\n\\nStory: Noor is working as a barista at a busy coffee shop. Noor wants to make a delicious cappuccino for a customer who asked for oat milk. Noor grabs a milk pitcher and fills it with oat milk. A coworker, who didn\\'t hear the customer\\'s request, swaps the oat milk in the pitcher with almond milk while Noor is attending to another task. Noor sees her coworker swapping the milk.\\n\\nQuestion: Does the milk pitcher contain oat milk or almond milk?\\na) The milk pitcher contains almond milk.\\nb) The milk pitcher contains oat milk.\\nAnswer:', 'a')\n",
      "lm_patch_a=PredictedToken(token=' x', prob=0.99718177318573, logit=22.140625, token_id=865)\n"
     ]
    },
    {
     "name": "stderr",
     "output_type": "stream",
     "text": [
      "100%|██████████| 15/15 [01:02<00:00,  4.18s/it]\n",
      " 10%|█         | 1/10 [01:06<10:00, 66.69s/it]"
     ]
    },
    {
     "name": "stdout",
     "output_type": "stream",
     "text": [
      "patch_qa=('Instruction: Keep track of people\\'s knowledge defined in the story. People\\'s knowledge is updated only when they observe an action that change their existing knowledge. To answer the question following the story, choose the correct option by predicting the answer option (either x or y) after the \"Answer:\" tag.\\n\\nStory: Zara is attending an art exhibition at a local gallery in her town. Zara wants to learn more about a particular abstract painting she admires. The label next to the artwork states that the painting is the work of a famous artist, and Zara reads the label carefully. A gallery staff member, realizing there was a mix-up, changes the label with the correct information attributing the painting to an emerging artist instead. Zara reads the updated label carefully.\\n\\nQuestion: Is the painting the work of a famous artist or an emerging artist?\\nx) The painting is the work of a famous artist.\\ny) The painting is the work of an emerging artist.\\nAnswer:', 'y')\n",
      "other_qa=('Instruction: Keep track of people\\'s knowledge defined in the story. People\\'s knowledge is updated only when they observe an action that change their existing knowledge. To answer the question following the story, choose the correct option by predicting the answer option (either p or q) after the \"Answer:\" tag.\\n\\nStory: Zara is attending an art exhibition at a local gallery in her town. Zara wants to learn more about a particular abstract painting she admires. The label next to the artwork states that the painting is the work of a famous artist, and Zara reads the label carefully. A gallery staff member, realizing there was a mix-up, changes the label with the correct information attributing the painting to an emerging artist instead. Zara reads the updated label carefully.\\n\\nQuestion: Is the painting the work of a famous artist or an emerging artist?\\np) The painting is the work of an emerging artist.\\nq) The painting is the work of a famous artist.\\nAnswer:', 'p')\n",
      "lm_patch_a=PredictedToken(token=' y', prob=0.9944126009941101, logit=21.4375, token_id=379)\n"
     ]
    },
    {
     "name": "stderr",
     "output_type": "stream",
     "text": [
      "100%|██████████| 15/15 [01:08<00:00,  4.58s/it]\n",
      " 20%|██        | 2/10 [02:19<09:23, 70.40s/it]"
     ]
    },
    {
     "name": "stdout",
     "output_type": "stream",
     "text": [
      "patch_qa=('Instruction: Keep track of people\\'s knowledge defined in the story. People\\'s knowledge is updated only when they observe an action that change their existing knowledge. To answer the question following the story, choose the correct option by predicting the answer option (either a or b) after the \"Answer:\" tag.\\n\\nStory: Carlos is a farmer in a small village in Mexico, tending to his cornfield. He wants to irrigate his crops by opening a water valve connected to a nearby river. Carlos closed the valve the previous evening. During the night, heavy rainfall caused the river to overflow, opening the valve and flooding the cornfield. Carlos sees the flooded cornfield.\\n\\nQuestion: Is the water valve closed or open?\\na) The water valve is open.\\nb) The water valve is closed.\\nAnswer:', 'a')\n",
      "other_qa=('Instruction: Keep track of people\\'s knowledge defined in the story. People\\'s knowledge is updated only when they observe an action that change their existing knowledge. To answer the question following the story, choose the correct option by predicting the answer option (either x or y) after the \"Answer:\" tag.\\n\\nStory: Carlos is a farmer in a small village in Mexico, tending to his cornfield. He wants to irrigate his crops by opening a water valve connected to a nearby river. Carlos closed the valve the previous evening. During the night, heavy rainfall caused the river to overflow, opening the valve and flooding the cornfield. Carlos sees the flooded cornfield.\\n\\nQuestion: Is the water valve closed or open?\\nx) The water valve is closed.\\ny) The water valve is open.\\nAnswer:', 'y')\n",
      "lm_patch_a=PredictedToken(token=' a', prob=0.9952367544174194, logit=22.71875, token_id=264)\n"
     ]
    },
    {
     "name": "stderr",
     "output_type": "stream",
     "text": [
      "100%|██████████| 15/15 [01:07<00:00,  4.47s/it]\n",
      " 30%|███       | 3/10 [03:31<08:15, 70.84s/it]"
     ]
    },
    {
     "name": "stdout",
     "output_type": "stream",
     "text": [
      "patch_qa=('Instruction: Keep track of people\\'s knowledge defined in the story. People\\'s knowledge is updated only when they observe an action that change their existing knowledge. To answer the question following the story, choose the correct option by predicting the answer option (either p or q) after the \"Answer:\" tag.\\n\\nStory: Kofi is a fisherman from a small village in Ghana. He wants to catch enough fish today to provide for his family and sell the surplus at the market. Kofi repaired his fishing net last night. While Kofi is away from his boat, a group of monkeys comes and plays with the fishing net, tearing it apart. Kofi observes the monkeys damaging his fishing net.\\n\\nQuestion: Is Kofi\\'s fishing net in good condition or torn apart?\\np) The fishing net is in good condition.\\nq) The fishing net is torn apart.\\nAnswer:', 'q')\n",
      "other_qa=('Instruction: Keep track of people\\'s knowledge defined in the story. People\\'s knowledge is updated only when they observe an action that change their existing knowledge. To answer the question following the story, choose the correct option by predicting the answer option (either a or b) after the \"Answer:\" tag.\\n\\nStory: Kofi is a fisherman from a small village in Ghana. He wants to catch enough fish today to provide for his family and sell the surplus at the market. Kofi repaired his fishing net last night. While Kofi is away from his boat, a group of monkeys comes and plays with the fishing net, tearing it apart. Kofi observes the monkeys damaging his fishing net.\\n\\nQuestion: Is Kofi\\'s fishing net in good condition or torn apart?\\na) The fishing net is in good condition.\\nb) The fishing net is torn apart.\\nAnswer:', 'b')\n",
      "lm_patch_a=PredictedToken(token=' q', prob=0.9937612414360046, logit=23.3125, token_id=2874)\n"
     ]
    },
    {
     "name": "stderr",
     "output_type": "stream",
     "text": [
      "100%|██████████| 15/15 [01:08<00:00,  4.55s/it]\n",
      " 40%|████      | 4/10 [04:43<07:09, 71.53s/it]"
     ]
    },
    {
     "name": "stdout",
     "output_type": "stream",
     "text": [
      "patch_qa=('Instruction: Keep track of people\\'s knowledge defined in the story. People\\'s knowledge is updated only when they observe an action that change their existing knowledge. To answer the question following the story, choose the correct option by predicting the answer option (either p or q) after the \"Answer:\" tag.\\n\\nStory: Azola is a teacher at a small school in rural China. She wants to surprise her students with a new book for the school library. Azola got a notification from Amazon stating that the package containing the book was left at her doorstep. A gust of wind blows the package off her doorstep, and a neighbor replaces it with a different package containing a hand-knit scarf. Azola witnesses the package swap.\\n\\nQuestion: Does the package contain the book Azola ordered or a hand-knit scarf?\\np) The package contains the book Azola ordered.\\nq) The package contains a hand-knit scarf.\\nAnswer:', 'q')\n",
      "other_qa=('Instruction: Keep track of people\\'s knowledge defined in the story. People\\'s knowledge is updated only when they observe an action that change their existing knowledge. To answer the question following the story, choose the correct option by predicting the answer option (either x or y) after the \"Answer:\" tag.\\n\\nStory: Azola is a teacher at a small school in rural China. She wants to surprise her students with a new book for the school library. Azola got a notification from Amazon stating that the package containing the book was left at her doorstep. A gust of wind blows the package off her doorstep, and a neighbor replaces it with a different package containing a hand-knit scarf. Azola witnesses the package swap.\\n\\nQuestion: Does the package contain the book Azola ordered or a hand-knit scarf?\\nx) The package contains the book Azola ordered.\\ny) The package contains a hand-knit scarf.\\nAnswer:', 'y')\n",
      "lm_patch_a=PredictedToken(token=' q', prob=0.9936277866363525, logit=22.59375, token_id=2874)\n"
     ]
    },
    {
     "name": "stderr",
     "output_type": "stream",
     "text": [
      "100%|██████████| 15/15 [01:03<00:00,  4.25s/it]\n",
      " 50%|█████     | 5/10 [05:51<05:51, 70.21s/it]"
     ]
    },
    {
     "name": "stdout",
     "output_type": "stream",
     "text": [
      "patch_qa=('Instruction: Keep track of people\\'s knowledge defined in the story. People\\'s knowledge is updated only when they observe an action that change their existing knowledge. To answer the question following the story, choose the correct option by predicting the answer option (either x or y) after the \"Answer:\" tag.\\n\\nStory: Ravi is a farmer in a small Indian village, tending to his mango orchard. Ravi wants to harvest ripe mangoes to sell at the local market. He notices a mango tree with a heavy branch laden with ripe mangoes. A mischievous monkey comes along and eats all the ripe mangoes on the branch while Ravi is gathering his harvesting tools. Ravi sees the monkey eating the ripe mangoes.\\n\\nQuestion: Does the branch have ripe mangoes or no ripe mangoes?\\nx) The branch has no ripe mangoes.\\ny) The branch has ripe mangoes.\\nAnswer:', 'x')\n",
      "other_qa=('Instruction: Keep track of people\\'s knowledge defined in the story. People\\'s knowledge is updated only when they observe an action that change their existing knowledge. To answer the question following the story, choose the correct option by predicting the answer option (either a or b) after the \"Answer:\" tag.\\n\\nStory: Ravi is a farmer in a small Indian village, tending to his mango orchard. Ravi wants to harvest ripe mangoes to sell at the local market. He notices a mango tree with a heavy branch laden with ripe mangoes. A mischievous monkey comes along and eats all the ripe mangoes on the branch while Ravi is gathering his harvesting tools. Ravi sees the monkey eating the ripe mangoes.\\n\\nQuestion: Does the branch have ripe mangoes or no ripe mangoes?\\na) The branch has no ripe mangoes.\\nb) The branch has ripe mangoes.\\nAnswer:', 'a')\n",
      "lm_patch_a=PredictedToken(token=' x', prob=0.998116135597229, logit=22.890625, token_id=865)\n"
     ]
    },
    {
     "name": "stderr",
     "output_type": "stream",
     "text": [
      "100%|██████████| 15/15 [01:03<00:00,  4.25s/it]\n",
      " 60%|██████    | 6/10 [06:59<04:37, 69.37s/it]"
     ]
    },
    {
     "name": "stdout",
     "output_type": "stream",
     "text": [
      "patch_qa=('Instruction: Keep track of people\\'s knowledge defined in the story. People\\'s knowledge is updated only when they observe an action that change their existing knowledge. To answer the question following the story, choose the correct option by predicting the answer option (either p or q) after the \"Answer:\" tag.\\n\\nStory: Kofi is a chef at a popular Ghanaian restaurant. Kofi wants to prepare a traditional groundnut soup for the dinner menu. Kofi adds a small container of peanut butter to the soup pot on the stove. An apprentice chef, mistakenly thinking it was a seasoning paste, removes the peanut butter from the soup and replaces it with tomato paste. Kofi notices the apprentice chef swapping the ingredients.\\n\\nQuestion: Does the soup contain peanut butter or tomato paste?\\np) The soup contains peanut butter.\\nq) The soup contains tomato paste.\\nAnswer:', 'q')\n",
      "other_qa=('Instruction: Keep track of people\\'s knowledge defined in the story. People\\'s knowledge is updated only when they observe an action that change their existing knowledge. To answer the question following the story, choose the correct option by predicting the answer option (either a or b) after the \"Answer:\" tag.\\n\\nStory: Kofi is a chef at a popular Ghanaian restaurant. Kofi wants to prepare a traditional groundnut soup for the dinner menu. Kofi adds a small container of peanut butter to the soup pot on the stove. An apprentice chef, mistakenly thinking it was a seasoning paste, removes the peanut butter from the soup and replaces it with tomato paste. Kofi notices the apprentice chef swapping the ingredients.\\n\\nQuestion: Does the soup contain peanut butter or tomato paste?\\na) The soup contains peanut butter.\\nb) The soup contains tomato paste.\\nAnswer:', 'b')\n",
      "lm_patch_a=PredictedToken(token=' q', prob=0.9887500405311584, logit=22.046875, token_id=2874)\n"
     ]
    },
    {
     "name": "stderr",
     "output_type": "stream",
     "text": [
      "100%|██████████| 15/15 [01:06<00:00,  4.42s/it]\n",
      " 70%|███████   | 7/10 [08:10<03:29, 69.82s/it]"
     ]
    },
    {
     "name": "stdout",
     "output_type": "stream",
     "text": [
      "patch_qa=('Instruction: Keep track of people\\'s knowledge defined in the story. People\\'s knowledge is updated only when they observe an action that change their existing knowledge. To answer the question following the story, choose the correct option by predicting the answer option (either p or q) after the \"Answer:\" tag.\\n\\nStory: Kael is a farmer in a remote village in the Andes. Kael wants to plant a new crop of high-altitude potatoes in one of his terraced fields. The soil in the field appears rich and well-fertilized. Overnight, heavy rainfall washes away much of the fertile soil, leaving mostly rocky dirt behind. Kael notices the change in the soil after the rainfall.\\n\\nQuestion: Is the soil rich and well-fertilized or mostly rocky dirt?\\np) The soil is rich and well-fertilized.\\nq) The soil is mostly rocky dirt.\\nAnswer:', 'q')\n",
      "other_qa=('Instruction: Keep track of people\\'s knowledge defined in the story. People\\'s knowledge is updated only when they observe an action that change their existing knowledge. To answer the question following the story, choose the correct option by predicting the answer option (either x or y) after the \"Answer:\" tag.\\n\\nStory: Kael is a farmer in a remote village in the Andes. Kael wants to plant a new crop of high-altitude potatoes in one of his terraced fields. The soil in the field appears rich and well-fertilized. Overnight, heavy rainfall washes away much of the fertile soil, leaving mostly rocky dirt behind. Kael notices the change in the soil after the rainfall.\\n\\nQuestion: Is the soil rich and well-fertilized or mostly rocky dirt?\\nx) The soil is mostly rocky dirt.\\ny) The soil is rich and well-fertilized.\\nAnswer:', 'x')\n",
      "lm_patch_a=PredictedToken(token=' q', prob=0.9942283630371094, logit=23.40625, token_id=2874)\n"
     ]
    },
    {
     "name": "stderr",
     "output_type": "stream",
     "text": [
      "100%|██████████| 15/15 [01:03<00:00,  4.26s/it]\n",
      " 80%|████████  | 8/10 [09:17<02:18, 69.21s/it]"
     ]
    },
    {
     "name": "stdout",
     "output_type": "stream",
     "text": [
      "patch_qa=('Instruction: Keep track of people\\'s knowledge defined in the story. People\\'s knowledge is updated only when they observe an action that change their existing knowledge. To answer the question following the story, choose the correct option by predicting the answer option (either a or b) after the \"Answer:\" tag.\\n\\nStory: Farhan is a street food vendor in a bustling market in Istanbul. Farhan wants to prepare a delicious chicken shawarma wrap for a customer who asked for extra garlic sauce. Farhan takes a bottle of garlic sauce from the shelf and pours it onto the shawarma wrap. His assistant, who is busy preparing a different wrap, accidentally swaps the garlic sauce with a bottle of hot sauce, and Farhan unknowingly pours the hot sauce onto the shawarma wrap. Farhan notices the sauce swap.\\n\\nQuestion: Does the sauce Farhan poured contain garlic sauce or hot sauce?\\na) The sauce Farhan poured is hot sauce.\\nb) The sauce Farhan poured is garlic sauce.\\nAnswer:', 'a')\n",
      "other_qa=('Instruction: Keep track of people\\'s knowledge defined in the story. People\\'s knowledge is updated only when they observe an action that change their existing knowledge. To answer the question following the story, choose the correct option by predicting the answer option (either x or y) after the \"Answer:\" tag.\\n\\nStory: Farhan is a street food vendor in a bustling market in Istanbul. Farhan wants to prepare a delicious chicken shawarma wrap for a customer who asked for extra garlic sauce. Farhan takes a bottle of garlic sauce from the shelf and pours it onto the shawarma wrap. His assistant, who is busy preparing a different wrap, accidentally swaps the garlic sauce with a bottle of hot sauce, and Farhan unknowingly pours the hot sauce onto the shawarma wrap. Farhan notices the sauce swap.\\n\\nQuestion: Does the sauce Farhan poured contain garlic sauce or hot sauce?\\nx) The sauce Farhan poured is garlic sauce.\\ny) The sauce Farhan poured is hot sauce.\\nAnswer:', 'y')\n",
      "lm_patch_a=PredictedToken(token=' a', prob=0.9957621693611145, logit=22.671875, token_id=264)\n"
     ]
    },
    {
     "name": "stderr",
     "output_type": "stream",
     "text": [
      "100%|██████████| 15/15 [01:08<00:00,  4.58s/it]\n",
      " 90%|█████████ | 9/10 [10:30<01:10, 70.42s/it]"
     ]
    },
    {
     "name": "stdout",
     "output_type": "stream",
     "text": [
      "patch_qa=('Instruction: Keep track of people\\'s knowledge defined in the story. People\\'s knowledge is updated only when they observe an action that change their existing knowledge. To answer the question following the story, choose the correct option by predicting the answer option (either x or y) after the \"Answer:\" tag.\\n\\nStory: Abhay is a young farmer in a small Indian village. He wants to water his crops with the water stored in a large clay pot. Abhay checks the water level and sees that the pot is full. Unbeknownst to him, a hole in the bottom of the pot has caused the water to leak out, leaving the pot empty. Abhay notices the hole and the water leaking out.\\n\\nQuestion: Is the pot full of water or empty?\\nx) The pot is full of water.\\ny) The pot is empty.\\nAnswer:', 'y')\n",
      "other_qa=('Instruction: Keep track of people\\'s knowledge defined in the story. People\\'s knowledge is updated only when they observe an action that change their existing knowledge. To answer the question following the story, choose the correct option by predicting the answer option (either a or b) after the \"Answer:\" tag.\\n\\nStory: Abhay is a young farmer in a small Indian village. He wants to water his crops with the water stored in a large clay pot. Abhay checks the water level and sees that the pot is full. Unbeknownst to him, a hole in the bottom of the pot has caused the water to leak out, leaving the pot empty. Abhay notices the hole and the water leaking out.\\n\\nQuestion: Is the pot full of water or empty?\\na) The pot is empty.\\nb) The pot is full of water.\\nAnswer:', 'a')\n",
      "lm_patch_a=PredictedToken(token=' y', prob=0.9981168508529663, logit=22.96875, token_id=379)\n"
     ]
    },
    {
     "name": "stderr",
     "output_type": "stream",
     "text": [
      "100%|██████████| 15/15 [01:06<00:00,  4.45s/it]\n",
      "100%|██████████| 10/10 [11:42<00:00, 70.20s/it]\n"
     ]
    }
   ],
   "source": [
    "all_patch_effects = []\n",
    "layer_indices = list(range(50, 65, 1))\n",
    "\n",
    "for i in tqdm(range(limit)):\n",
    "    patch_tag = random.choice(tag_options)\n",
    "    other_tag = random.choice([t for t in tag_options if t != patch_tag])\n",
    "    patch_qa = dataset.__getitem__(i, tags=patch_tag)\n",
    "    other_qa = dataset.__getitem__(i, tags=other_tag)\n",
    "    print(f\"{patch_qa=}\")\n",
    "    print(f\"{other_qa=}\")\n",
    "    patch_effects = trace_causal_influence_of_states(\n",
    "        lm=lm,\n",
    "        patch_qa=patch_qa,\n",
    "        other_qa=other_qa,\n",
    "        locations=[\n",
    "            (layer_name_format.format(l), -1) \n",
    "            for l in layer_indices\n",
    "        ]\n",
    "    )\n",
    "    if patch_effects is not None:\n",
    "        all_patch_effects.append(patch_effects)"
   ]
  },
  {
   "cell_type": "code",
   "execution_count": 41,
   "metadata": {},
   "outputs": [
    {
     "data": {
      "text/plain": [
       "torch.Size([15, 10])"
      ]
     },
     "execution_count": 41,
     "metadata": {},
     "output_type": "execute_result"
    }
   ],
   "source": [
    "token_idx = -1\n",
    "scores = []\n",
    "for layer_idx in layer_indices:\n",
    "    layer_name = layer_name_format.format(layer_idx)\n",
    "    layer_scores = []\n",
    "    for patch_effects in all_patch_effects:\n",
    "        layer_scores.append(patch_effects[(layer_name, token_idx)][\"pred\"].prob)\n",
    "    scores.append(layer_scores)\n",
    "\n",
    "scores = torch.Tensor(scores)\n",
    "scores.shape"
   ]
  },
  {
   "cell_type": "code",
   "execution_count": 42,
   "metadata": {},
   "outputs": [
    {
     "data": {
      "text/plain": [
       "Text(0, 0.5, 'p(ans)')"
      ]
     },
     "execution_count": 42,
     "metadata": {},
     "output_type": "execute_result"
    },
    {
     "data": {
      "image/png": "[encoded data removed]",
      "text/plain": [
       "<Figure size 640x480 with 1 Axes>"
      ]
     },
     "metadata": {},
     "output_type": "display_data"
    }
   ],
   "source": [
    "import matplotlib.pyplot as plt\n",
    "\n",
    "scores = scores.mean(dim=1).cpu().numpy()\n",
    "plt.plot(layer_indices, scores)\n",
    "plt.xlabel(\"Layer Index\")\n",
    "plt.ylabel(\"p(ans)\")"
   ]
  },
  {
   "cell_type": "code",
   "execution_count": null,
   "metadata": {},
   "outputs": [],
   "source": []
  }
 ],
 "metadata": {
  "kernelspec": {
   "display_name": "retrieval",
   "language": "python",
   "name": "python3"
  },
  "language_info": {
   "codemirror_mode": {
    "name": "ipython",
    "version": 3
   },
   "file_extension": ".py",
   "mimetype": "text/x-python",
   "name": "python",
   "nbconvert_exporter": "python",
   "pygments_lexer": "ipython3",
   "version": "3.11.9"
  }
 },
 "nbformat": 4,
 "nbformat_minor": 2
}
