{
 "cells": [
  {
   "cell_type": "code",
   "execution_count": 1,
   "metadata": {},
   "outputs": [
    {
     "name": "stderr",
     "output_type": "stream",
     "text": [
      "/home/local_nikhil/.conda/envs/mind_old/lib/python3.10/site-packages/tqdm/auto.py:21: TqdmWarning: IProgress not found. Please update jupyter and ipywidgets. See https://ipywidgets.readthedocs.io/en/stable/user_install.html\n",
      "  from .autonotebook import tqdm as notebook_tqdm\n",
      "env.yml not found in /home/local_nikhil/Projects/mind!\n",
      "Setting MODEL_ROOT=\"\". Models will now be downloaded to conda env cache, if not already there\n",
      "Other defaults are set to:\n",
      "    DATA_DIR = \"data\"\n",
      "    RESULTS_DIR = \"results\"\n",
      "    HPARAMS_DIR = \"hparams\"\n"
     ]
    }
   ],
   "source": [
    "import sys\n",
    "import random\n",
    "import json\n",
    "import csv\n",
    "\n",
    "sys.path.append('..')\n",
    "from utils import SampleV3, DatasetV3\n",
    "\n",
    "random.seed(10)"
   ]
  },
  {
   "cell_type": "code",
   "execution_count": 2,
   "metadata": {},
   "outputs": [],
   "source": [
    "# Import csv file with first row as header\n",
    "with open('../data/new_bigtom.csv', 'r') as file:\n",
    "    reader = csv.DictReader(file)\n",
    "    data = list(reader)\n",
    "\n",
    "characters = json.load(open('/home/local_nikhil/Projects/mind/data/synthetic_entities/actor.json'))"
   ]
  },
  {
   "cell_type": "code",
   "execution_count": 3,
   "metadata": {},
   "outputs": [
    {
     "data": {
      "text/plain": [
       "{'story': '<character1> is a detective investigating a mysterious case. <character1> finds a crucial piece of evidence, a <container1> containing <state2>, at the crime scene. <character1> carefully places it in an evidence bag. Then <character1> finds another piece of evidence, a <container2> containing <state1>, and places it in a separate evidence bag. A rookie officer named <character2>, who is unaware of the importance of the evidence, accidentally swaps the contents of the <container1> with the <state1> while organizing the evidence.',\n",
       " 'true_belief': '<character1> notices the swapped evidence.',\n",
       " 'false_belief': '<character1> does not notice the swapped evidence.',\n",
       " 'belief_question': 'Does <character1> believe the <container1> contains <state1>?',\n",
       " 'worldstate_question': 'Does the <container1> contain <state1>?',\n",
       " 'characters_1': 'Detective Jane, Detective Sarah, Detective Rachel, Detective Laura, Detective Kate',\n",
       " 'characters_2': 'Officer Mike, Officer James, Officer Chris, Officer Steve, Officer Dan',\n",
       " 'containers_1': 'evidence bag, plastic container, sealed box, forensic kit, secure pouch',\n",
       " 'containers_2': 'secondary bag, backup container, additional box, extra kit, spare pouch',\n",
       " 'states_1': 'counterfeit money, fake ID, forged documents, false passport, imitation jewelry',\n",
       " 'states_2': 'real money, genuine ID, authentic documents, true passport, real jewelry'}"
      ]
     },
     "execution_count": 3,
     "metadata": {},
     "output_type": "execute_result"
    }
   ],
   "source": [
    "data[2]"
   ]
  },
  {
   "cell_type": "code",
   "execution_count": 4,
   "metadata": {},
   "outputs": [],
   "source": [
    "character_1, character_2 = random.choices(characters, k=2)\n",
    "\n",
    "story = data[0]['story']\n",
    "story += ' ' + data[0]['false_belief']\n",
    "story += '\\nQuestion: ' + data[0]['worldstate_question']\n",
    "story = story.replace('<character1>', character_1)\n",
    "story = story.replace('<character2>', character_2)\n",
    "story = story.replace('<state2>', random.choice(data[0]['states_2'].split(', ')))\n",
    "story = story.replace('<state1>', random.choice(data[0]['states_1'].split(', ')))\n",
    "story = story.replace('<container1>', random.choice(data[0]['containers_1'].split(', ')))\n",
    "story = story.replace('<container2>', random.choice(data[0]['containers_2'].split(', ')))"
   ]
  },
  {
   "cell_type": "code",
   "execution_count": 5,
   "metadata": {},
   "outputs": [
    {
     "name": "stdout",
     "output_type": "stream",
     "text": [
      "Zoe is a botanist conducting research in a dense rainforest. Zoe wants to collect samples of a extraordinary shrub plant for her study. Zoe places the samples in a collection bag and labels it with extraordinary shrub. Then Zoe collects samples of a common fern plant and places them in a sample pouch. A fellow researcher named Kim, who believes the labels were mixed up, swaps the labels on the collection bag and sample pouch while Zoe is documenting her findings. Zoe does not notice the swapped labels.\n",
      "Question: Does the collection bag contain common fern?\n"
     ]
    }
   ],
   "source": [
    "print(story)"
   ]
  },
  {
   "cell_type": "code",
   "execution_count": 14,
   "metadata": {},
   "outputs": [],
   "source": [
    "n_samples = 99\n",
    "configs, samples = [], []\n",
    "\n",
    "for idx in range(n_samples):\n",
    "    protagonist, perpetrator = random.choices(characters, k=2)\n",
    "    states = [random.choice(data[idx]['states_1'].split(', ')), random.choice(data[idx]['states_2'].split(', '))]\n",
    "    containers = [random.choice(data[idx]['containers_1'].split(', ')), random.choice(data[idx]['containers_2'].split(', '))]\n",
    "    obsr_event = data[idx]['false_belief']\n",
    "    event_noticed = False\n",
    "\n",
    "    config = SampleV3(\n",
    "        story=data[idx]['story'],\n",
    "        protagonist=protagonist,\n",
    "        perpetrator=perpetrator,\n",
    "        states=states,\n",
    "        containers=containers,\n",
    "        obsr_event=obsr_event,\n",
    "        event_noticed=event_noticed\n",
    "    )\n",
    "    configs.append(config)\n",
    "\n",
    "dataset = DatasetV3(configs)\n",
    "\n",
    "for idx in range(n_samples):\n",
    "    prompt, target = dataset.__getitem__(idx, question_type='true_state')\n",
    "    samples.append({\n",
    "        'prompt': prompt,\n",
    "        'target': target\n",
    "    })"
   ]
  },
  {
   "cell_type": "code",
   "execution_count": null,
   "metadata": {},
   "outputs": [],
   "source": []
  }
 ],
 "metadata": {
  "kernelspec": {
   "display_name": "mind_old",
   "language": "python",
   "name": "python3"
  },
  "language_info": {
   "codemirror_mode": {
    "name": "ipython",
    "version": 3
   },
   "file_extension": ".py",
   "mimetype": "text/x-python",
   "name": "python",
   "nbconvert_exporter": "python",
   "pygments_lexer": "ipython3",
   "version": "3.10.14"
  }
 },
 "nbformat": 4,
 "nbformat_minor": 2
}
