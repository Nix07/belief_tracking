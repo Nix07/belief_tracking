{
 "cells": [
  {
   "cell_type": "code",
   "execution_count": 1,
   "metadata": {},
   "outputs": [],
   "source": [
    "import os\n",
    "import random\n",
    "import csv\n",
    "import torch\n",
    "from datasets import Dataset\n",
    "from torch.utils.data import DataLoader\n",
    "from tqdm import tqdm\n",
    "from nnsight import LanguageModel\n",
    "import matplotlib.pyplot as plt\n",
    "import seaborn as sns\n",
    "from collections import defaultdict\n",
    "from einops import einsum, rearrange, reduce\n",
    "\n",
    "from utils import get_both_stories, get_control_corrupt_data, get_altered_option_letters_data, get_data_pp\n",
    "\n",
    "random.seed(10)\n",
    "\n",
    "%load_ext autoreload\n",
    "%autoreload 2"
   ]
  },
  {
   "cell_type": "markdown",
   "metadata": {},
   "source": [
    "# Loading model"
   ]
  },
  {
   "cell_type": "code",
   "execution_count": 2,
   "metadata": {},
   "outputs": [
    {
     "name": "stderr",
     "output_type": "stream",
     "text": [
      "Special tokens have been added in the vocabulary, make sure the associated word embeddings are fine-tuned or trained.\n",
      "The `load_in_4bit` and `load_in_8bit` arguments are deprecated and will be removed in the future versions. Please, pass a `BitsAndBytesConfig` object in `quantization_config` argument instead.\n"
     ]
    },
    {
     "data": {
      "application/vnd.jupyter.widget-view+json": {
       "model_id": "ba0458cbb7304da185285b7ef79e481d",
       "version_major": 2,
       "version_minor": 0
      },
      "text/plain": [
       "Loading checkpoint shards:   0%|          | 0/30 [00:00<?, ?it/s]"
      ]
     },
     "metadata": {},
     "output_type": "display_data"
    }
   ],
   "source": [
    "if os.environ.get(\"USER\") == 'nikhil_prakash':\n",
    "    model = LanguageModel(\n",
    "        \"/data/public_models/huggingface/meta-llama/Meta-Llama-3-70B-Instruct\",\n",
    "        device_map=\"auto\",\n",
    "        load_in_4bit=True,\n",
    "        torch_dtype=torch.float16,\n",
    "        dispatch=True,\n",
    "    )\n",
    "else:\n",
    "    model = LanguageModel(\n",
    "        \"meta-llama/Meta-Llama-3-70B-Instruct\",\n",
    "        device_map=\"auto\",\n",
    "        load_in_4bit=True,\n",
    "        torch_dtype=torch.float16,\n",
    "        dispatch=True,\n",
    "    )"
   ]
  },
  {
   "cell_type": "markdown",
   "metadata": {
    "jp-MarkdownHeadingCollapsed": true
   },
   "source": [
    "# Loading data"
   ]
  },
  {
   "cell_type": "code",
   "execution_count": 3,
   "metadata": {},
   "outputs": [],
   "source": [
    "variable = \"0_forward_belief\"\n",
    "\n",
    "with open(f\"data/bigtom/{variable}_true_belief/stories.csv\", \"r\") as f:\n",
    "    reader = csv.reader(f, delimiter=\";\")\n",
    "    tb_data = list(reader)\n",
    "\n",
    "with open(f\"data/bigtom/{variable}_false_belief/stories.csv\", \"r\") as f:\n",
    "    reader = csv.reader(f, delimiter=\";\")\n",
    "    fb_data = list(reader)\n",
    "\n",
    "with open(f\"data/bigtom/{variable}_true_control/stories.csv\", \"r\") as f:\n",
    "    reader = csv.reader(f, delimiter=\";\")\n",
    "    tb_control = list(reader)\n",
    "\n",
    "with open(f\"data/bigtom/{variable}_false_control/stories.csv\", \"r\") as f:\n",
    "    reader = csv.reader(f, delimiter=\";\")\n",
    "    fb_control = list(reader)"
   ]
  },
  {
   "cell_type": "markdown",
   "metadata": {},
   "source": [
    "# Circuit Discovery"
   ]
  },
  {
   "cell_type": "code",
   "execution_count": 178,
   "metadata": {},
   "outputs": [],
   "source": [
    "# n_samples = 20\n",
    "# batch_size = 1\n",
    "# samples = get_control_corrupt_data(tb_data, tb_control, n_samples)\n",
    "\n",
    "# dataset = Dataset.from_list(samples)\n",
    "# dataloader = DataLoader(dataset, batch_size=batch_size, shuffle=False)"
   ]
  },
  {
   "cell_type": "code",
   "execution_count": 17,
   "metadata": {},
   "outputs": [],
   "source": [
    "n_samples = 20\n",
    "batch_size = 1\n",
    "samples = get_altered_option_letters_data(tb_data[:n_samples//2] + fb_data[:n_samples//2], n_samples)\n",
    "\n",
    "dataset = Dataset.from_list(samples)\n",
    "dataloader = DataLoader(dataset, batch_size=batch_size, shuffle=False)"
   ]
  },
  {
   "cell_type": "code",
   "execution_count": 15,
   "metadata": {},
   "outputs": [
    {
     "name": "stdout",
     "output_type": "stream",
     "text": [
      "Instructions: Keep track of people's knowledge defined in the story. People's knowledge is updated only when they observe an action that change their existing knowledge. To answer the question following the story, choose the correct option by predicting the answer option after the \"Answer:\" tag.\n",
      "\n",
      "Story: Noor is working as a barista at a busy coffee shop. Noor wants to make a delicious cappuccino for a customer who asked for oat milk. Noor grabs a milk pitcher and fills it with oat milk. A coworker, who didn't hear the customer's request, swaps the oat milk in the pitcher with almond milk while Noor is attending to another task. Noor sees her coworker swapping the milk.\n",
      "Question: Does Noor believe the milk pitcher contains oat milk or almond milk?\n",
      "Choose one of the following:\n",
      "a)Noor believes the milk pitcher contains oat milk.\n",
      "b)Noor believes the milk pitcher contains almond milk.\n",
      "Answer:  b\n"
     ]
    }
   ],
   "source": [
    "print(samples[0]['clean_prompt'], samples[0]['clean_target'])"
   ]
  },
  {
   "cell_type": "code",
   "execution_count": 16,
   "metadata": {},
   "outputs": [
    {
     "name": "stdout",
     "output_type": "stream",
     "text": [
      "Instructions: Keep track of people's knowledge defined in the story. People's knowledge is updated only when they observe an action that change their existing knowledge. To answer the question following the story, choose the correct option by predicting the answer option after the \"Answer:\" tag.\n",
      "\n",
      "Story: Noor is working as a barista at a busy coffee shop. Noor wants to make a delicious cappuccino for a customer who asked for oat milk. Noor grabs a milk pitcher and fills it with oat milk. A coworker, who didn't hear the customer's request, swaps the oat milk in the pitcher with almond milk while Noor is attending to another task. Noor sees her coworker swapping the milk.\n",
      "Question: Does Noor believe the milk pitcher contains oat milk or almond milk?\n",
      "Choose one of the following:\n",
      "x)Noor believes the milk pitcher contains oat milk.\n",
      "y)Noor believes the milk pitcher contains almond milk.\n",
      "Answer:  y\n"
     ]
    }
   ],
   "source": [
    "print(samples[0]['corrupt_prompt'], samples[0]['corrupt_target'])"
   ]
  },
  {
   "cell_type": "code",
   "execution_count": 74,
   "metadata": {},
   "outputs": [],
   "source": [
    "def metric_fn(model, clean_target, corrupt_target):\n",
    "    clean_target_token_idx = model.tokenizer(clean_target, return_tensors=\"pt\", padding=False)[\"input_ids\"][:, -1]\n",
    "    corrupt_target_token_idx = model.tokenizer(corrupt_target, return_tensors=\"pt\", padding=False)[\"input_ids\"][:, -1]\n",
    "\n",
    "    logit_diff = torch.gather(\n",
    "        model.lm_head.output[:, -1], dim=-1, index=corrupt_target_token_idx.view(-1, 1)\n",
    "    ) - torch.gather(\n",
    "        model.lm_head.output[:, -1], dim=-1, index=clean_target_token_idx.view(-1, 1)\n",
    "    )\n",
    "    logit_diff = logit_diff.squeeze(-1)\n",
    "    return logit_diff"
   ]
  },
  {
   "cell_type": "markdown",
   "metadata": {},
   "source": [
    "## Component Patching"
   ]
  },
  {
   "cell_type": "code",
   "execution_count": 19,
   "metadata": {},
   "outputs": [
    {
     "name": "stderr",
     "output_type": "stream",
     "text": [
      "100%|██████████| 20/20 [02:27<00:00,  7.36s/it]\n"
     ]
    }
   ],
   "source": [
    "n_layers = model.config.num_hidden_layers\n",
    "attribution_score = torch.zeros(len(dataloader), n_layers, model.config.num_attention_heads).cpu()\n",
    "\n",
    "for batch_idx, batch in tqdm(enumerate(dataloader), total=len(dataloader)):\n",
    "    clean_prompt = batch[\"clean_prompt\"]\n",
    "    corrupt_prompt = batch[\"corrupt_prompt\"]\n",
    "    clean_target = batch[\"clean_target\"]\n",
    "    corrupt_target = batch[\"corrupt_target\"]\n",
    "\n",
    "#     corrupt_target = []\n",
    "#     for i in range(len(clean_target)):\n",
    "#         if clean_target[i] == \" a\":\n",
    "#             corrupt_target.append(\" b\")\n",
    "#         else:\n",
    "#             corrupt_target.append(\" a\")\n",
    "\n",
    "    upstream_act_clean, upstream_act_corrupt, grads_downstream = {}, {}, {}\n",
    "    with model.trace(clean_prompt, scan=False, validate=False):\n",
    "        for layer_idx in range(n_layers):\n",
    "            head_out = model.model.layers[layer_idx].self_attn.o_proj.input[0][0]\n",
    "            upstream_act_clean[layer_idx] = head_out.cpu().save()\n",
    "            grads_downstream[layer_idx] = head_out.grad.cpu().save()\n",
    "\n",
    "        metric_clean = metric_fn(model, clean_target, corrupt_target)\n",
    "        metric_clean.sum().backward()\n",
    "\n",
    "    upstream_act_clean = {k: v.value.cpu() for k, v in upstream_act_clean.items()}\n",
    "    grads_downstream = {k: v.value.cpu() for k, v in grads_downstream.items()}\n",
    "    \n",
    "    model.zero_grad(set_to_none=True)\n",
    "    torch.cuda.empty_cache()\n",
    "    \n",
    "    with torch.no_grad():\n",
    "        with model.trace(corrupt_prompt, scan=False, validate=False), torch.inference_mode():\n",
    "            for layer_idx in range(n_layers):\n",
    "                head_out = model.model.layers[layer_idx].self_attn.o_proj.input[0][0]\n",
    "                upstream_act_corrupt[layer_idx] = head_out.cpu().save()\n",
    "\n",
    "            metric_corrupt = metric_fn(model, clean_target, corrupt_target)\n",
    "\n",
    "    upstream_act_corrupt = {k: v.value.cpu() for k, v in upstream_act_corrupt.items()}\n",
    "    \n",
    "    torch.cuda.empty_cache()\n",
    "\n",
    "    d_head = model.config.hidden_size // model.config.num_attention_heads\n",
    "    with torch.no_grad(), torch.inference_mode():\n",
    "        for layer_idx in range(n_layers):\n",
    "            clean_state, corrupt_state, grad = upstream_act_clean[layer_idx], upstream_act_corrupt[layer_idx], grads_downstream[layer_idx]\n",
    "            clean_state, corrupt_state, grad = clean_state[:, -1], corrupt_state[:, -1], grad[:, -1]\n",
    "            delta = (corrupt_state - clean_state).detach()\n",
    "            score = delta * grad\n",
    "\n",
    "            # Averaging over all batch items and analysing components only at last token position\n",
    "            score = score.mean(dim=0)\n",
    "            score = rearrange(score, \"(n_heads d_head) -> n_heads d_head\", n_heads=model.config.num_attention_heads)\n",
    "            score = reduce(score, \"n_heads d_head -> n_heads\", \"sum\")\n",
    "            attribution_score[batch_idx][layer_idx] = score\n",
    "\n",
    "        del upstream_act_clean[layer_idx], upstream_act_corrupt[layer_idx], grads_downstream[layer_idx], clean_state, corrupt_state, grad, score\n",
    "        torch.cuda.empty_cache()\n",
    "\n",
    "# torch.save(attribution_score, \"option_heads_attribution_score.pt\")"
   ]
  },
  {
   "cell_type": "code",
   "execution_count": 20,
   "metadata": {},
   "outputs": [
    {
     "data": {
      "image/png": "[encoded data removed]",
      "text/plain": [
       "<Figure size 800x800 with 2 Axes>"
      ]
     },
     "metadata": {},
     "output_type": "display_data"
    }
   ],
   "source": [
    "head_effects = attribution_score.mean(dim=0)\n",
    "\n",
    "# Visualize the effects list using a heatmap\n",
    "plt.figure(figsize=(8, 8))\n",
    "sns.heatmap(head_effects.flip(0), cmap=\"coolwarm\", center=0, cbar=True)\n",
    "plt.xlabel(\"Head Index\")\n",
    "plt.ylabel(\"Layer Index\")\n",
    "plt.title(\"Effect of Attention Heads on the Metric\")\n",
    "plt.yticks(ticks=list(range(4, model.config.num_hidden_layers, 4)), labels=list(range(4, model.config.num_hidden_layers, 4))[::-1])\n",
    "plt.show()"
   ]
  },
  {
   "cell_type": "code",
   "execution_count": 21,
   "metadata": {},
   "outputs": [
    {
     "name": "stdout",
     "output_type": "stream",
     "text": [
      "Layer 72, Head 34\n",
      "Layer 64, Head 28\n",
      "Layer 77, Head 47\n",
      "Layer 77, Head 44\n",
      "Layer 68, Head 52\n",
      "Layer 68, Head 54\n",
      "Layer 78, Head 16\n",
      "Layer 71, Head 2\n",
      "Layer 52, Head 55\n",
      "Layer 53, Head 0\n"
     ]
    }
   ],
   "source": [
    "k = 10\n",
    "topk_heads = head_effects.view(-1).topk(k, largest=True).indices\n",
    "top_story_heads = [((idx // model.config.num_attention_heads).item(), (idx % model.config.num_attention_heads).item()) for idx in topk_heads]\n",
    "for l, h in top_story_heads:\n",
    "    print(f\"Layer {l}, Head {h}\")"
   ]
  },
  {
   "cell_type": "code",
   "execution_count": null,
   "metadata": {},
   "outputs": [],
   "source": []
  },
  {
   "cell_type": "code",
   "execution_count": null,
   "metadata": {},
   "outputs": [],
   "source": []
  },
  {
   "cell_type": "code",
   "execution_count": 193,
   "metadata": {},
   "outputs": [
    {
     "data": {
      "image/png": "[encoded data removed]",
      "text/plain": [
       "<Figure size 800x500 with 2 Axes>"
      ]
     },
     "metadata": {},
     "output_type": "display_data"
    }
   ],
   "source": [
    "attribution_score = torch.load(\"story_heads_attribution_score.pt\")\n",
    "story_head_effects = attribution_score.mean(dim=0)\n",
    "\n",
    "# Visualize the effects list using a heatmap\n",
    "plt.figure(figsize=(8, 5))\n",
    "sns.heatmap(story_head_effects.flip(0), cmap=\"coolwarm\", center=0, cbar=True)\n",
    "plt.xlabel(\"Head Index\")\n",
    "plt.ylabel(\"Layer Index\")\n",
    "plt.title(\"Effect of Attention Heads on the Metric\")\n",
    "plt.yticks(ticks=list(range(2, n_layers, 2)), labels=list(range(2, n_layers, 2))[::-1])\n",
    "plt.show()"
   ]
  },
  {
   "cell_type": "code",
   "execution_count": 198,
   "metadata": {},
   "outputs": [
    {
     "name": "stdout",
     "output_type": "stream",
     "text": [
      "Layer 14, Head 21\n",
      "Layer 1, Head 27\n",
      "Layer 1, Head 29\n",
      "Layer 10, Head 55\n",
      "Layer 1, Head 61\n",
      "Layer 1, Head 42\n",
      "Layer 18, Head 45\n",
      "Layer 4, Head 48\n",
      "Layer 19, Head 38\n",
      "Layer 10, Head 29\n",
      "Layer 14, Head 45\n",
      "Layer 12, Head 24\n",
      "Layer 1, Head 36\n",
      "Layer 12, Head 9\n",
      "Layer 11, Head 60\n",
      "Layer 16, Head 46\n",
      "Layer 11, Head 6\n",
      "Layer 18, Head 63\n",
      "Layer 17, Head 13\n",
      "Layer 19, Head 4\n",
      "Layer 1, Head 56\n",
      "Layer 19, Head 5\n",
      "Layer 16, Head 1\n",
      "Layer 1, Head 45\n",
      "Layer 10, Head 12\n",
      "Layer 18, Head 43\n",
      "Layer 1, Head 19\n",
      "Layer 3, Head 7\n",
      "Layer 17, Head 9\n",
      "Layer 17, Head 48\n"
     ]
    }
   ],
   "source": [
    "k = 30\n",
    "topk_heads = story_head_effects.view(-1).topk(k, largest=True).indices\n",
    "top_story_heads = [((idx // model.config.num_attention_heads).item(), (idx % model.config.num_attention_heads).item()) for idx in topk_heads]\n",
    "for l, h in top_story_heads:\n",
    "    print(f\"Layer {l}, Head {h}\")"
   ]
  },
  {
   "cell_type": "code",
   "execution_count": null,
   "metadata": {},
   "outputs": [],
   "source": []
  },
  {
   "cell_type": "code",
   "execution_count": 22,
   "metadata": {},
   "outputs": [
    {
     "data": {
      "image/png": "[encoded data removed]",
      "text/plain": [
       "<Figure size 800x800 with 2 Axes>"
      ]
     },
     "metadata": {},
     "output_type": "display_data"
    }
   ],
   "source": [
    "attribution_score = torch.load(\"option_heads_attribution_score.pt\")\n",
    "option_head_effects = attribution_score.mean(dim=0)\n",
    "\n",
    "# Visualize the effects list using a heatmap\n",
    "plt.figure(figsize=(8, 8))\n",
    "sns.heatmap(option_head_effects.flip(0), cmap=\"coolwarm\", center=0, cbar=True)\n",
    "plt.xlabel(\"Head Index\")\n",
    "plt.ylabel(\"Layer Index\")\n",
    "plt.title(\"Effect of Attention Heads on the Metric\")\n",
    "plt.yticks(ticks=list(range(4, model.config.num_hidden_layers, 4)), labels=list(range(4, model.config.num_hidden_layers, 4))[::-1])\n",
    "plt.show()"
   ]
  },
  {
   "cell_type": "code",
   "execution_count": 23,
   "metadata": {
    "scrolled": true
   },
   "outputs": [
    {
     "name": "stdout",
     "output_type": "stream",
     "text": [
      "Layer 39, Head 40\n",
      "Layer 77, Head 47\n",
      "Layer 77, Head 44\n",
      "Layer 55, Head 20\n",
      "Layer 35, Head 19\n",
      "Layer 78, Head 16\n",
      "Layer 39, Head 45\n",
      "Layer 35, Head 17\n",
      "Layer 39, Head 42\n",
      "Layer 64, Head 26\n",
      "Layer 74, Head 40\n",
      "Layer 77, Head 42\n",
      "Layer 79, Head 32\n",
      "Layer 77, Head 46\n",
      "Layer 55, Head 17\n"
     ]
    }
   ],
   "source": [
    "k = 15\n",
    "topk_heads = option_head_effects.view(-1).topk(k, largest=True).indices\n",
    "top_option_heads = [((idx // model.config.num_attention_heads).item(), (idx % model.config.num_attention_heads).item()) for idx in topk_heads]\n",
    "for l, h in top_option_heads:\n",
    "    print(f\"Layer {l}, Head {h}\")"
   ]
  },
  {
   "cell_type": "code",
   "execution_count": 11,
   "metadata": {},
   "outputs": [
    {
     "name": "stdout",
     "output_type": "stream",
     "text": [
      "#Heads in circuit: 10\n"
     ]
    }
   ],
   "source": [
    "circuit_heads = top_option_heads\n",
    "print(f\"#Heads in circuit: {len(circuit_heads)}\")"
   ]
  },
  {
   "cell_type": "markdown",
   "metadata": {},
   "source": [
    "## Faithfulness"
   ]
  },
  {
   "cell_type": "code",
   "execution_count": 43,
   "metadata": {},
   "outputs": [],
   "source": [
    "n_samples = 40\n",
    "batch_size = 1\n",
    "clean_samples = []\n",
    "method_name = \"0shot\"\n",
    "\n",
    "with open(f\"prompt_instructions/{method_name}.txt\", \"r\") as f:\n",
    "    instructions = f.read()\n",
    "\n",
    "for example in tb_data[: n_samples//2] + fb_data[: n_samples//2]:\n",
    "    story, clean_question_raw, correct_answer, wrong_answer = example\n",
    "    answers = [correct_answer, wrong_answer]\n",
    "    random.shuffle(answers)\n",
    "\n",
    "    clean_question = f\"{clean_question_raw}\\nChoose one of the following:\\na) {answers[0]}\\nb) {answers[1]}\"\n",
    "    corrupt_question = f\"{clean_question_raw}\\nChoose one of the following:\\na) {answers[1]}\\nb) {answers[0]}\"\n",
    "\n",
    "    clean_prompt = f\"Instructions: {instructions}\\nStory: {story}\\nQuestion: {clean_question}\\nAnswer:\"\n",
    "    corrupt_prompt = f\"Instructions: {instructions}\\nStory: {story}\\nQuestion: {corrupt_question}\\nAnswer:\"\n",
    "\n",
    "    if answers[0] == correct_answer:\n",
    "        clean_target = \" a\"\n",
    "        corrupt_target = \" b\"\n",
    "    else:\n",
    "        clean_target = \" b\"\n",
    "        corrupt_target = \" a\"\n",
    "\n",
    "    clean_samples.append({\"clean_prompt\": clean_prompt, \"clean_target\": clean_target, \"corrupt_prompt\": corrupt_prompt, \"corrupt_target\": corrupt_target})\n",
    "\n",
    "# Create dataloader using clean_samples\n",
    "dataset = Dataset.from_list(clean_samples)\n",
    "dataloader = DataLoader(dataset, batch_size=batch_size, shuffle=False)"
   ]
  },
  {
   "cell_type": "code",
   "execution_count": 44,
   "metadata": {},
   "outputs": [
    {
     "name": "stderr",
     "output_type": "stream",
     "text": [
      "100%|██████████| 40/40 [01:59<00:00,  2.99s/it]\n"
     ]
    }
   ],
   "source": [
    "d_head = model.config.hidden_size // model.config.num_attention_heads\n",
    "mean_act = torch.zeros(model.config.num_hidden_layers, model.config.num_attention_heads, d_head)\n",
    "\n",
    "with torch.no_grad():\n",
    "    for batch in tqdm(dataloader):\n",
    "        clean_prompt = batch[\"clean_prompt\"]\n",
    "        with model.trace(clean_prompt, scan=False, validate=False):\n",
    "            for layer_idx in range(model.config.num_hidden_layers):\n",
    "                head_out = model.model.layers[layer_idx].self_attn.o_proj.input[0][0]\n",
    "                head_out = rearrange(head_out, \n",
    "                                     \"batch seqlen (n_heads d_head) -> batch seqlen n_heads d_head\", \n",
    "                                     n_heads=model.config.num_attention_heads)\n",
    "                head_out = head_out.sum(dim=0)[-1]\n",
    "                mean_act[layer_idx] += head_out.save()\n",
    "\n",
    "    for layer_idx in range(model.config.num_hidden_layers):\n",
    "        for head_idx in range(model.config.num_attention_heads):\n",
    "            mean_act[layer_idx][head_idx] = mean_act[layer_idx][head_idx] / len(dataloader.dataset)"
   ]
  },
  {
   "cell_type": "code",
   "execution_count": 45,
   "metadata": {},
   "outputs": [
    {
     "data": {
      "text/plain": [
       "torch.Size([80, 64, 128])"
      ]
     },
     "execution_count": 45,
     "metadata": {},
     "output_type": "execute_result"
    }
   ],
   "source": [
    "mean_act.shape"
   ]
  },
  {
   "cell_type": "code",
   "execution_count": 57,
   "metadata": {
    "scrolled": true
   },
   "outputs": [
    {
     "name": "stderr",
     "output_type": "stream",
     "text": [
      "100%|██████████| 20/20 [01:04<00:00,  3.21s/it]"
     ]
    },
    {
     "name": "stdout",
     "output_type": "stream",
     "text": [
      "Acc: 0.55\n"
     ]
    },
    {
     "name": "stderr",
     "output_type": "stream",
     "text": [
      "\n"
     ]
    }
   ],
   "source": [
    "accs = {}\n",
    "\n",
    "with torch.no_grad():\n",
    "    correct, total = 0, 0\n",
    "    for batch in tqdm(dataloader):\n",
    "        prompt = batch[\"clean_prompt\"]\n",
    "        target = batch[\"clean_target\"]\n",
    "\n",
    "        with model.trace(prompt, scan=False, validate=False):\n",
    "            for layer_idx in range(model.config.num_hidden_layers):\n",
    "                head_out = model.model.layers[layer_idx].self_attn.o_proj.input[0][0]\n",
    "                head_out = rearrange(head_out, \"batch seqlen (n_heads d_head) -> batch seqlen n_heads d_head\", \n",
    "                                     n_heads=model.config.num_attention_heads)\n",
    "\n",
    "                for head_idx in range(model.config.num_attention_heads):\n",
    "                    if (layer_idx, head_idx) not in topk_heads: \n",
    "                        head_out[:, -1, head_idx] = mean_act[layer_idx, head_idx]\n",
    "\n",
    "                head_out = rearrange(head_out, \"batch seqlen n_heads d_head -> batch seqlen (n_heads d_head)\", \n",
    "                                     n_heads=model.config.num_attention_heads)\n",
    "\n",
    "                model.model.layers[layer_idx].self_attn.o_proj.output = model.model.layers[layer_idx].self_attn.o_proj(\n",
    "                                                                            head_out\n",
    "                                                                        )\n",
    "\n",
    "            preds = model.lm_head.output[:, -1].argmax(dim=-1).save()\n",
    "\n",
    "        for i in range(len(target)):\n",
    "            if model.tokenizer.decode(preds[i].item()).strip() == target[i].strip():\n",
    "                correct += 1\n",
    "            total += 1\n",
    "\n",
    "    acc = round(correct/total, 2)\n",
    "    print(f\"Acc: {acc}\")\n",
    "#     accs[(l, h)] = acc"
   ]
  },
  {
   "cell_type": "code",
   "execution_count": 15,
   "metadata": {},
   "outputs": [
    {
     "data": {
      "text/plain": [
       "{(39, 40): 0.9,\n",
       " (77, 47): 0.45,\n",
       " (77, 44): 0.45,\n",
       " (55, 20): 0.45,\n",
       " (35, 19): 0.9,\n",
       " (78, 16): 0.45,\n",
       " (39, 45): 0.93,\n",
       " (35, 17): 0.85,\n",
       " (39, 42): 0.85,\n",
       " (64, 26): 0.45}"
      ]
     },
     "execution_count": 15,
     "metadata": {},
     "output_type": "execute_result"
    }
   ],
   "source": [
    "accs"
   ]
  },
  {
   "cell_type": "markdown",
   "metadata": {},
   "source": [
    "## Path Patching"
   ]
  },
  {
   "cell_type": "code",
   "execution_count": 95,
   "metadata": {},
   "outputs": [],
   "source": [
    "n_samples = 5\n",
    "batch_size = 1\n",
    "samples = get_data_pp(tb_data+fb_data, n_samples=n_samples)\n",
    "\n",
    "dataset = Dataset.from_list(samples)\n",
    "dataloader = DataLoader(dataset, batch_size=batch_size, shuffle=False)"
   ]
  },
  {
   "cell_type": "code",
   "execution_count": 80,
   "metadata": {},
   "outputs": [
    {
     "name": "stdout",
     "output_type": "stream",
     "text": [
      "Instructions: Keep track of people's knowledge defined in the story. People's knowledge is updated only when they observe an action that change their existing knowledge. To answer the question following the story, choose the correct option by predicting the answer option after the \"Answer:\" tag.\n",
      "\n",
      "Story: Aria is a talented baker from Italy who has been asked to bake a cake for a friend's birthday party. She wants to create a delicious, multi-layered cake that will impress everyone. Aria has a fresh batch of ingredients ready to use for the cake. However, a mischievous cat sneaks into her kitchen and nibbles on some of the ingredients, making them no longer fresh. Aria sees the cat and the nibbled ingredients.\n",
      "Question: Does Aria believe her ingredients are fresh and suitable or nibbled on and no longer fresh?\n",
      "Choose one of the following:\n",
      "a)Aria believes her ingredients are fresh and suitable for baking the cake.\n",
      "b)Aria believes the ingredients are nibbled on and no longer fresh.\n",
      "Answer:  b\n"
     ]
    }
   ],
   "source": [
    "print(samples[0]['clean_prompt'], samples[0]['clean_target'])"
   ]
  },
  {
   "cell_type": "code",
   "execution_count": 81,
   "metadata": {},
   "outputs": [
    {
     "name": "stdout",
     "output_type": "stream",
     "text": [
      "Instructions: Keep track of people's knowledge defined in the story. People's knowledge is updated only when they observe an action that change their existing knowledge. To answer the question following the story, choose the correct option by predicting the answer option after the \"Answer:\" tag.\n",
      "\n",
      "Story: Dalia is a professional photographer, setting up her equipment for a wedding photoshoot. She wants to capture stunning photos with her high-quality camera. Dalia sees that the camera lens appears clean and free of smudges. While Dalia is away, a mischievous child plays with the camera, leaving fingerprints all over the lens. Dalia notices the fingerprints on the camera lens.\n",
      "Question: Does Dalia believe the camera lens is clean and free of smudges or covered in fingerprints?\n",
      "Choose one of the following:\n",
      "x)Dalia believes the camera lens is clean and free of smudges.\n",
      "y)Dalia believes the camera lens is covered in fingerprints.\n",
      "Answer:  y\n"
     ]
    }
   ],
   "source": [
    "print(samples[0]['corrupt_prompt'], samples[0]['corrupt_target'])"
   ]
  },
  {
   "cell_type": "code",
   "execution_count": 79,
   "metadata": {},
   "outputs": [
    {
     "name": "stderr",
     "output_type": "stream",
     "text": [
      "100%|██████████| 20/20 [28:53<00:00, 86.68s/it]\n"
     ]
    }
   ],
   "source": [
    "downstream_nodes = [model.lm_head]\n",
    "upstream_nodes = [model.model.layers[l].self_attn.o_proj for l in range(model.config.num_hidden_layers)]\n",
    "attribution_score = torch.zeros(\n",
    "    len(dataloader), model.config.num_hidden_layers, model.config.num_attention_heads\n",
    ").cpu()\n",
    "\n",
    "for batch_idx, batch in tqdm(enumerate(dataloader), total=len(dataloader)):\n",
    "    clean_prompt = batch[\"clean_prompt\"]\n",
    "    corrupt_prompt = batch[\"corrupt_prompt\"]\n",
    "    clean_target = batch[\"clean_target\"]\n",
    "    corrupt_target = batch[\"corrupt_target\"]\n",
    "\n",
    "    # Computing the upstream activations and downstream gradients on clean prompt\n",
    "    upstream_act_clean, downstream_grads = {}, {}\n",
    "    with model.trace(clean_prompt, scan=False, validate=False):\n",
    "        for node in upstream_nodes:\n",
    "            node_name = node._module_path[1:]\n",
    "            head_out = node.input[0][0]\n",
    "            upstream_act_clean[node_name] = head_out.cpu().save()\n",
    "\n",
    "        for node in downstream_nodes:\n",
    "            node_name = node._module_path[1:]\n",
    "            downstream_grads[node_name] = node.input[0][0].grad.cpu().save()\n",
    "\n",
    "        metric_clean = metric_fn(model, clean_target, corrupt_target)\n",
    "        metric_clean.sum().backward()\n",
    "\n",
    "    upstream_act_clean = {k: v.value.cpu() for k, v in upstream_act_clean.items()}\n",
    "    downstream_grads = {k: v.value.cpu() for k, v in downstream_grads.items()}\n",
    "\n",
    "    model.zero_grad(set_to_none=True)\n",
    "    torch.cuda.empty_cache()\n",
    "\n",
    "    # Computing gradients of upstream ndoes wrt downstream nodes on clean prompt\n",
    "    upstream_grads = defaultdict(dict)\n",
    "    for downstream_node in downstream_nodes:\n",
    "        downstream_node_name = downstream_node._module_path[1:]\n",
    "\n",
    "        with model.trace(clean_prompt, scan=False, validate=False):\n",
    "            for upstream_node in upstream_nodes:\n",
    "                upstream_node_name = upstream_node._module_path[1:]\n",
    "                upstream_grads[downstream_node_name][upstream_node_name] = (\n",
    "                    upstream_node.input[0][0].grad.cpu().save()\n",
    "                )\n",
    "\n",
    "            metric_score = downstream_node.input[0][0][:, -1].mean(0).sum(0)\n",
    "            metric_score.backward()\n",
    "\n",
    "        upstream_grads[downstream_node_name] = {\n",
    "            k: v.value.cpu() for k, v in upstream_grads[downstream_node_name].items()\n",
    "        }\n",
    "\n",
    "        model.zero_grad(set_to_none=True)\n",
    "        torch.cuda.empty_cache()\n",
    "\n",
    "\n",
    "    # Computing the upstream activations for corrupt prompt\n",
    "    upstream_act_corrupt = {}\n",
    "    with torch.no_grad():\n",
    "        with model.trace(\n",
    "            corrupt_prompt, scan=False, validate=False\n",
    "        ), torch.inference_mode():\n",
    "            for node in upstream_nodes:\n",
    "                node_name = node._module_path[1:]\n",
    "                head_out = node.input[0][0]\n",
    "                upstream_act_corrupt[node_name] = head_out.cpu().save()\n",
    "\n",
    "            metric_corrupt = metric_fn(model, clean_target, corrupt_target)\n",
    "\n",
    "    upstream_act_corrupt = {k: v.value.cpu() for k, v in upstream_act_corrupt.items()}\n",
    "\n",
    "    torch.cuda.empty_cache()\n",
    "\n",
    "    \n",
    "    # Computing the attribution score\n",
    "    for downstream_node in downstream_nodes:\n",
    "        downstream_node_name = downstream_node._module_path[1:]\n",
    "        downstream_grad = downstream_grads[downstream_node_name]\n",
    "\n",
    "        d_head = model.config.hidden_size // model.config.num_attention_heads\n",
    "        with torch.no_grad(), torch.inference_mode():\n",
    "            for upstream_node in upstream_nodes:\n",
    "                upstream_node_name = upstream_node._module_path[1:]\n",
    "                clean_state, corrupt_state = (\n",
    "                    upstream_act_clean[upstream_node_name],\n",
    "                    upstream_act_corrupt[upstream_node_name],\n",
    "                )\n",
    "                upstream_grad = upstream_grads[downstream_node_name][upstream_node_name]\n",
    "                \n",
    "                corrupt_state = corrupt_state.mean(dim=0)[-1]\n",
    "                clean_state = clean_state.mean(dim=0)[-1]\n",
    "\n",
    "                delta = (corrupt_state - clean_state).detach()\n",
    "                score = downstream_grad * upstream_grad * delta\n",
    "\n",
    "                # Averaging over all batch items and analysing components only at last token position\n",
    "                score = score.mean(dim=0)[-1]\n",
    "                score = rearrange(\n",
    "                    score,\n",
    "                    \"(n_heads d_head) -> n_heads d_head\",\n",
    "                    n_heads=model.config.num_attention_heads,\n",
    "                )\n",
    "                score = reduce(score, \"n_heads d_head -> n_heads\", \"sum\")\n",
    "                \n",
    "                layer_idx = int(upstream_node_name.split('.')[2])\n",
    "                attribution_score[batch_idx][layer_idx] = score\n",
    "\n",
    "            del (\n",
    "                upstream_act_clean[upstream_node_name],\n",
    "                upstream_act_corrupt[upstream_node_name],\n",
    "                upstream_grads[downstream_node_name][upstream_node_name],\n",
    "                clean_state,\n",
    "                corrupt_state,\n",
    "                score,\n",
    "            )\n",
    "            torch.cuda.empty_cache()"
   ]
  },
  {
   "cell_type": "code",
   "execution_count": 91,
   "metadata": {},
   "outputs": [],
   "source": [
    "attribution_score = torch.load(\"heads_affecting_final_out.pt\")\n",
    "effects = attribution_score.mean(dim=0)"
   ]
  },
  {
   "cell_type": "code",
   "execution_count": 92,
   "metadata": {},
   "outputs": [
    {
     "data": {
      "image/png": "[encoded data removed]",
      "text/plain": [
       "<Figure size 800x800 with 2 Axes>"
      ]
     },
     "metadata": {},
     "output_type": "display_data"
    }
   ],
   "source": [
    "# Visualize the effects list using a heatmap\n",
    "plt.figure(figsize=(8, 8))\n",
    "sns.heatmap(effects.flip(0), cmap=\"coolwarm\", center=0, cbar=True)\n",
    "plt.xlabel(\"Head Index\")\n",
    "plt.ylabel(\"Layer Index\")\n",
    "plt.title(\"Effect of Attention Heads on the Metric\")\n",
    "plt.yticks(\n",
    "    ticks=list(range(4, model.config.num_hidden_layers, 4)),\n",
    "    labels=list(range(4, model.config.num_hidden_layers, 4))[::-1],\n",
    ")\n",
    "plt.show()"
   ]
  },
  {
   "cell_type": "code",
   "execution_count": 67,
   "metadata": {},
   "outputs": [
    {
     "name": "stderr",
     "output_type": "stream",
     "text": [
      "100%|██████████| 10/10 [01:00<00:00,  6.01s/it]\n"
     ]
    }
   ],
   "source": [
    "# d_head = model.config.hidden_size // model.config.num_attention_heads\n",
    "# mean_act = torch.zeros(model.config.num_hidden_layers, model.config.num_attention_heads, d_head)\n",
    "\n",
    "# with torch.no_grad():\n",
    "#     for batch in tqdm(dataloader):\n",
    "#         clean_prompt = batch[\"clean_prompt\"]\n",
    "#         corrupt_prompt = batch[\"corrupt_prompt\"]\n",
    "\n",
    "#         with model.trace(clean_prompt, scan=False, validate=False):\n",
    "#             for layer_idx in range(model.config.num_hidden_layers):\n",
    "#                 head_out = model.model.layers[layer_idx].self_attn.o_proj.input[0][0]\n",
    "#                 head_out = rearrange(head_out, \n",
    "#                                      \"batch seqlen (n_heads d_head) -> batch seqlen n_heads d_head\", \n",
    "#                                      n_heads=model.config.num_attention_heads)\n",
    "#                 head_out = head_out.sum(dim=0)[-1]\n",
    "#                 mean_act[layer_idx] += head_out.save()\n",
    "        \n",
    "#         with model.trace(corrupt_prompt, scan=False, validate=False):\n",
    "#             for layer_idx in range(model.config.num_hidden_layers):\n",
    "#                 head_out = model.model.layers[layer_idx].self_attn.o_proj.input[0][0]\n",
    "#                 head_out = rearrange(head_out, \n",
    "#                                      \"batch seqlen (n_heads d_head) -> batch seqlen n_heads d_head\", \n",
    "#                                      n_heads=model.config.num_attention_heads)\n",
    "#                 head_out = head_out.sum(dim=0)[-1]\n",
    "#                 mean_act[layer_idx] += head_out.save()\n",
    "\n",
    "#     for layer_idx in range(model.config.num_hidden_layers):\n",
    "#         for head_idx in range(model.config.num_attention_heads):\n",
    "#             mean_act[layer_idx][head_idx] = mean_act[layer_idx][head_idx] / (2*len(dataloader.dataset))"
   ]
  },
  {
   "cell_type": "code",
   "execution_count": 96,
   "metadata": {},
   "outputs": [
    {
     "name": "stdout",
     "output_type": "stream",
     "text": [
      "Layer 47, Head 17\n"
     ]
    }
   ],
   "source": [
    "k = 1\n",
    "top_indices = effects.view(-1).topk(k, largest=True).indices\n",
    "topk_heads = [((idx // model.config.num_attention_heads).item(), (idx % model.config.num_attention_heads).item()) for idx in top_indices]\n",
    "\n",
    "# top_indices = effects.view(-1).topk(k, largest=False).indices\n",
    "# topk_heads += [((idx // model.config.num_attention_heads).item(), (idx % model.config.num_attention_heads).item()) for idx in top_indices]\n",
    "\n",
    "for l, h in topk_heads:\n",
    "    print(f\"Layer {l}, Head {h}\")"
   ]
  },
  {
   "cell_type": "code",
   "execution_count": 97,
   "metadata": {},
   "outputs": [
    {
     "name": "stderr",
     "output_type": "stream",
     "text": [
      " 20%|██        | 1/5 [00:07<00:28,  7.03s/it]"
     ]
    },
    {
     "name": "stdout",
     "output_type": "stream",
     "text": [
      "Prediction:  y | Target:  y\n"
     ]
    },
    {
     "name": "stderr",
     "output_type": "stream",
     "text": [
      "\r",
      " 40%|████      | 2/5 [00:13<00:20,  6.69s/it]"
     ]
    },
    {
     "name": "stdout",
     "output_type": "stream",
     "text": [
      "Prediction:  y | Target:  y\n"
     ]
    },
    {
     "name": "stderr",
     "output_type": "stream",
     "text": [
      "\r",
      " 60%|██████    | 3/5 [00:20<00:13,  6.64s/it]"
     ]
    },
    {
     "name": "stdout",
     "output_type": "stream",
     "text": [
      "Prediction:  y | Target:  y\n"
     ]
    },
    {
     "name": "stderr",
     "output_type": "stream",
     "text": [
      "\r",
      " 80%|████████  | 4/5 [00:26<00:06,  6.67s/it]"
     ]
    },
    {
     "name": "stdout",
     "output_type": "stream",
     "text": [
      "Prediction:  y | Target:  y\n"
     ]
    },
    {
     "name": "stderr",
     "output_type": "stream",
     "text": [
      "100%|██████████| 5/5 [00:32<00:00,  6.59s/it]"
     ]
    },
    {
     "name": "stdout",
     "output_type": "stream",
     "text": [
      "Prediction:  a | Target:  x\n",
      "Acc: 0.8\n"
     ]
    },
    {
     "name": "stderr",
     "output_type": "stream",
     "text": [
      "\n"
     ]
    }
   ],
   "source": [
    "correct, total = 0, 0\n",
    "with torch.no_grad():\n",
    "    for batch_idx, batch in tqdm(enumerate(dataloader), total=len(dataloader)):\n",
    "        clean_prompt = batch[\"clean_prompt\"]\n",
    "        corrupt_prompt = batch[\"corrupt_prompt\"]\n",
    "        clean_target = batch[\"clean_target\"][0]\n",
    "        corrupt_target = batch[\"corrupt_target\"][0]\n",
    "\n",
    "        corrupt_head_out = {}\n",
    "        with model.trace(corrupt_prompt, scan=False, validate=False):\n",
    "            for layer_idx in range(model.config.num_hidden_layers):\n",
    "                head_out = model.model.layers[layer_idx].self_attn.o_proj.input[0][0]\n",
    "                head_out = rearrange(head_out, \n",
    "                                     \"batch seqlen (n_heads d_head) -> batch seqlen n_heads d_head\",\n",
    "                                    n_heads=model.config.num_attention_heads)\n",
    "                head_out = head_out.mean(dim=0)[-1]\n",
    "\n",
    "                for l, h in topk_heads:\n",
    "                    if l == layer_idx:\n",
    "                        corrupt_head_out[(l, h)] = head_out[h].save()\n",
    "\n",
    "        with model.trace(clean_prompt, scan=False, validate=False):\n",
    "            for layer_idx in range(model.config.num_hidden_layers):\n",
    "                head_out = model.model.layers[layer_idx].self_attn.o_proj.input[0][0]\n",
    "                head_out = rearrange(head_out, \n",
    "                                     \"batch seqlen (n_heads d_head) -> batch seqlen n_heads d_head\",\n",
    "                                    n_heads=model.config.num_attention_heads)\n",
    "    \n",
    "                for head_idx in range(model.config.num_attention_heads):\n",
    "                    if (layer_idx, head_idx) in topk_heads:\n",
    "                        head_out[:, -1, head_idx] = corrupt_head_out[(layer_idx, head_idx)]\n",
    "                    else:\n",
    "                        head_out[:, -1, head_idx] = mean_act[layer_idx, head_idx]\n",
    "\n",
    "                head_out = rearrange(head_out, \n",
    "                             \"batch seqlen n_heads d_head -> batch seqlen (n_heads d_head)\",\n",
    "                            n_heads=model.config.num_attention_heads)\n",
    "\n",
    "                model.model.layers[layer_idx].self_attn.o_proj.output = model.model.layers[layer_idx].self_attn.o_proj(head_out)\n",
    "\n",
    "            preds = model.lm_head.output[:, -1].argmax(dim=-1).save()\n",
    "\n",
    "        del corrupt_head_out\n",
    "        torch.cuda.empty_cache()\n",
    "\n",
    "        print(f\"Prediction: {model.tokenizer.decode([preds])} | Target: {corrupt_target}\")\n",
    "        if model.tokenizer.decode([preds]).strip() == corrupt_target.strip():\n",
    "            correct += 1\n",
    "        total += 1\n",
    "\n",
    "    acc = round(correct/total, 2)\n",
    "    print(f\"Acc: {acc}\")   "
   ]
  },
  {
   "cell_type": "code",
   "execution_count": 49,
   "metadata": {},
   "outputs": [],
   "source": [
    "del corrupt_head_out\n",
    "torch.cuda.empty_cache()"
   ]
  }
 ],
 "metadata": {
  "kernelspec": {
   "display_name": "Python 3 (ipykernel)",
   "language": "python",
   "name": "python3"
  },
  "language_info": {
   "codemirror_mode": {
    "name": "ipython",
    "version": 3
   },
   "file_extension": ".py",
   "mimetype": "text/x-python",
   "name": "python",
   "nbconvert_exporter": "python",
   "pygments_lexer": "ipython3",
   "version": "3.10.4"
  }
 },
 "nbformat": 4,
 "nbformat_minor": 4
}
