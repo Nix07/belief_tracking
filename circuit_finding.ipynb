{
 "cells": [
  {
   "cell_type": "code",
   "execution_count": 1,
   "metadata": {},
   "outputs": [],
   "source": [
    "import os\n",
    "import random\n",
    "import csv\n",
    "import torch\n",
    "from datasets import Dataset\n",
    "from torch.utils.data import DataLoader\n",
    "from tqdm import tqdm\n",
    "from nnsight import LanguageModel\n",
    "import matplotlib.pyplot as plt\n",
    "import seaborn as sns\n",
    "from collections import defaultdict\n",
    "from einops import einsum, rearrange, reduce\n",
    "\n",
    "random.seed(10)"
   ]
  },
  {
   "cell_type": "markdown",
   "metadata": {},
   "source": [
    "# Loading model"
   ]
  },
  {
   "cell_type": "code",
   "execution_count": 2,
   "metadata": {},
   "outputs": [
    {
     "name": "stderr",
     "output_type": "stream",
     "text": [
      "Special tokens have been added in the vocabulary, make sure the associated word embeddings are fine-tuned or trained.\n",
      "The `load_in_4bit` and `load_in_8bit` arguments are deprecated and will be removed in the future versions. Please, pass a `BitsAndBytesConfig` object in `quantization_config` argument instead.\n"
     ]
    },
    {
     "data": {
      "application/vnd.jupyter.widget-view+json": {
       "model_id": "dd783b46666c4d3d818c0336ef7cc5ec",
       "version_major": 2,
       "version_minor": 0
      },
      "text/plain": [
       "Loading checkpoint shards:   0%|          | 0/30 [00:00<?, ?it/s]"
      ]
     },
     "metadata": {},
     "output_type": "display_data"
    }
   ],
   "source": [
    "if os.environ.get(\"USER\") == 'nikhil_prakash':\n",
    "    model = LanguageModel(\n",
    "        \"/data/public_models/huggingface/meta-llama/Meta-Llama-3-70B-Instruct\",\n",
    "        device_map=\"auto\",\n",
    "        load_in_4bit=True,\n",
    "        torch_dtype=torch.float16,\n",
    "        dispatch=True,\n",
    "    )\n",
    "else:\n",
    "    model = LanguageModel(\n",
    "        \"meta-llama/Meta-Llama-3-70B-Instruct\",\n",
    "        device_map=\"auto\",\n",
    "        load_in_4bit=True,\n",
    "        torch_dtype=torch.float16,\n",
    "        dispatch=True,\n",
    "    )"
   ]
  },
  {
   "cell_type": "markdown",
   "metadata": {
    "jp-MarkdownHeadingCollapsed": true
   },
   "source": [
    "# Loading data"
   ]
  },
  {
   "cell_type": "code",
   "execution_count": 3,
   "metadata": {},
   "outputs": [],
   "source": [
    "variable = \"0_forward_belief\"\n",
    "\n",
    "with open(f\"data/bigtom/{variable}_true_belief/stories.csv\", \"r\") as f:\n",
    "    reader = csv.reader(f, delimiter=\";\")\n",
    "    tb_data = list(reader)\n",
    "\n",
    "with open(f\"data/bigtom/{variable}_false_belief/stories.csv\", \"r\") as f:\n",
    "    reader = csv.reader(f, delimiter=\";\")\n",
    "    fb_data = list(reader)"
   ]
  },
  {
   "cell_type": "markdown",
   "metadata": {},
   "source": [
    "# Circuit Discovery"
   ]
  },
  {
   "cell_type": "code",
   "execution_count": 33,
   "metadata": {},
   "outputs": [],
   "source": [
    "n_samples = 50\n",
    "batch_size = 2\n",
    "clean_samples = []\n",
    "method_name = \"0shot\"\n",
    "\n",
    "with open(f\"prompt_instructions/{method_name}.txt\", \"r\") as f:\n",
    "    instructions = f.read()\n",
    "\n",
    "for example in tb_data[: n_samples//2] + fb_data[: n_samples//2]:\n",
    "    story, clean_question_raw, correct_answer, wrong_answer = example\n",
    "    answers = [correct_answer, wrong_answer]\n",
    "    random.shuffle(answers)\n",
    "\n",
    "    clean_question = f\"{clean_question_raw}\\nChoose one of the following:\\na) {answers[0]}\\nb) {answers[1]}\"\n",
    "    corrupt_question = f\"{clean_question_raw}\\nChoose one of the following:\\na) {answers[1]}\\nb) {answers[0]}\"\n",
    "\n",
    "    clean_prompt = f\"Instructions: {instructions}\\nStory: {story}\\nQuestion: {clean_question}\\nAnswer:\"\n",
    "    corrupt_prompt = f\"Instructions: {instructions}\\nStory: {story}\\nQuestion: {corrupt_question}\\nAnswer:\"\n",
    "\n",
    "    if answers[0] == correct_answer:\n",
    "        clean_target = \" a\"\n",
    "        corrupt_target = \" b\"\n",
    "    else:\n",
    "        clean_target = \" b\"\n",
    "        corrupt_target = \" a\"\n",
    "\n",
    "    clean_samples.append({\"clean_prompt\": clean_prompt, \"clean_target\": clean_target, \"corrupt_prompt\": corrupt_prompt, \"corrupt_target\": corrupt_target})\n",
    "\n",
    "# Create dataloader using clean_samples\n",
    "dataset = Dataset.from_list(clean_samples)\n",
    "dataloader = DataLoader(dataset, batch_size=batch_size, shuffle=False)"
   ]
  },
  {
   "cell_type": "code",
   "execution_count": 34,
   "metadata": {},
   "outputs": [],
   "source": [
    "def metric_fn(model, clean_target, corrupt_target):\n",
    "    clean_target_token_idx = model.tokenizer(clean_target, return_tensors=\"pt\", padding=False)[\"input_ids\"][:, -1]\n",
    "    corrupt_target_token_idx = model.tokenizer(corrupt_target, return_tensors=\"pt\", padding=False)[\"input_ids\"][:, -1]\n",
    "\n",
    "    logit_diff = torch.gather(\n",
    "        model.lm_head.output[:, -1], dim=-1, index=corrupt_target_token_idx.view(-1, 1)\n",
    "    ) - torch.gather(\n",
    "        model.lm_head.output[:, -1], dim=-1, index=clean_target_token_idx.view(-1, 1)\n",
    "    )\n",
    "    logit_diff = logit_diff.squeeze(-1)\n",
    "    return logit_diff"
   ]
  },
  {
   "cell_type": "markdown",
   "metadata": {},
   "source": [
    "## Component Patching"
   ]
  },
  {
   "cell_type": "code",
   "execution_count": 6,
   "metadata": {},
   "outputs": [
    {
     "name": "stderr",
     "output_type": "stream",
     "text": [
      "  0%|          | 0/10 [00:00<?, ?it/s]You're using a PreTrainedTokenizerFast tokenizer. Please note that with a fast tokenizer, using the `__call__` method is faster than using a method to encode the text followed by a call to the `pad` method to get a padded encoding.\n",
      "/data/nikhil_prakash/miniconda/envs/anima/lib/python3.10/site-packages/bitsandbytes/nn/modules.py:226: UserWarning: Input type into Linear4bit is torch.float16, but bnb_4bit_compute_dtype=torch.float32 (default). This will lead to slow inference or training speed.\n",
      "  warnings.warn(f'Input type into Linear4bit is torch.float16, but bnb_4bit_compute_dtype=torch.float32 (default). This will lead to slow inference or training speed.')\n",
      "100%|██████████| 10/10 [04:13<00:00, 25.38s/it]\n"
     ]
    }
   ],
   "source": [
    "correct, total = 0, 0\n",
    "attribution_score = torch.zeros(len(dataloader), model.config.num_hidden_layers, model.config.num_attention_heads).cpu()\n",
    "\n",
    "for batch_idx, batch in tqdm(enumerate(dataloader), total=len(dataloader)):\n",
    "    clean_prompt = batch[\"clean_prompt\"]\n",
    "    corrupt_prompt = batch[\"corrupt_prompt\"]\n",
    "    clean_target = batch[\"clean_target\"]\n",
    "    corrupt_target = batch[\"corrupt_target\"]\n",
    "\n",
    "    upstream_act_clean, upstream_act_corrupt, grads_downstream = {}, {}, {}\n",
    "    with model.trace(clean_prompt, scan=False, validate=False):\n",
    "        for layer_idx in range(model.config.num_hidden_layers):\n",
    "            head_out = model.model.layers[layer_idx].self_attn.o_proj.input[0][0]\n",
    "            upstream_act_clean[layer_idx] = head_out.cpu().save()\n",
    "            grads_downstream[layer_idx] = head_out.grad.cpu().save()\n",
    "\n",
    "        metric_clean = metric_fn(model, clean_target, corrupt_target)\n",
    "        metric_clean.sum().backward()\n",
    "\n",
    "    upstream_act_clean = {k: v.value.cpu() for k, v in upstream_act_clean.items()}\n",
    "    grads_downstream = {k: v.value.cpu() for k, v in grads_downstream.items()}\n",
    "    \n",
    "    model.zero_grad(set_to_none=True)\n",
    "    torch.cuda.empty_cache()\n",
    "    \n",
    "    with torch.no_grad():\n",
    "        with model.trace(corrupt_prompt, scan=False, validate=False), torch.inference_mode():\n",
    "            for layer_idx in range(model.config.num_hidden_layers):\n",
    "                head_out = model.model.layers[layer_idx].self_attn.o_proj.input[0][0]\n",
    "                upstream_act_corrupt[layer_idx] = head_out.cpu().save()\n",
    "\n",
    "            metric_corrupt = metric_fn(model, clean_target, corrupt_target)\n",
    "\n",
    "    upstream_act_corrupt = {k: v.value.cpu() for k, v in upstream_act_corrupt.items()}\n",
    "    \n",
    "    torch.cuda.empty_cache()\n",
    "\n",
    "    d_head = model.config.hidden_size // model.config.num_attention_heads\n",
    "    with torch.no_grad(), torch.inference_mode():\n",
    "        for layer_idx in range(model.config.num_hidden_layers):\n",
    "            clean_state, corrupt_state, grad = upstream_act_clean[layer_idx], upstream_act_corrupt[layer_idx], grads_downstream[layer_idx]\n",
    "            delta = (corrupt_state - clean_state).detach()\n",
    "            score = delta * grad\n",
    "\n",
    "            # Averaging over all batch items and analysing components only at last token position\n",
    "            score = score.mean(dim=0)[-1]\n",
    "            score = rearrange(score, \"(n_heads d_head) -> n_heads d_head\", n_heads=model.config.num_attention_heads)\n",
    "            score = reduce(score, \"n_heads d_head -> n_heads\", \"sum\")\n",
    "            attribution_score[batch_idx][layer_idx] = score\n",
    "\n",
    "        del upstream_act_clean[layer_idx], upstream_act_corrupt[layer_idx], grads_downstream[layer_idx], clean_state, corrupt_state, grad, score\n",
    "        torch.cuda.empty_cache()\n",
    "\n",
    "#     torch.save(attribution_score, \"attribution_score.pt\")"
   ]
  },
  {
   "cell_type": "code",
   "execution_count": 7,
   "metadata": {},
   "outputs": [],
   "source": [
    "effects = attribution_score.mean(dim=0)"
   ]
  },
  {
   "cell_type": "code",
   "execution_count": 10,
   "metadata": {},
   "outputs": [
    {
     "data": {
      "image/png": "[encoded data removed]",
      "text/plain": [
       "<Figure size 800x800 with 2 Axes>"
      ]
     },
     "metadata": {},
     "output_type": "display_data"
    }
   ],
   "source": [
    "# Visualize the effects list using a heatmap\n",
    "plt.figure(figsize=(8, 8))\n",
    "sns.heatmap(effects.flip(0), cmap=\"coolwarm\", center=0, cbar=True)\n",
    "plt.xlabel(\"Head Index\")\n",
    "plt.ylabel(\"Layer Index\")\n",
    "plt.title(\"Effect of Attention Heads on the Metric\")\n",
    "plt.yticks(ticks=list(range(4, model.config.num_hidden_layers, 4)), labels=list(range(4, model.config.num_hidden_layers, 4))[::-1])\n",
    "plt.show()"
   ]
  },
  {
   "cell_type": "code",
   "execution_count": 11,
   "metadata": {
    "scrolled": true
   },
   "outputs": [],
   "source": [
    "k = 10\n",
    "topk_heads = effects.view(-1).topk(k, largest=True).indices\n",
    "topk_heads = [((idx // model.config.num_attention_heads).item(), (idx % model.config.num_attention_heads).item()) for idx in topk_heads]\n",
    "# for l, h in topk_heads:\n",
    "#     print(f\"Layer {l}, Head {h}\")"
   ]
  },
  {
   "cell_type": "markdown",
   "metadata": {},
   "source": [
    "## Faithfulness"
   ]
  },
  {
   "cell_type": "code",
   "execution_count": 13,
   "metadata": {},
   "outputs": [
    {
     "name": "stderr",
     "output_type": "stream",
     "text": [
      "100%|██████████| 50/50 [03:18<00:00,  3.97s/it]\n"
     ]
    }
   ],
   "source": [
    "d_head = model.config.hidden_size // model.config.num_attention_heads\n",
    "mean_act = torch.zeros(model.config.num_hidden_layers, model.config.num_attention_heads, d_head)\n",
    "\n",
    "with torch.no_grad():\n",
    "    for batch in tqdm(dataloader):\n",
    "        clean_prompt = batch[\"clean_prompt\"]\n",
    "        with model.trace(clean_prompt, scan=False, validate=False):\n",
    "            for layer_idx in range(model.config.num_hidden_layers):\n",
    "                head_out = model.model.layers[layer_idx].self_attn.o_proj.input[0][0]\n",
    "                head_out = rearrange(head_out, \"batch seqlen (n_heads d_head) -> batch seqlen n_heads d_head\", \n",
    "                                     n_heads=model.config.num_attention_heads)\n",
    "                head_out = head_out.sum(dim=0)[-1]\n",
    "                mean_act[layer_idx] = head_out.save()\n",
    "    \n",
    "    for layer_idx in range(model.config.num_hidden_layers):\n",
    "        mean_act[layer_idx] = mean_act[layer_idx] / len(dataloader)"
   ]
  },
  {
   "cell_type": "code",
   "execution_count": 39,
   "metadata": {
    "scrolled": true
   },
   "outputs": [
    {
     "name": "stderr",
     "output_type": "stream",
     "text": [
      "100%|██████████| 25/25 [01:56<00:00,  4.65s/it]\n"
     ]
    },
    {
     "name": "stdout",
     "output_type": "stream",
     "text": [
      "Start layer: 20 | Acc: 0.98\n"
     ]
    },
    {
     "name": "stderr",
     "output_type": "stream",
     "text": [
      "100%|██████████| 25/25 [01:55<00:00,  4.62s/it]\n"
     ]
    },
    {
     "name": "stdout",
     "output_type": "stream",
     "text": [
      "Start layer: 21 | Acc: 0.98\n"
     ]
    },
    {
     "name": "stderr",
     "output_type": "stream",
     "text": [
      "100%|██████████| 25/25 [01:55<00:00,  4.64s/it]\n"
     ]
    },
    {
     "name": "stdout",
     "output_type": "stream",
     "text": [
      "Start layer: 22 | Acc: 0.97\n"
     ]
    },
    {
     "name": "stderr",
     "output_type": "stream",
     "text": [
      "100%|██████████| 25/25 [01:55<00:00,  4.62s/it]\n"
     ]
    },
    {
     "name": "stdout",
     "output_type": "stream",
     "text": [
      "Start layer: 23 | Acc: 0.96\n"
     ]
    },
    {
     "name": "stderr",
     "output_type": "stream",
     "text": [
      "100%|██████████| 25/25 [01:55<00:00,  4.61s/it]\n"
     ]
    },
    {
     "name": "stdout",
     "output_type": "stream",
     "text": [
      "Start layer: 24 | Acc: 0.96\n"
     ]
    },
    {
     "name": "stderr",
     "output_type": "stream",
     "text": [
      "100%|██████████| 25/25 [01:54<00:00,  4.60s/it]\n"
     ]
    },
    {
     "name": "stdout",
     "output_type": "stream",
     "text": [
      "Start layer: 25 | Acc: 0.96\n"
     ]
    },
    {
     "name": "stderr",
     "output_type": "stream",
     "text": [
      "100%|██████████| 25/25 [01:54<00:00,  4.57s/it]\n"
     ]
    },
    {
     "name": "stdout",
     "output_type": "stream",
     "text": [
      "Start layer: 26 | Acc: 0.95\n"
     ]
    },
    {
     "name": "stderr",
     "output_type": "stream",
     "text": [
      "100%|██████████| 25/25 [01:54<00:00,  4.57s/it]\n"
     ]
    },
    {
     "name": "stdout",
     "output_type": "stream",
     "text": [
      "Start layer: 27 | Acc: 0.95\n"
     ]
    },
    {
     "name": "stderr",
     "output_type": "stream",
     "text": [
      "100%|██████████| 25/25 [01:53<00:00,  4.56s/it]\n"
     ]
    },
    {
     "name": "stdout",
     "output_type": "stream",
     "text": [
      "Start layer: 28 | Acc: 0.95\n"
     ]
    },
    {
     "name": "stderr",
     "output_type": "stream",
     "text": [
      "100%|██████████| 25/25 [01:53<00:00,  4.54s/it]"
     ]
    },
    {
     "name": "stdout",
     "output_type": "stream",
     "text": [
      "Start layer: 29 | Acc: 0.95\n"
     ]
    },
    {
     "name": "stderr",
     "output_type": "stream",
     "text": [
      "\n"
     ]
    }
   ],
   "source": [
    "top_layer_indices = [l for l, h in topk_heads]\n",
    "correct, total = 0, 0\n",
    "# accs = {}\n",
    "\n",
    "with torch.no_grad():\n",
    "    for start_layer_idx in range(20, 30):\n",
    "        for batch in tqdm(dataloader):\n",
    "            prompt = batch[\"clean_prompt\"]\n",
    "            target = batch[\"clean_target\"]\n",
    "\n",
    "            with model.trace(prompt, scan=False, validate=False):\n",
    "                for layer_idx in range(start_layer_idx, model.config.num_hidden_layers):\n",
    "                    head_out = model.model.layers[layer_idx].self_attn.o_proj.input[0][0]\n",
    "                    head_out = rearrange(head_out, \"batch seqlen (n_heads d_head) -> batch seqlen n_heads d_head\", \n",
    "                                         n_heads=model.config.num_attention_heads)\n",
    "\n",
    "                    for head_idx in range(model.config.num_attention_heads):\n",
    "                        if (layer_idx, head_idx) not in topk_heads:\n",
    "                            head_out[:, -1, head_idx] = mean_act[layer_idx, head_idx]\n",
    "\n",
    "                    head_out = rearrange(head_out, \"batch seqlen n_heads d_head -> batch seqlen (n_heads d_head)\", \n",
    "                                         n_heads=model.config.num_attention_heads)\n",
    "\n",
    "                    model.model.layers[layer_idx].self_attn.o_proj.output = model.model.layers[layer_idx].self_attn.o_proj(\n",
    "                                                                                head_out\n",
    "                                                                            )\n",
    "\n",
    "                preds = model.lm_head.output[:, -1].argmax(dim=-1).save()\n",
    "\n",
    "            for i in range(len(target)):\n",
    "                if model.tokenizer.decode(preds[i].item()).strip() == target[i].strip():\n",
    "                    correct += 1\n",
    "                total += 1\n",
    "        \n",
    "        acc = round(correct/total, 2)\n",
    "        print(f\"Start layer: {start_layer_idx} | Acc: {acc}\")\n",
    "#         accs[start_layer_idx] = acc"
   ]
  },
  {
   "cell_type": "code",
   "execution_count": 40,
   "metadata": {},
   "outputs": [
    {
     "data": {
      "text/plain": [
       "{0: 0.0,\n",
       " 1: 0.38,\n",
       " 2: 0.39,\n",
       " 3: 0.45,\n",
       " 4: 0.48,\n",
       " 5: 0.53,\n",
       " 6: 0.49,\n",
       " 7: 0.47,\n",
       " 8: 0.51,\n",
       " 9: 0.53,\n",
       " 10: 0.58,\n",
       " 11: 0.76,\n",
       " 12: 0.81,\n",
       " 13: 0.84,\n",
       " 14: 0.86,\n",
       " 15: 0.88,\n",
       " 16: 0.89,\n",
       " 17: 0.9,\n",
       " 18: 0.91,\n",
       " 19: 0.92,\n",
       " 20: 0.98,\n",
       " 21: 0.98,\n",
       " 22: 0.97,\n",
       " 23: 0.96,\n",
       " 24: 0.96,\n",
       " 25: 0.96,\n",
       " 26: 0.95,\n",
       " 27: 0.95,\n",
       " 28: 0.95,\n",
       " 29: 0.95}"
      ]
     },
     "execution_count": 40,
     "metadata": {},
     "output_type": "execute_result"
    }
   ],
   "source": [
    "accs"
   ]
  },
  {
   "cell_type": "code",
   "execution_count": 16,
   "metadata": {},
   "outputs": [
    {
     "data": {
      "text/plain": [
       "tensor([662, 662], device='cuda:0')"
      ]
     },
     "execution_count": 16,
     "metadata": {},
     "output_type": "execute_result"
    }
   ],
   "source": [
    "preds"
   ]
  },
  {
   "cell_type": "code",
   "execution_count": 17,
   "metadata": {},
   "outputs": [
    {
     "data": {
      "text/plain": [
       "'.'"
      ]
     },
     "execution_count": 17,
     "metadata": {},
     "output_type": "execute_result"
    }
   ],
   "source": [
    "model.tokenizer.decode(662)"
   ]
  },
  {
   "cell_type": "markdown",
   "metadata": {},
   "source": [
    "## Path Patching"
   ]
  },
  {
   "cell_type": "code",
   "execution_count": 30,
   "metadata": {},
   "outputs": [
    {
     "name": "stderr",
     "output_type": "stream",
     "text": [
      "100%|██████████| 4/4 [01:47<00:00, 26.92s/it]\n"
     ]
    }
   ],
   "source": [
    "downstream_nodes = [model.lm_head]\n",
    "upstream_nodes = [model.model.layers[l].self_attn.o_proj for l in range(model.config.num_hidden_layers)]\n",
    "attribution_score = torch.zeros(\n",
    "    len(dataloader), model.config.num_hidden_layers, model.config.num_attention_heads\n",
    ").cpu()\n",
    "\n",
    "for batch_idx, batch in tqdm(enumerate(dataloader), total=len(dataloader)):\n",
    "    clean_prompt = batch[\"clean_prompt\"]\n",
    "    corrupt_prompt = batch[\"corrupt_prompt\"]\n",
    "    clean_target = batch[\"clean_target\"]\n",
    "    corrupt_target = batch[\"corrupt_target\"]\n",
    "\n",
    "    # Computing the upstream activations and downstream gradients for clean prompt\n",
    "    upstream_act_clean, downstream_grads = {}, {}\n",
    "    with model.trace(clean_prompt, scan=False, validate=False):\n",
    "        for node in upstream_nodes:\n",
    "            node_name = node._module_path[1:]\n",
    "            head_out = node.input[0][0]\n",
    "            upstream_act_clean[node_name] = head_out.cpu().save()\n",
    "\n",
    "        for node in downstream_nodes:\n",
    "            node_name = node._module_path[1:]\n",
    "            downstream_grads[node_name] = node.input[0][0].grad.cpu().save()\n",
    "\n",
    "        metric_clean = metric_fn(model, clean_target, corrupt_target)\n",
    "        metric_clean.sum().backward()\n",
    "\n",
    "    upstream_act_clean = {k: v.value.cpu() for k, v in upstream_act_clean.items()}\n",
    "    downstream_grads = {k: v.value.cpu() for k, v in downstream_grads.items()}\n",
    "\n",
    "    model.zero_grad(set_to_none=True)\n",
    "    torch.cuda.empty_cache()\n",
    "\n",
    "\n",
    "    # Computing the upstream gradients for clean prompt\n",
    "    upstream_grads = defaultdict(dict)\n",
    "    for downstream_node in downstream_nodes:\n",
    "        downstream_node_name = downstream_node._module_path[1:]\n",
    "\n",
    "        with model.trace(clean_prompt, scan=False, validate=False):\n",
    "            for upstream_node in upstream_nodes:\n",
    "                upstream_node_name = upstream_node._module_path[1:]\n",
    "                upstream_grads[downstream_node_name][upstream_node_name] = (\n",
    "                    upstream_node.input[0][0].grad.cpu().save()\n",
    "                )\n",
    "\n",
    "            metric_score = downstream_node.input[0][0][:, -1].mean(0).sum(0)\n",
    "            metric_score.backward()\n",
    "\n",
    "        upstream_grads[downstream_node_name] = {\n",
    "            k: v.value.cpu() for k, v in upstream_grads[downstream_node_name].items()\n",
    "        }\n",
    "\n",
    "        model.zero_grad(set_to_none=True)\n",
    "        torch.cuda.empty_cache()\n",
    "\n",
    "\n",
    "    # Computing the upstream activations for corrupt prompt\n",
    "    upstream_act_corrupt = {}\n",
    "    with torch.no_grad():\n",
    "        with model.trace(\n",
    "            corrupt_prompt, scan=False, validate=False\n",
    "        ), torch.inference_mode():\n",
    "            for node in upstream_nodes:\n",
    "                node_name = node._module_path[1:]\n",
    "                head_out = node.input[0][0]\n",
    "                upstream_act_corrupt[node_name] = head_out.cpu().save()\n",
    "\n",
    "            metric_corrupt = metric_fn(model, clean_target, corrupt_target)\n",
    "\n",
    "    upstream_act_corrupt = {k: v.value.cpu() for k, v in upstream_act_corrupt.items()}\n",
    "\n",
    "    torch.cuda.empty_cache()\n",
    "\n",
    "    \n",
    "    # Computing the attribution score\n",
    "    for downstream_node in downstream_nodes:\n",
    "        downstream_node_name = downstream_node._module_path[1:]\n",
    "        downstream_grad = downstream_grads[downstream_node_name]\n",
    "\n",
    "        d_head = model.config.hidden_size // model.config.num_attention_heads\n",
    "        with torch.no_grad(), torch.inference_mode():\n",
    "            for upstream_node in upstream_nodes:\n",
    "                upstream_node_name = upstream_node._module_path[1:]\n",
    "                clean_state, corrupt_state = (\n",
    "                    upstream_act_clean[upstream_node_name],\n",
    "                    upstream_act_corrupt[upstream_node_name],\n",
    "                )\n",
    "                upstream_grad = upstream_grads[downstream_node_name][upstream_node_name]\n",
    "\n",
    "                delta = (corrupt_state - clean_state).detach()\n",
    "                score = downstream_grad * upstream_grad * delta\n",
    "\n",
    "                # Averaging over all batch items and analysing components only at last token position\n",
    "                score = score.mean(dim=0)[-1]\n",
    "                score = rearrange(\n",
    "                    score,\n",
    "                    \"(n_heads d_head) -> n_heads d_head\",\n",
    "                    n_heads=model.config.num_attention_heads,\n",
    "                )\n",
    "                score = reduce(score, \"n_heads d_head -> n_heads\", \"sum\")\n",
    "                \n",
    "                layer_idx = int(upstream_node_name.split('.')[2])\n",
    "                attribution_score[batch_idx][layer_idx] = score\n",
    "\n",
    "            del (\n",
    "                upstream_act_clean[upstream_node_name],\n",
    "                upstream_act_corrupt[upstream_node_name],\n",
    "                upstream_grads[downstream_node_name][upstream_node_name],\n",
    "                clean_state,\n",
    "                corrupt_state,\n",
    "                score,\n",
    "            )\n",
    "            torch.cuda.empty_cache()"
   ]
  },
  {
   "cell_type": "code",
   "execution_count": 31,
   "metadata": {},
   "outputs": [],
   "source": [
    "effects = attribution_score.mean(dim=0)"
   ]
  },
  {
   "cell_type": "code",
   "execution_count": 34,
   "metadata": {},
   "outputs": [
    {
     "data": {
      "image/png": "[encoded data removed]",
      "text/plain": [
       "<Figure size 800x800 with 2 Axes>"
      ]
     },
     "metadata": {},
     "output_type": "display_data"
    }
   ],
   "source": [
    "# Visualize the effects list using a heatmap\n",
    "plt.figure(figsize=(8, 8))\n",
    "sns.heatmap(effects.flip(0), cmap=\"coolwarm\", center=0, cbar=True)\n",
    "plt.xlabel(\"Head Index\")\n",
    "plt.ylabel(\"Layer Index\")\n",
    "plt.title(\"Effect of Attention Heads on the Metric\")\n",
    "plt.yticks(\n",
    "    ticks=list(range(4, model.config.num_hidden_layers, 4)),\n",
    "    labels=list(range(4, model.config.num_hidden_layers, 4))[::-1],\n",
    ")\n",
    "plt.show()"
   ]
  },
  {
   "cell_type": "code",
   "execution_count": 33,
   "metadata": {},
   "outputs": [
    {
     "name": "stdout",
     "output_type": "stream",
     "text": [
      "Layer 78, Head 33\n",
      "Layer 79, Head 36\n",
      "Layer 64, Head 26\n",
      "Layer 38, Head 50\n",
      "Layer 67, Head 60\n",
      "Layer 73, Head 0\n",
      "Layer 53, Head 0\n",
      "Layer 53, Head 21\n",
      "Layer 77, Head 21\n",
      "Layer 53, Head 3\n"
     ]
    }
   ],
   "source": [
    "k = 10\n",
    "topk_heads = effects.view(-1).topk(k).indices\n",
    "topk_heads = [((idx // model.config.num_attention_heads).item(), (idx % model.config.num_attention_heads).item()) for idx in topk_heads]\n",
    "for l, h in topk_heads:\n",
    "    print(f\"Layer {l}, Head {h}\")"
   ]
  },
  {
   "cell_type": "code",
   "execution_count": null,
   "metadata": {},
   "outputs": [],
   "source": []
  }
 ],
 "metadata": {
  "kernelspec": {
   "display_name": "Python 3 (ipykernel)",
   "language": "python",
   "name": "python3"
  },
  "language_info": {
   "codemirror_mode": {
    "name": "ipython",
    "version": 3
   },
   "file_extension": ".py",
   "mimetype": "text/x-python",
   "name": "python",
   "nbconvert_exporter": "python",
   "pygments_lexer": "ipython3",
   "version": "3.10.4"
  }
 },
 "nbformat": 4,
 "nbformat_minor": 4
}
