{
 "cells": [
  {
   "cell_type": "code",
   "execution_count": 1,
   "metadata": {},
   "outputs": [],
   "source": [
    "import random\n",
    "import csv\n",
    "import torch\n",
    "from datasets import Dataset\n",
    "from torch.utils.data import DataLoader\n",
    "from tqdm import tqdm\n",
    "from nnsight import LanguageModel\n",
    "import matplotlib.pyplot as plt\n",
    "import seaborn as sns\n",
    "from collections import defaultdict\n",
    "from einops import einsum, rearrange, reduce\n",
    "\n",
    "random.seed(10)"
   ]
  },
  {
   "cell_type": "markdown",
   "metadata": {},
   "source": [
    "# Loading model"
   ]
  },
  {
   "cell_type": "code",
   "execution_count": 2,
   "metadata": {},
   "outputs": [
    {
     "name": "stderr",
     "output_type": "stream",
     "text": [
      "Special tokens have been added in the vocabulary, make sure the associated word embeddings are fine-tuned or trained.\n",
      "The `load_in_4bit` and `load_in_8bit` arguments are deprecated and will be removed in the future versions. Please, pass a `BitsAndBytesConfig` object in `quantization_config` argument instead.\n"
     ]
    },
    {
     "data": {
      "application/vnd.jupyter.widget-view+json": {
       "model_id": "248b8b35e3f1452395929b9086ab96f3",
       "version_major": 2,
       "version_minor": 0
      },
      "text/plain": [
       "Loading checkpoint shards:   0%|          | 0/30 [00:00<?, ?it/s]"
      ]
     },
     "metadata": {},
     "output_type": "display_data"
    }
   ],
   "source": [
    "model = LanguageModel(\n",
    "    \"/data/public_models/huggingface/meta-llama/Meta-Llama-3-70B-Instruct\",\n",
    "    device_map=\"auto\",\n",
    "    load_in_4bit=True,\n",
    "    torch_dtype=torch.float16,\n",
    "    dispatch=True,\n",
    ")"
   ]
  },
  {
   "cell_type": "markdown",
   "metadata": {
    "jp-MarkdownHeadingCollapsed": true
   },
   "source": [
    "# Loading data"
   ]
  },
  {
   "cell_type": "code",
   "execution_count": 3,
   "metadata": {},
   "outputs": [],
   "source": [
    "variable = \"0_forward_belief\"\n",
    "\n",
    "with open(f\"data/bigtom/{variable}_true_belief/stories.csv\", \"r\") as f:\n",
    "    reader = csv.reader(f, delimiter=\";\")\n",
    "    tb_data = list(reader)\n",
    "\n",
    "with open(f\"data/bigtom/{variable}_false_belief/stories.csv\", \"r\") as f:\n",
    "    reader = csv.reader(f, delimiter=\";\")\n",
    "    fb_data = list(reader)"
   ]
  },
  {
   "cell_type": "markdown",
   "metadata": {},
   "source": [
    "# Circuit Discovery"
   ]
  },
  {
   "cell_type": "code",
   "execution_count": 4,
   "metadata": {},
   "outputs": [],
   "source": [
    "n_samples = 100\n",
    "batch_size = 2\n",
    "clean_samples = []\n",
    "method_name = \"0shot\"\n",
    "\n",
    "with open(f\"prompt_instructions/{method_name}.txt\", \"r\") as f:\n",
    "    instructions = f.read()\n",
    "\n",
    "for example in tb_data[: n_samples]:\n",
    "    story, clean_question_raw, correct_answer, wrong_answer = example\n",
    "    answers = [correct_answer, wrong_answer]\n",
    "    random.shuffle(answers)\n",
    "\n",
    "    clean_question = f\"{clean_question_raw}\\nChoose one of the following:\\na) {answers[0]}\\nb) {answers[1]}\"\n",
    "    corrupt_question = f\"{clean_question_raw}\\nChoose one of the following:\\na) {answers[1]}\\nb) {answers[0]}\"\n",
    "\n",
    "    clean_prompt = f\"Instructions: {instructions}\\nStory: {story}\\nQuestion: {clean_question}\\nAnswer:\"\n",
    "    corrupt_prompt = f\"Instructions: {instructions}\\nStory: {story}\\nQuestion: {corrupt_question}\\nAnswer:\"\n",
    "\n",
    "    if answers[0] == correct_answer:\n",
    "        clean_target = \" a\"\n",
    "        corrupt_target = \" b\"\n",
    "    else:\n",
    "        clean_target = \" b\"\n",
    "        corrupt_target = \" a\"\n",
    "\n",
    "    clean_samples.append({\"clean_prompt\": clean_prompt, \"clean_target\": clean_target, \"corrupt_prompt\": corrupt_prompt, \"corrupt_target\": corrupt_target})\n",
    "\n",
    "# Create dataloader using clean_samples\n",
    "dataset = Dataset.from_list(clean_samples)\n",
    "dataloader = DataLoader(dataset, batch_size=batch_size, shuffle=False)"
   ]
  },
  {
   "cell_type": "code",
   "execution_count": 5,
   "metadata": {},
   "outputs": [],
   "source": [
    "def metric_fn(model, clean_target, corrupt_target):\n",
    "    clean_target_token_idx = model.tokenizer(clean_target, return_tensors=\"pt\", padding=False)[\"input_ids\"][:, -1]\n",
    "    corrupt_target_token_idx = model.tokenizer(corrupt_target, return_tensors=\"pt\", padding=False)[\"input_ids\"][:, -1]\n",
    "\n",
    "    logit_diff = torch.gather(\n",
    "        model.lm_head.output[:, -1], dim=-1, index=corrupt_target_token_idx.view(-1, 1)\n",
    "    ) - torch.gather(\n",
    "        model.lm_head.output[:, -1], dim=-1, index=clean_target_token_idx.view(-1, 1)\n",
    "    )\n",
    "    logit_diff = logit_diff.squeeze(-1)\n",
    "    return logit_diff"
   ]
  },
  {
   "cell_type": "code",
   "execution_count": 18,
   "metadata": {},
   "outputs": [
    {
     "name": "stderr",
     "output_type": "stream",
     "text": [
      "100%|██████████| 50/50 [13:44<00:00, 16.49s/it]\n"
     ]
    }
   ],
   "source": [
    "correct, total = 0, 0\n",
    "attribution_score = torch.zeros(len(dataloader), model.config.num_hidden_layers, model.config.num_attention_heads).cpu()\n",
    "\n",
    "for batch_idx, batch in tqdm(enumerate(dataloader), total=len(dataloader)):\n",
    "    clean_prompt = batch[\"clean_prompt\"]\n",
    "    corrupt_prompt = batch[\"corrupt_prompt\"]\n",
    "    clean_target = batch[\"clean_target\"]\n",
    "    corrupt_target = batch[\"corrupt_target\"]\n",
    "\n",
    "    hidden_act_clean, hidden_act_corrupt, grads = {}, {}, {}\n",
    "    with model.trace(clean_prompt, scan=False, validate=False):\n",
    "        for layer_idx in range(model.config.num_hidden_layers):\n",
    "            head_out = model.model.layers[layer_idx].self_attn.o_proj.input[0][0]\n",
    "            hidden_act_clean[layer_idx] = head_out.cpu().save()\n",
    "            grads[layer_idx] = head_out.grad.cpu().save()\n",
    "\n",
    "        metric_clean = metric_fn(model, clean_target, corrupt_target)\n",
    "        metric_clean.sum().backward()\n",
    "\n",
    "    hidden_act_clean = {k: v.value.cpu() for k, v in hidden_act_clean.items()}\n",
    "    grads = {k: v.value.cpu() for k, v in grads.items()}\n",
    "    \n",
    "    model.zero_grad(set_to_none=True)\n",
    "    torch.cuda.empty_cache()\n",
    "    \n",
    "    with torch.no_grad():\n",
    "        with model.trace(corrupt_prompt, scan=False, validate=False), torch.inference_mode():\n",
    "            for layer_idx in range(model.config.num_hidden_layers):\n",
    "                head_out = model.model.layers[layer_idx].self_attn.o_proj.input[0][0]\n",
    "                hidden_act_corrupt[layer_idx] = head_out.cpu().save()\n",
    "\n",
    "            metric_corrupt = metric_fn(model, clean_target, corrupt_target)\n",
    "\n",
    "#     total_effect = (metric_corrupt.value - metric_clean.value).detach().cpu()\n",
    "    hidden_act_corrupt = {k: v.value.cpu() for k, v in hidden_act_corrupt.items()}\n",
    "    \n",
    "    torch.cuda.empty_cache()\n",
    "\n",
    "    d_head = model.config.hidden_size // model.config.num_attention_heads\n",
    "    with torch.no_grad(), torch.inference_mode():\n",
    "        for layer_idx in range(model.config.num_hidden_layers):\n",
    "            clean_state, corrupt_state, grad = hidden_act_clean[layer_idx], hidden_act_corrupt[layer_idx], grads[layer_idx]\n",
    "            delta = (corrupt_state - clean_state).detach()\n",
    "            score = delta * grad\n",
    "\n",
    "            # Averaging over all batch items and analysing components only at last token position\n",
    "            score = score.sum(dim=0)[-1]\n",
    "            score = rearrange(score, \"(n_heads d_head) -> n_heads d_head\", n_heads=model.config.num_attention_heads)\n",
    "            score = reduce(score, \"n_heads d_head -> n_heads\", \"sum\")\n",
    "            attribution_score[batch_idx][layer_idx] = score\n",
    "\n",
    "        del hidden_act_clean[layer_idx], hidden_act_corrupt[layer_idx], grads[layer_idx], clean_state, corrupt_state, grad, score\n",
    "        torch.cuda.empty_cache()\n",
    "\n",
    "    torch.save(attribution_score, \"attribution_score.pt\")"
   ]
  },
  {
   "cell_type": "code",
   "execution_count": 19,
   "metadata": {},
   "outputs": [],
   "source": [
    "effects = attribution_score.mean(dim=0)\n",
    "effects = effects.flip(0)"
   ]
  },
  {
   "cell_type": "code",
   "execution_count": 20,
   "metadata": {},
   "outputs": [
    {
     "data": {
      "image/png": "[encoded data removed]",
      "text/plain": [
       "<Figure size 800x800 with 2 Axes>"
      ]
     },
     "metadata": {},
     "output_type": "display_data"
    }
   ],
   "source": [
    "# Visualize the effects list using a heatmap\n",
    "plt.figure(figsize=(8, 8))\n",
    "sns.heatmap(effects, cmap=\"coolwarm\", center=0, cbar=True)\n",
    "plt.xlabel(\"Head Index\")\n",
    "plt.ylabel(\"Layer Index\")\n",
    "plt.title(\"Effect of Attention Heads on the Metric\")\n",
    "plt.yticks(ticks=list(range(4, model.config.num_hidden_layers, 4)), labels=list(range(4, model.config.num_hidden_layers, 4))[::-1])\n",
    "plt.show()"
   ]
  },
  {
   "cell_type": "code",
   "execution_count": 21,
   "metadata": {},
   "outputs": [],
   "source": [
    "effects = effects.flip(0)"
   ]
  },
  {
   "cell_type": "code",
   "execution_count": 29,
   "metadata": {},
   "outputs": [],
   "source": [
    "k = 50\n",
    "topk_heads = effects.view(-1).topk(k).indices\n",
    "topk_heads = [((idx // model.config.num_attention_heads).item(), (idx % model.config.num_attention_heads).item()) for idx in topk_heads]"
   ]
  },
  {
   "cell_type": "code",
   "execution_count": 30,
   "metadata": {},
   "outputs": [
    {
     "name": "stdout",
     "output_type": "stream",
     "text": [
      "Layer 39, Head 40\n",
      "Layer 77, Head 47\n",
      "Layer 55, Head 20\n",
      "Layer 77, Head 44\n",
      "Layer 35, Head 19\n",
      "Layer 78, Head 16\n",
      "Layer 39, Head 42\n",
      "Layer 35, Head 17\n",
      "Layer 64, Head 26\n",
      "Layer 39, Head 45\n",
      "Layer 79, Head 32\n",
      "Layer 77, Head 46\n",
      "Layer 77, Head 42\n",
      "Layer 35, Head 18\n",
      "Layer 53, Head 21\n",
      "Layer 55, Head 17\n",
      "Layer 53, Head 1\n",
      "Layer 74, Head 40\n",
      "Layer 35, Head 43\n",
      "Layer 71, Head 2\n",
      "Layer 39, Head 43\n",
      "Layer 75, Head 30\n",
      "Layer 35, Head 40\n",
      "Layer 74, Head 9\n",
      "Layer 74, Head 13\n",
      "Layer 64, Head 28\n",
      "Layer 39, Head 11\n",
      "Layer 35, Head 20\n",
      "Layer 42, Head 31\n",
      "Layer 37, Head 2\n",
      "Layer 73, Head 62\n",
      "Layer 31, Head 36\n",
      "Layer 49, Head 2\n",
      "Layer 52, Head 55\n",
      "Layer 54, Head 15\n",
      "Layer 34, Head 7\n",
      "Layer 53, Head 2\n",
      "Layer 73, Head 2\n",
      "Layer 34, Head 6\n",
      "Layer 77, Head 43\n",
      "Layer 70, Head 5\n",
      "Layer 38, Head 51\n",
      "Layer 45, Head 6\n",
      "Layer 71, Head 5\n",
      "Layer 39, Head 46\n",
      "Layer 77, Head 50\n",
      "Layer 78, Head 47\n",
      "Layer 35, Head 23\n",
      "Layer 38, Head 49\n",
      "Layer 37, Head 6\n"
     ]
    }
   ],
   "source": [
    "for l, h in topk_heads:\n",
    "    print(f\"Layer {l}, Head {h}\")"
   ]
  },
  {
   "cell_type": "code",
   "execution_count": null,
   "metadata": {},
   "outputs": [],
   "source": []
  }
 ],
 "metadata": {
  "kernelspec": {
   "display_name": "anima",
   "language": "python",
   "name": "anima"
  },
  "language_info": {
   "codemirror_mode": {
    "name": "ipython",
    "version": 3
   },
   "file_extension": ".py",
   "mimetype": "text/x-python",
   "name": "python",
   "nbconvert_exporter": "python",
   "pygments_lexer": "ipython3",
   "version": "3.10.4"
  }
 },
 "nbformat": 4,
 "nbformat_minor": 4
}
