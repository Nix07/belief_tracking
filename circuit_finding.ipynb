{
 "cells": [
  {
   "cell_type": "code",
   "execution_count": 1,
   "metadata": {},
   "outputs": [],
   "source": [
    "import os\n",
    "import random\n",
    "import csv\n",
    "import torch\n",
    "from datasets import Dataset\n",
    "from torch.utils.data import DataLoader\n",
    "from tqdm import tqdm\n",
    "from nnsight import LanguageModel\n",
    "import matplotlib.pyplot as plt\n",
    "import seaborn as sns\n",
    "from collections import defaultdict\n",
    "from einops import einsum, rearrange, reduce\n",
    "\n",
    "from utils import get_both_stories, get_control_corrupt_data\n",
    "\n",
    "random.seed(10)\n",
    "\n",
    "%load_ext autoreload\n",
    "%autoreload 2"
   ]
  },
  {
   "cell_type": "markdown",
   "metadata": {},
   "source": [
    "# Loading model"
   ]
  },
  {
   "cell_type": "code",
   "execution_count": 2,
   "metadata": {},
   "outputs": [
    {
     "name": "stderr",
     "output_type": "stream",
     "text": [
      "Special tokens have been added in the vocabulary, make sure the associated word embeddings are fine-tuned or trained.\n",
      "The `load_in_4bit` and `load_in_8bit` arguments are deprecated and will be removed in the future versions. Please, pass a `BitsAndBytesConfig` object in `quantization_config` argument instead.\n"
     ]
    },
    {
     "data": {
      "application/vnd.jupyter.widget-view+json": {
       "model_id": "3fa25164d69e4cf090d2da3c48357b2e",
       "version_major": 2,
       "version_minor": 0
      },
      "text/plain": [
       "Loading checkpoint shards:   0%|          | 0/30 [00:00<?, ?it/s]"
      ]
     },
     "metadata": {},
     "output_type": "display_data"
    }
   ],
   "source": [
    "if os.environ.get(\"USER\") == 'nikhil_prakash':\n",
    "    model = LanguageModel(\n",
    "        \"/data/public_models/huggingface/meta-llama/Meta-Llama-3-70B-Instruct\",\n",
    "        device_map=\"auto\",\n",
    "        load_in_4bit=True,\n",
    "        torch_dtype=torch.float16,\n",
    "        dispatch=True,\n",
    "    )\n",
    "else:\n",
    "    model = LanguageModel(\n",
    "        \"meta-llama/Meta-Llama-3-70B-Instruct\",\n",
    "        device_map=\"auto\",\n",
    "        load_in_4bit=True,\n",
    "        torch_dtype=torch.float16,\n",
    "        dispatch=True,\n",
    "    )"
   ]
  },
  {
   "cell_type": "markdown",
   "metadata": {
    "jp-MarkdownHeadingCollapsed": true
   },
   "source": [
    "# Loading data"
   ]
  },
  {
   "cell_type": "code",
   "execution_count": 3,
   "metadata": {},
   "outputs": [],
   "source": [
    "variable = \"0_forward_belief\"\n",
    "\n",
    "with open(f\"data/bigtom/{variable}_true_belief/stories.csv\", \"r\") as f:\n",
    "    reader = csv.reader(f, delimiter=\";\")\n",
    "    tb_data = list(reader)\n",
    "\n",
    "with open(f\"data/bigtom/{variable}_false_belief/stories.csv\", \"r\") as f:\n",
    "    reader = csv.reader(f, delimiter=\";\")\n",
    "    fb_data = list(reader)\n",
    "\n",
    "with open(f\"data/bigtom/{variable}_true_control/stories.csv\", \"r\") as f:\n",
    "    reader = csv.reader(f, delimiter=\";\")\n",
    "    tb_control = list(reader)\n",
    "\n",
    "with open(f\"data/bigtom/{variable}_false_control/stories.csv\", \"r\") as f:\n",
    "    reader = csv.reader(f, delimiter=\";\")\n",
    "    fb_control = list(reader)"
   ]
  },
  {
   "cell_type": "markdown",
   "metadata": {},
   "source": [
    "# Circuit Discovery"
   ]
  },
  {
   "cell_type": "code",
   "execution_count": 178,
   "metadata": {},
   "outputs": [],
   "source": [
    "# n_samples = 20\n",
    "# batch_size = 1\n",
    "# samples = get_control_corrupt_data(tb_data, tb_control, n_samples)\n",
    "\n",
    "# dataset = Dataset.from_list(samples)\n",
    "# dataloader = DataLoader(dataset, batch_size=batch_size, shuffle=False)"
   ]
  },
  {
   "cell_type": "code",
   "execution_count": 4,
   "metadata": {},
   "outputs": [],
   "source": [
    "n_samples = 40\n",
    "batch_size = 1\n",
    "clean_samples = []\n",
    "method_name = \"0shot\"\n",
    "\n",
    "with open(f\"prompt_instructions/{method_name}.txt\", \"r\") as f:\n",
    "    instructions = f.read()\n",
    "\n",
    "for example in tb_data[: n_samples//2] + fb_data[: n_samples//2]:\n",
    "    story, clean_question_raw, correct_answer, wrong_answer = example\n",
    "    answers = [correct_answer, wrong_answer]\n",
    "    random.shuffle(answers)\n",
    "\n",
    "    clean_question = f\"{clean_question_raw}\\nChoose one of the following:\\na) {answers[0]}\\nb) {answers[1]}\"\n",
    "    corrupt_question = f\"{clean_question_raw}\\nChoose one of the following:\\na) {answers[1]}\\nb) {answers[0]}\"\n",
    "\n",
    "    clean_prompt = f\"Instructions: {instructions}\\nStory: {story}\\nQuestion: {clean_question}\\nAnswer:\"\n",
    "    corrupt_prompt = f\"Instructions: {instructions}\\nStory: {story}\\nQuestion: {corrupt_question}\\nAnswer:\"\n",
    "\n",
    "    if answers[0] == correct_answer:\n",
    "        clean_target = \" a\"\n",
    "        corrupt_target = \" b\"\n",
    "    else:\n",
    "        clean_target = \" b\"\n",
    "        corrupt_target = \" a\"\n",
    "\n",
    "    clean_samples.append({\"clean_prompt\": clean_prompt, \"clean_target\": clean_target, \"corrupt_prompt\": corrupt_prompt, \"corrupt_target\": corrupt_target})\n",
    "\n",
    "# Create dataloader using clean_samples\n",
    "dataset = Dataset.from_list(clean_samples)\n",
    "dataloader = DataLoader(dataset, batch_size=batch_size, shuffle=False)"
   ]
  },
  {
   "cell_type": "code",
   "execution_count": 5,
   "metadata": {},
   "outputs": [],
   "source": [
    "def metric_fn(model, clean_target, corrupt_target):\n",
    "    clean_target_token_idx = model.tokenizer(clean_target, return_tensors=\"pt\", padding=False)[\"input_ids\"][:, -1]\n",
    "    corrupt_target_token_idx = model.tokenizer(corrupt_target, return_tensors=\"pt\", padding=False)[\"input_ids\"][:, -1]\n",
    "\n",
    "    logit_diff = torch.gather(\n",
    "        model.lm_head.output[:, -1], dim=-1, index=corrupt_target_token_idx.view(-1, 1)\n",
    "    ) - torch.gather(\n",
    "        model.lm_head.output[:, -1], dim=-1, index=clean_target_token_idx.view(-1, 1)\n",
    "    )\n",
    "    logit_diff = logit_diff.squeeze(-1)\n",
    "    return logit_diff"
   ]
  },
  {
   "cell_type": "markdown",
   "metadata": {},
   "source": [
    "## Component Patching"
   ]
  },
  {
   "cell_type": "code",
   "execution_count": 206,
   "metadata": {},
   "outputs": [
    {
     "name": "stderr",
     "output_type": "stream",
     "text": [
      "100%|██████████| 20/20 [02:27<00:00,  7.37s/it]\n"
     ]
    }
   ],
   "source": [
    "n_layers = model.config.num_hidden_layers\n",
    "attribution_score = torch.zeros(len(dataloader), n_layers, model.config.num_attention_heads).cpu()\n",
    "\n",
    "for batch_idx, batch in tqdm(enumerate(dataloader), total=len(dataloader)):\n",
    "    clean_prompt = batch[\"clean_prompt\"]\n",
    "    corrupt_prompt = batch[\"corrupt_prompt\"]\n",
    "    clean_target = batch[\"clean_target\"]\n",
    "    corrupt_target = batch[\"corrupt_target\"]\n",
    "#     corrupt_target = []\n",
    "#     for i in range(len(clean_target)):\n",
    "#         if clean_target[i] == \" a\":\n",
    "#             corrupt_target.append(\" b\")\n",
    "#         else:\n",
    "#             corrupt_target.append(\" a\")\n",
    "\n",
    "    upstream_act_clean, upstream_act_corrupt, grads_downstream = {}, {}, {}\n",
    "    with model.trace(clean_prompt, scan=False, validate=False):\n",
    "        for layer_idx in range(n_layers):\n",
    "            head_out = model.model.layers[layer_idx].self_attn.o_proj.input[0][0]\n",
    "            upstream_act_clean[layer_idx] = head_out.cpu().save()\n",
    "            grads_downstream[layer_idx] = head_out.grad.cpu().save()\n",
    "\n",
    "        metric_clean = metric_fn(model, clean_target, corrupt_target)\n",
    "        metric_clean.sum().backward()\n",
    "\n",
    "    upstream_act_clean = {k: v.value.cpu() for k, v in upstream_act_clean.items()}\n",
    "    grads_downstream = {k: v.value.cpu() for k, v in grads_downstream.items()}\n",
    "    \n",
    "    model.zero_grad(set_to_none=True)\n",
    "    torch.cuda.empty_cache()\n",
    "    \n",
    "    with torch.no_grad():\n",
    "        with model.trace(corrupt_prompt, scan=False, validate=False), torch.inference_mode():\n",
    "            for layer_idx in range(n_layers):\n",
    "                head_out = model.model.layers[layer_idx].self_attn.o_proj.input[0][0]\n",
    "                upstream_act_corrupt[layer_idx] = head_out.cpu().save()\n",
    "\n",
    "            metric_corrupt = metric_fn(model, clean_target, corrupt_target)\n",
    "\n",
    "    upstream_act_corrupt = {k: v.value.cpu() for k, v in upstream_act_corrupt.items()}\n",
    "    \n",
    "    torch.cuda.empty_cache()\n",
    "\n",
    "    d_head = model.config.hidden_size // model.config.num_attention_heads\n",
    "    with torch.no_grad(), torch.inference_mode():\n",
    "        for layer_idx in range(n_layers):\n",
    "            clean_state, corrupt_state, grad = upstream_act_clean[layer_idx], upstream_act_corrupt[layer_idx], grads_downstream[layer_idx]\n",
    "            clean_state, corrupt_state, grad = clean_state[:, -1], corrupt_state[:, -1], grad[:, -1]\n",
    "            delta = (corrupt_state - clean_state).detach()\n",
    "            score = delta * grad\n",
    "\n",
    "            # Averaging over all batch items and analysing components only at last token position\n",
    "            score = score.mean(dim=0)\n",
    "            score = rearrange(score, \"(n_heads d_head) -> n_heads d_head\", n_heads=model.config.num_attention_heads)\n",
    "            score = reduce(score, \"n_heads d_head -> n_heads\", \"sum\")\n",
    "            attribution_score[batch_idx][layer_idx] = score\n",
    "\n",
    "        del upstream_act_clean[layer_idx], upstream_act_corrupt[layer_idx], grads_downstream[layer_idx], clean_state, corrupt_state, grad, score\n",
    "        torch.cuda.empty_cache()\n",
    "\n",
    "torch.save(attribution_score, \"option_heads_attribution_score.pt\")"
   ]
  },
  {
   "cell_type": "code",
   "execution_count": 193,
   "metadata": {},
   "outputs": [
    {
     "data": {
      "image/png": "[encoded data removed]",
      "text/plain": [
       "<Figure size 800x500 with 2 Axes>"
      ]
     },
     "metadata": {},
     "output_type": "display_data"
    }
   ],
   "source": [
    "attribution_score = torch.load(\"story_heads_attribution_score.pt\")\n",
    "story_head_effects = attribution_score.mean(dim=0)\n",
    "\n",
    "# Visualize the effects list using a heatmap\n",
    "plt.figure(figsize=(8, 5))\n",
    "sns.heatmap(story_head_effects.flip(0), cmap=\"coolwarm\", center=0, cbar=True)\n",
    "plt.xlabel(\"Head Index\")\n",
    "plt.ylabel(\"Layer Index\")\n",
    "plt.title(\"Effect of Attention Heads on the Metric\")\n",
    "plt.yticks(ticks=list(range(2, n_layers, 2)), labels=list(range(2, n_layers, 2))[::-1])\n",
    "plt.show()"
   ]
  },
  {
   "cell_type": "code",
   "execution_count": 198,
   "metadata": {},
   "outputs": [
    {
     "name": "stdout",
     "output_type": "stream",
     "text": [
      "Layer 14, Head 21\n",
      "Layer 1, Head 27\n",
      "Layer 1, Head 29\n",
      "Layer 10, Head 55\n",
      "Layer 1, Head 61\n",
      "Layer 1, Head 42\n",
      "Layer 18, Head 45\n",
      "Layer 4, Head 48\n",
      "Layer 19, Head 38\n",
      "Layer 10, Head 29\n",
      "Layer 14, Head 45\n",
      "Layer 12, Head 24\n",
      "Layer 1, Head 36\n",
      "Layer 12, Head 9\n",
      "Layer 11, Head 60\n",
      "Layer 16, Head 46\n",
      "Layer 11, Head 6\n",
      "Layer 18, Head 63\n",
      "Layer 17, Head 13\n",
      "Layer 19, Head 4\n",
      "Layer 1, Head 56\n",
      "Layer 19, Head 5\n",
      "Layer 16, Head 1\n",
      "Layer 1, Head 45\n",
      "Layer 10, Head 12\n",
      "Layer 18, Head 43\n",
      "Layer 1, Head 19\n",
      "Layer 3, Head 7\n",
      "Layer 17, Head 9\n",
      "Layer 17, Head 48\n"
     ]
    }
   ],
   "source": [
    "k = 30\n",
    "topk_heads = story_head_effects.view(-1).topk(k, largest=True).indices\n",
    "top_story_heads = [((idx // model.config.num_attention_heads).item(), (idx % model.config.num_attention_heads).item()) for idx in topk_heads]\n",
    "for l, h in top_story_heads:\n",
    "    print(f\"Layer {l}, Head {h}\")"
   ]
  },
  {
   "cell_type": "code",
   "execution_count": null,
   "metadata": {},
   "outputs": [],
   "source": []
  },
  {
   "cell_type": "code",
   "execution_count": null,
   "metadata": {},
   "outputs": [],
   "source": []
  },
  {
   "cell_type": "code",
   "execution_count": 9,
   "metadata": {},
   "outputs": [
    {
     "data": {
      "image/png": "[encoded data removed]",
      "text/plain": [
       "<Figure size 800x800 with 2 Axes>"
      ]
     },
     "metadata": {},
     "output_type": "display_data"
    }
   ],
   "source": [
    "attribution_score = torch.load(\"option_heads_attribution_score.pt\")\n",
    "option_head_effects = attribution_score.mean(dim=0)\n",
    "\n",
    "# Visualize the effects list using a heatmap\n",
    "plt.figure(figsize=(8, 8))\n",
    "sns.heatmap(option_head_effects.flip(0), cmap=\"coolwarm\", center=0, cbar=True)\n",
    "plt.xlabel(\"Head Index\")\n",
    "plt.ylabel(\"Layer Index\")\n",
    "plt.title(\"Effect of Attention Heads on the Metric\")\n",
    "plt.yticks(ticks=list(range(4, model.config.num_hidden_layers, 4)), labels=list(range(4, model.config.num_hidden_layers, 4))[::-1])\n",
    "plt.show()"
   ]
  },
  {
   "cell_type": "code",
   "execution_count": 10,
   "metadata": {
    "scrolled": true
   },
   "outputs": [
    {
     "name": "stdout",
     "output_type": "stream",
     "text": [
      "Layer 39, Head 40\n",
      "Layer 77, Head 47\n",
      "Layer 77, Head 44\n",
      "Layer 55, Head 20\n",
      "Layer 35, Head 19\n",
      "Layer 78, Head 16\n",
      "Layer 39, Head 45\n",
      "Layer 35, Head 17\n",
      "Layer 39, Head 42\n",
      "Layer 64, Head 26\n"
     ]
    }
   ],
   "source": [
    "k = 10\n",
    "topk_heads = option_head_effects.view(-1).topk(k, largest=True).indices\n",
    "top_option_heads = [((idx // model.config.num_attention_heads).item(), (idx % model.config.num_attention_heads).item()) for idx in topk_heads]\n",
    "for l, h in top_option_heads:\n",
    "    print(f\"Layer {l}, Head {h}\")"
   ]
  },
  {
   "cell_type": "code",
   "execution_count": 11,
   "metadata": {},
   "outputs": [
    {
     "name": "stdout",
     "output_type": "stream",
     "text": [
      "#Heads in circuit: 10\n"
     ]
    }
   ],
   "source": [
    "circuit_heads = top_option_heads\n",
    "print(f\"#Heads in circuit: {len(circuit_heads)}\")"
   ]
  },
  {
   "cell_type": "markdown",
   "metadata": {},
   "source": [
    "## Faithfulness"
   ]
  },
  {
   "cell_type": "code",
   "execution_count": 12,
   "metadata": {},
   "outputs": [
    {
     "name": "stderr",
     "output_type": "stream",
     "text": [
      "  0%|          | 0/40 [00:00<?, ?it/s]You're using a PreTrainedTokenizerFast tokenizer. Please note that with a fast tokenizer, using the `__call__` method is faster than using a method to encode the text followed by a call to the `pad` method to get a padded encoding.\n",
      "/data/nikhil_prakash/miniconda/envs/anima/lib/python3.10/site-packages/bitsandbytes/nn/modules.py:226: UserWarning: Input type into Linear4bit is torch.float16, but bnb_4bit_compute_dtype=torch.float32 (default). This will lead to slow inference or training speed.\n",
      "  warnings.warn(f'Input type into Linear4bit is torch.float16, but bnb_4bit_compute_dtype=torch.float32 (default). This will lead to slow inference or training speed.')\n",
      "100%|██████████| 40/40 [01:34<00:00,  2.37s/it]\n"
     ]
    }
   ],
   "source": [
    "d_head = model.config.hidden_size // model.config.num_attention_heads\n",
    "mean_act = torch.zeros(model.config.num_hidden_layers, model.config.num_attention_heads, d_head)\n",
    "\n",
    "with torch.no_grad():\n",
    "    for batch in tqdm(dataloader):\n",
    "        clean_prompt = batch[\"clean_prompt\"]\n",
    "        with model.trace(clean_prompt, scan=False, validate=False):\n",
    "            for layer_idx in range(model.config.num_hidden_layers):\n",
    "                head_out = model.model.layers[layer_idx].self_attn.o_proj.input[0][0]\n",
    "                head_out = rearrange(head_out, \n",
    "                                     \"batch seqlen (n_heads d_head) -> batch seqlen n_heads d_head\", \n",
    "                                     n_heads=model.config.num_attention_heads)\n",
    "                head_out = head_out.sum(dim=0)[-1]\n",
    "                mean_act[layer_idx] += head_out.save()\n",
    "\n",
    "    for layer_idx in range(model.config.num_hidden_layers):\n",
    "        for head_idx in range(model.config.num_attention_heads):\n",
    "            mean_act[layer_idx][head_idx] = mean_act[layer_idx][head_idx] / len(dataloader.dataset)"
   ]
  },
  {
   "cell_type": "code",
   "execution_count": 14,
   "metadata": {
    "scrolled": true
   },
   "outputs": [
    {
     "name": "stderr",
     "output_type": "stream",
     "text": [
      "100%|██████████| 40/40 [02:04<00:00,  3.12s/it]\n"
     ]
    },
    {
     "name": "stdout",
     "output_type": "stream",
     "text": [
      "Head: (39, 40) | Acc: 0.9\n"
     ]
    },
    {
     "name": "stderr",
     "output_type": "stream",
     "text": [
      "100%|██████████| 40/40 [02:04<00:00,  3.12s/it]\n"
     ]
    },
    {
     "name": "stdout",
     "output_type": "stream",
     "text": [
      "Head: (77, 47) | Acc: 0.45\n"
     ]
    },
    {
     "name": "stderr",
     "output_type": "stream",
     "text": [
      "100%|██████████| 40/40 [02:05<00:00,  3.13s/it]\n"
     ]
    },
    {
     "name": "stdout",
     "output_type": "stream",
     "text": [
      "Head: (77, 44) | Acc: 0.45\n"
     ]
    },
    {
     "name": "stderr",
     "output_type": "stream",
     "text": [
      "100%|██████████| 40/40 [02:05<00:00,  3.13s/it]\n"
     ]
    },
    {
     "name": "stdout",
     "output_type": "stream",
     "text": [
      "Head: (55, 20) | Acc: 0.45\n"
     ]
    },
    {
     "name": "stderr",
     "output_type": "stream",
     "text": [
      "100%|██████████| 40/40 [02:04<00:00,  3.12s/it]\n"
     ]
    },
    {
     "name": "stdout",
     "output_type": "stream",
     "text": [
      "Head: (35, 19) | Acc: 0.9\n"
     ]
    },
    {
     "name": "stderr",
     "output_type": "stream",
     "text": [
      "100%|██████████| 40/40 [02:04<00:00,  3.12s/it]\n"
     ]
    },
    {
     "name": "stdout",
     "output_type": "stream",
     "text": [
      "Head: (78, 16) | Acc: 0.45\n"
     ]
    },
    {
     "name": "stderr",
     "output_type": "stream",
     "text": [
      "100%|██████████| 40/40 [02:04<00:00,  3.12s/it]\n"
     ]
    },
    {
     "name": "stdout",
     "output_type": "stream",
     "text": [
      "Head: (39, 45) | Acc: 0.93\n"
     ]
    },
    {
     "name": "stderr",
     "output_type": "stream",
     "text": [
      "100%|██████████| 40/40 [02:04<00:00,  3.11s/it]\n"
     ]
    },
    {
     "name": "stdout",
     "output_type": "stream",
     "text": [
      "Head: (35, 17) | Acc: 0.85\n"
     ]
    },
    {
     "name": "stderr",
     "output_type": "stream",
     "text": [
      "100%|██████████| 40/40 [02:04<00:00,  3.12s/it]\n"
     ]
    },
    {
     "name": "stdout",
     "output_type": "stream",
     "text": [
      "Head: (39, 42) | Acc: 0.85\n"
     ]
    },
    {
     "name": "stderr",
     "output_type": "stream",
     "text": [
      "100%|██████████| 40/40 [02:05<00:00,  3.13s/it]"
     ]
    },
    {
     "name": "stdout",
     "output_type": "stream",
     "text": [
      "Head: (64, 26) | Acc: 0.45\n"
     ]
    },
    {
     "name": "stderr",
     "output_type": "stream",
     "text": [
      "\n"
     ]
    }
   ],
   "source": [
    "accs = {}\n",
    "\n",
    "with torch.no_grad():\n",
    "    for l, h in circuit_heads:\n",
    "        correct, total = 0, 0\n",
    "        for batch in tqdm(dataloader):\n",
    "            prompt = batch[\"clean_prompt\"]\n",
    "            target = batch[\"clean_target\"]\n",
    "\n",
    "            with model.trace(prompt, scan=False, validate=False):\n",
    "                for layer_idx in range(model.config.num_hidden_layers):\n",
    "                    head_out = model.model.layers[layer_idx].self_attn.o_proj.input[0][0]\n",
    "                    head_out = rearrange(head_out, \"batch seqlen (n_heads d_head) -> batch seqlen n_heads d_head\", \n",
    "                                         n_heads=model.config.num_attention_heads)\n",
    "\n",
    "                    for head_idx in range(model.config.num_attention_heads):\n",
    "                        if (layer_idx != l) or (head_idx != h): \n",
    "                            head_out[:, -1, head_idx] = mean_act[layer_idx, head_idx]\n",
    "\n",
    "                    head_out = rearrange(head_out, \"batch seqlen n_heads d_head -> batch seqlen (n_heads d_head)\", \n",
    "                                         n_heads=model.config.num_attention_heads)\n",
    "\n",
    "                    model.model.layers[layer_idx].self_attn.o_proj.output = model.model.layers[layer_idx].self_attn.o_proj(\n",
    "                                                                                head_out\n",
    "                                                                            )\n",
    "\n",
    "                preds = model.lm_head.output[:, -1].argmax(dim=-1).save()\n",
    "\n",
    "            for i in range(len(target)):\n",
    "                if model.tokenizer.decode(preds[i].item()).strip() == target[i].strip():\n",
    "                    correct += 1\n",
    "                total += 1\n",
    "\n",
    "        acc = round(correct/total, 2)\n",
    "        print(f\"Head: ({l}, {h}) | Acc: {acc}\")\n",
    "        accs[(l, h)] = acc"
   ]
  },
  {
   "cell_type": "code",
   "execution_count": 15,
   "metadata": {},
   "outputs": [
    {
     "data": {
      "text/plain": [
       "{(39, 40): 0.9,\n",
       " (77, 47): 0.45,\n",
       " (77, 44): 0.45,\n",
       " (55, 20): 0.45,\n",
       " (35, 19): 0.9,\n",
       " (78, 16): 0.45,\n",
       " (39, 45): 0.93,\n",
       " (35, 17): 0.85,\n",
       " (39, 42): 0.85,\n",
       " (64, 26): 0.45}"
      ]
     },
     "execution_count": 15,
     "metadata": {},
     "output_type": "execute_result"
    }
   ],
   "source": [
    "accs"
   ]
  },
  {
   "cell_type": "markdown",
   "metadata": {},
   "source": [
    "## Path Patching"
   ]
  },
  {
   "cell_type": "code",
   "execution_count": 30,
   "metadata": {},
   "outputs": [
    {
     "name": "stderr",
     "output_type": "stream",
     "text": [
      "100%|██████████| 4/4 [01:47<00:00, 26.92s/it]\n"
     ]
    }
   ],
   "source": [
    "downstream_nodes = [model.lm_head]\n",
    "upstream_nodes = [model.model.layers[l].self_attn.o_proj for l in range(model.config.num_hidden_layers)]\n",
    "attribution_score = torch.zeros(\n",
    "    len(dataloader), model.config.num_hidden_layers, model.config.num_attention_heads\n",
    ").cpu()\n",
    "\n",
    "for batch_idx, batch in tqdm(enumerate(dataloader), total=len(dataloader)):\n",
    "    clean_prompt = batch[\"clean_prompt\"]\n",
    "    corrupt_prompt = batch[\"corrupt_prompt\"]\n",
    "    clean_target = batch[\"clean_target\"]\n",
    "    corrupt_target = batch[\"corrupt_target\"]\n",
    "\n",
    "    # Computing the upstream activations and downstream gradients for clean prompt\n",
    "    upstream_act_clean, downstream_grads = {}, {}\n",
    "    with model.trace(clean_prompt, scan=False, validate=False):\n",
    "        for node in upstream_nodes:\n",
    "            node_name = node._module_path[1:]\n",
    "            head_out = node.input[0][0]\n",
    "            upstream_act_clean[node_name] = head_out.cpu().save()\n",
    "\n",
    "        for node in downstream_nodes:\n",
    "            node_name = node._module_path[1:]\n",
    "            downstream_grads[node_name] = node.input[0][0].grad.cpu().save()\n",
    "\n",
    "        metric_clean = metric_fn(model, clean_target, corrupt_target)\n",
    "        metric_clean.sum().backward()\n",
    "\n",
    "    upstream_act_clean = {k: v.value.cpu() for k, v in upstream_act_clean.items()}\n",
    "    downstream_grads = {k: v.value.cpu() for k, v in downstream_grads.items()}\n",
    "\n",
    "    model.zero_grad(set_to_none=True)\n",
    "    torch.cuda.empty_cache()\n",
    "\n",
    "\n",
    "    # Computing the upstream gradients for clean prompt\n",
    "    upstream_grads = defaultdict(dict)\n",
    "    for downstream_node in downstream_nodes:\n",
    "        downstream_node_name = downstream_node._module_path[1:]\n",
    "\n",
    "        with model.trace(clean_prompt, scan=False, validate=False):\n",
    "            for upstream_node in upstream_nodes:\n",
    "                upstream_node_name = upstream_node._module_path[1:]\n",
    "                upstream_grads[downstream_node_name][upstream_node_name] = (\n",
    "                    upstream_node.input[0][0].grad.cpu().save()\n",
    "                )\n",
    "\n",
    "            metric_score = downstream_node.input[0][0][:, -1].mean(0).sum(0)\n",
    "            metric_score.backward()\n",
    "\n",
    "        upstream_grads[downstream_node_name] = {\n",
    "            k: v.value.cpu() for k, v in upstream_grads[downstream_node_name].items()\n",
    "        }\n",
    "\n",
    "        model.zero_grad(set_to_none=True)\n",
    "        torch.cuda.empty_cache()\n",
    "\n",
    "\n",
    "    # Computing the upstream activations for corrupt prompt\n",
    "    upstream_act_corrupt = {}\n",
    "    with torch.no_grad():\n",
    "        with model.trace(\n",
    "            corrupt_prompt, scan=False, validate=False\n",
    "        ), torch.inference_mode():\n",
    "            for node in upstream_nodes:\n",
    "                node_name = node._module_path[1:]\n",
    "                head_out = node.input[0][0]\n",
    "                upstream_act_corrupt[node_name] = head_out.cpu().save()\n",
    "\n",
    "            metric_corrupt = metric_fn(model, clean_target, corrupt_target)\n",
    "\n",
    "    upstream_act_corrupt = {k: v.value.cpu() for k, v in upstream_act_corrupt.items()}\n",
    "\n",
    "    torch.cuda.empty_cache()\n",
    "\n",
    "    \n",
    "    # Computing the attribution score\n",
    "    for downstream_node in downstream_nodes:\n",
    "        downstream_node_name = downstream_node._module_path[1:]\n",
    "        downstream_grad = downstream_grads[downstream_node_name]\n",
    "\n",
    "        d_head = model.config.hidden_size // model.config.num_attention_heads\n",
    "        with torch.no_grad(), torch.inference_mode():\n",
    "            for upstream_node in upstream_nodes:\n",
    "                upstream_node_name = upstream_node._module_path[1:]\n",
    "                clean_state, corrupt_state = (\n",
    "                    upstream_act_clean[upstream_node_name],\n",
    "                    upstream_act_corrupt[upstream_node_name],\n",
    "                )\n",
    "                upstream_grad = upstream_grads[downstream_node_name][upstream_node_name]\n",
    "\n",
    "                delta = (corrupt_state - clean_state).detach()\n",
    "                score = downstream_grad * upstream_grad * delta\n",
    "\n",
    "                # Averaging over all batch items and analysing components only at last token position\n",
    "                score = score.mean(dim=0)[-1]\n",
    "                score = rearrange(\n",
    "                    score,\n",
    "                    \"(n_heads d_head) -> n_heads d_head\",\n",
    "                    n_heads=model.config.num_attention_heads,\n",
    "                )\n",
    "                score = reduce(score, \"n_heads d_head -> n_heads\", \"sum\")\n",
    "                \n",
    "                layer_idx = int(upstream_node_name.split('.')[2])\n",
    "                attribution_score[batch_idx][layer_idx] = score\n",
    "\n",
    "            del (\n",
    "                upstream_act_clean[upstream_node_name],\n",
    "                upstream_act_corrupt[upstream_node_name],\n",
    "                upstream_grads[downstream_node_name][upstream_node_name],\n",
    "                clean_state,\n",
    "                corrupt_state,\n",
    "                score,\n",
    "            )\n",
    "            torch.cuda.empty_cache()"
   ]
  },
  {
   "cell_type": "code",
   "execution_count": 31,
   "metadata": {},
   "outputs": [],
   "source": [
    "effects = attribution_score.mean(dim=0)"
   ]
  },
  {
   "cell_type": "code",
   "execution_count": 34,
   "metadata": {},
   "outputs": [
    {
     "data": {
      "image/png": "[encoded data removed]",
      "text/plain": [
       "<Figure size 800x800 with 2 Axes>"
      ]
     },
     "metadata": {},
     "output_type": "display_data"
    }
   ],
   "source": [
    "# Visualize the effects list using a heatmap\n",
    "plt.figure(figsize=(8, 8))\n",
    "sns.heatmap(effects.flip(0), cmap=\"coolwarm\", center=0, cbar=True)\n",
    "plt.xlabel(\"Head Index\")\n",
    "plt.ylabel(\"Layer Index\")\n",
    "plt.title(\"Effect of Attention Heads on the Metric\")\n",
    "plt.yticks(\n",
    "    ticks=list(range(4, model.config.num_hidden_layers, 4)),\n",
    "    labels=list(range(4, model.config.num_hidden_layers, 4))[::-1],\n",
    ")\n",
    "plt.show()"
   ]
  },
  {
   "cell_type": "code",
   "execution_count": 33,
   "metadata": {},
   "outputs": [
    {
     "name": "stdout",
     "output_type": "stream",
     "text": [
      "Layer 78, Head 33\n",
      "Layer 79, Head 36\n",
      "Layer 64, Head 26\n",
      "Layer 38, Head 50\n",
      "Layer 67, Head 60\n",
      "Layer 73, Head 0\n",
      "Layer 53, Head 0\n",
      "Layer 53, Head 21\n",
      "Layer 77, Head 21\n",
      "Layer 53, Head 3\n"
     ]
    }
   ],
   "source": [
    "k = 10\n",
    "topk_heads = effects.view(-1).topk(k).indices\n",
    "topk_heads = [((idx // model.config.num_attention_heads).item(), (idx % model.config.num_attention_heads).item()) for idx in topk_heads]\n",
    "for l, h in topk_heads:\n",
    "    print(f\"Layer {l}, Head {h}\")"
   ]
  },
  {
   "cell_type": "code",
   "execution_count": null,
   "metadata": {},
   "outputs": [],
   "source": []
  }
 ],
 "metadata": {
  "kernelspec": {
   "display_name": "Python 3 (ipykernel)",
   "language": "python",
   "name": "python3"
  },
  "language_info": {
   "codemirror_mode": {
    "name": "ipython",
    "version": 3
   },
   "file_extension": ".py",
   "mimetype": "text/x-python",
   "name": "python",
   "nbconvert_exporter": "python",
   "pygments_lexer": "ipython3",
   "version": "3.10.4"
  }
 },
 "nbformat": 4,
 "nbformat_minor": 4
}
